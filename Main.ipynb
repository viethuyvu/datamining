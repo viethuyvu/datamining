{
 "cells": [
  {
   "cell_type": "markdown",
   "id": "39d7d08f",
   "metadata": {},
   "source": [
    "# Understanding Data"
   ]
  },
  {
   "cell_type": "code",
   "execution_count": 17,
   "id": "219d3c63",
   "metadata": {},
   "outputs": [],
   "source": [
    "import pandas as pd\n",
    "\n",
    "df = pd.read_csv('./data/mutationc.csv')\n"
   ]
  },
  {
   "cell_type": "code",
   "execution_count": 18,
   "id": "67e825b6-e6a1-4706-950a-24765703585f",
   "metadata": {},
   "outputs": [
    {
     "name": "stdout",
     "output_type": "stream",
     "text": [
      "Number of unique mutations: 1144\n"
     ]
    }
   ],
   "source": [
    "# Number of unique mutations contained in the data file\n",
    "number_of_unique_mutations = df.columns[1:].shape[0]  # Exclude the first column which is the sample identifier\n",
    "print(f\"Number of unique mutations: {number_of_unique_mutations}\") #Exclude the column for sample identifier"
   ]
  },
  {
   "cell_type": "code",
   "execution_count": 19,
   "id": "35c886c5-e572-413e-a484-00b210d07dff",
   "metadata": {},
   "outputs": [
    {
     "name": "stdout",
     "output_type": "stream",
     "text": [
      "Number of samples: 201\n"
     ]
    }
   ],
   "source": [
    "# Number of individual samples contained in the data file\n",
    "sample_num = df.shape[0]\n",
    "print(f\"Number of samples: {sample_num}\")"
   ]
  },
  {
   "cell_type": "code",
   "execution_count": 20,
   "id": "13174796-0541-46f0-a10a-c43e5e8cabeb",
   "metadata": {},
   "outputs": [
    {
     "name": "stdout",
     "output_type": "stream",
     "text": [
      "Number of mutations for individual C1: 46\n"
     ]
    }
   ],
   "source": [
    "# Number of mutations for individual C1\n",
    "c1_row = df[df.iloc[:, 0] == 'C1'].iloc[0, 1:]  # Select row for C1, exclude identifier column\n",
    "num_mutations_c1 = (c1_row == 1).sum()\n",
    "print(f\"Number of mutations for individual C1: {num_mutations_c1}\")"
   ]
  },
  {
   "cell_type": "code",
   "execution_count": 21,
   "id": "612e4565-e56f-4fb2-abfc-310e57b10d50",
   "metadata": {},
   "outputs": [
    {
     "name": "stdout",
     "output_type": "stream",
     "text": [
      "Number of mutations for individual NC1: 6\n"
     ]
    }
   ],
   "source": [
    "# Number of mutations for individual NC1\n",
    "nc1_row = df[df.iloc[:,0]=='NC1'].iloc[0,1:] # Select row for NC1, exclude identifier column\n",
    "num_mutations_nc1 = (nc1_row == 1).sum()\n",
    "print(f\"Number of mutations for individual NC1: {num_mutations_nc1}\")"
   ]
  },
  {
   "cell_type": "code",
   "execution_count": 22,
   "id": "0b23a2be-1c39-4990-9dde-d2386ac25441",
   "metadata": {},
   "outputs": [
    {
     "name": "stdout",
     "output_type": "stream",
     "text": [
      "Average number of mutations per individual: 15.104\n"
     ]
    }
   ],
   "source": [
    "# The average number of mutations per individual\n",
    "mutation_data = df.iloc[:,1:] #data excluding classifier\n",
    "total_mutations = (mutation_data==1).sum(axis=1).sum()\n",
    "avg_mutations_per_individual = total_mutations/sample_num\n",
    "print(f\"Average number of mutations per individual: {avg_mutations_per_individual:.3f}\")"
   ]
  },
  {
   "cell_type": "code",
   "execution_count": 23,
   "id": "0558307e-3190-4e86-9b79-d4c0bd21ccaf",
   "metadata": {},
   "outputs": [
    {
     "name": "stdout",
     "output_type": "stream",
     "text": [
      "Maximum number of mutations is 204 for individual C0\n",
      "Minimum number of mutations is 1 for individual NC4\n"
     ]
    }
   ],
   "source": [
    "#The minimum and maximum number of mutations per individual\n",
    "mutation_counts = (mutation_data==1).sum(axis=1)\n",
    "max_idx = mutation_counts.idxmax()\n",
    "min_idx = mutation_counts.idxmin()\n",
    "\n",
    "max_id = df.iloc[max_idx,0]\n",
    "min_id = df.iloc[min_idx,0]\n",
    "\n",
    "print(f\"Maximum number of mutations is {mutation_counts[max_idx]} for individual {max_id}\")\n",
    "print(f\"Minimum number of mutations is {mutation_counts[min_idx]} for individual {min_id}\")"
   ]
  },
  {
   "cell_type": "code",
   "execution_count": 24,
   "id": "49b9b2e2-6538-405d-879c-2c6f824de367",
   "metadata": {},
   "outputs": [
    {
     "name": "stdout",
     "output_type": "stream",
     "text": [
      "Number of individuals with a mutation in the ‘BRAF’ gene: 33\n"
     ]
    }
   ],
   "source": [
    "# Number of individuals who have a mutation in the ‘BRAF’ gene\n",
    "braf_cols = df.columns[df.columns.str.contains('BRAF')]\n",
    "num_braf_mutations = (df[braf_cols] == 1).sum(axis=1)\n",
    "num_individuals_braf = (num_braf_mutations > 0).sum()\n",
    "print(f\"Number of individuals with a mutation in the ‘BRAF’ gene: {num_individuals_braf}\")"
   ]
  },
  {
   "cell_type": "code",
   "execution_count": 25,
   "id": "89a160e9",
   "metadata": {},
   "outputs": [
    {
     "name": "stdout",
     "output_type": "stream",
     "text": [
      "Number of individuals with a mutation in the ‘KRAS’ gene: 72\n"
     ]
    }
   ],
   "source": [
    "# Number of individuals who have a mutation in the ‘KRAS’ gene\n",
    "kras_cols = df.columns[df.columns.str.contains('KRAS')]\n",
    "num_kras_mutations = (df[kras_cols] == 1).sum(axis=1)\n",
    "num_individuals_kras = (num_kras_mutations > 0).sum()\n",
    "print(f\"Number of individuals with a mutation in the ‘KRAS’ gene: {num_individuals_kras}\")\n"
   ]
  },
  {
   "cell_type": "code",
   "execution_count": 26,
   "id": "e0751537",
   "metadata": {},
   "outputs": [
    {
     "name": "stdout",
     "output_type": "stream",
     "text": [
      "Average number of individuals per mutation: 2.654\n"
     ]
    }
   ],
   "source": [
    "# The average number of individuals per mutation\n",
    "avg_individuals_per_mutation = total_mutations/number_of_unique_mutations\n",
    "print(f\"Average number of individuals per mutation: {avg_individuals_per_mutation:.3f}\")\n"
   ]
  },
  {
   "cell_type": "code",
   "execution_count": 27,
   "id": "072d4755",
   "metadata": {},
   "outputs": [
    {
     "name": "stdout",
     "output_type": "stream",
     "text": [
      "Minimum number of individuals for a mutation: 1 (HEPACAM_GRCh37_11:124794736-124794736_Silent_SNP_G-G-A_G-G-T)\n",
      "Maximum number of individuals for a mutation: 42 (KRAS_GRCh37_12:25398284-25398284_Missense-Mutation_SNP_C-C-A_C-C-T_C-C-G)\n"
     ]
    }
   ],
   "source": [
    "# The minimum and maximum number of individuals per mutation\n",
    "mutation_counts_col = (mutation_data == 1).sum(axis=0)\n",
    "min_individuals_per_mutation = mutation_counts_col.min()\n",
    "max_individuals_per_mutation = mutation_counts_col.max()\n",
    "min_mutation_name = mutation_counts_col.idxmin()\n",
    "max_mutation_name = mutation_counts_col.idxmax()\n",
    "\n",
    "print(f\"Minimum number of individuals for a mutation: {min_individuals_per_mutation} ({min_mutation_name})\")\n",
    "print(f\"Maximum number of individuals for a mutation: {max_individuals_per_mutation} ({max_mutation_name})\")"
   ]
  },
  {
   "cell_type": "markdown",
   "id": "3561c9c4",
   "metadata": {},
   "source": [
    "# Preprocessing Data"
   ]
  },
  {
   "cell_type": "code",
   "execution_count": 28,
   "id": "2e1f78ae",
   "metadata": {},
   "outputs": [],
   "source": [
    "import matplotlib.pyplot as plt"
   ]
  },
  {
   "cell_type": "code",
   "execution_count": 29,
   "id": "0dff03a3",
   "metadata": {},
   "outputs": [
    {
     "data": {
      "text/plain": [
       "RangeIndex(start=0, stop=201, step=1)"
      ]
     },
     "execution_count": 29,
     "metadata": {},
     "output_type": "execute_result"
    }
   ],
   "source": [
    "df.index"
   ]
  },
  {
   "cell_type": "code",
   "execution_count": 30,
   "id": "73bfb59f",
   "metadata": {},
   "outputs": [
    {
     "data": {
      "text/plain": [
       "np.int64(3036)"
      ]
     },
     "execution_count": 30,
     "metadata": {},
     "output_type": "execute_result"
    }
   ],
   "source": [
    "total_mutations"
   ]
  },
  {
   "cell_type": "code",
   "execution_count": 31,
   "id": "85378900",
   "metadata": {},
   "outputs": [
    {
     "data": {
      "text/plain": [
       "<matplotlib.collections.PathCollection at 0x74b93ad275e0>"
      ]
     },
     "execution_count": 31,
     "metadata": {},
     "output_type": "execute_result"
    },
    {
     "data": {
      "image/png": "[encoded data removed]",
      "text/plain": [
       "<Figure size 1000x600 with 1 Axes>"
      ]
     },
     "metadata": {},
     "output_type": "display_data"
    }
   ],
   "source": [
    "#  identify outlier samples with scatterplot\n",
    "total_mutations_each_sample = (mutation_data==1).sum(axis=1)\n",
    "plt.figure(figsize=(10,6))\n",
    "plt.scatter(df.index,total_mutations_each_sample)"
   ]
  },
  {
   "cell_type": "code",
   "execution_count": 32,
   "id": "02b36def",
   "metadata": {},
   "outputs": [
    {
     "data": {
      "text/plain": [
       "<matplotlib.collections.PathCollection at 0x74b938b8b220>"
      ]
     },
     "execution_count": 32,
     "metadata": {},
     "output_type": "execute_result"
    },
    {
     "data": {
      "image/png": "[encoded data removed]",
      "text/plain": [
       "<Figure size 1000x600 with 1 Axes>"
      ]
     },
     "metadata": {},
     "output_type": "display_data"
    }
   ],
   "source": [
    "# identify outlier mutations with scatterplot\n",
    "mutation_each_individual = (mutation_data==1).sum(axis=0)\n",
    "plt.figure(figsize=(10,6))\n",
    "plt.scatter(mutation_data.columns,mutation_each_individual)"
   ]
  },
  {
   "cell_type": "markdown",
   "id": "e7590783",
   "metadata": {},
   "source": [
    "## Explore how the individual genetic mutations relate to the two categories of samples."
   ]
  },
  {
   "cell_type": "code",
   "execution_count": 33,
   "id": "f191bc01",
   "metadata": {},
   "outputs": [
    {
     "data": {
      "text/plain": [
       "KRAS_GRCh37_12:25398284-25398284_Missense-Mutation_SNP_C-C-A_C-C-T_C-C-G    42\n",
       "DRD5_GRCh37_4:9785349-9785349_3'UTR_SNP_G-G-C                               37\n",
       "BRAF_GRCh37_7:140453136-140453136_Missense-Mutation_SNP_A-A-T               33\n",
       "DRD5_GRCh37_4:9785421-9785421_3'UTR_SNP_G-G-T                               17\n",
       "RNF43_GRCh37_17:56435161-56435161_Frame-Shift-Del_DEL_C-C--                 16\n",
       "ZBTB20_GRCh37_3:114058003-114058003_Frame-Shift-Del_DEL_G-G--               15\n",
       "KRAS_GRCh37_12:25398281-25398281_Missense-Mutation_SNP_C-C-T                15\n",
       "TP53_GRCh37_17:7578406-7578406_Missense-Mutation_SNP_C-C-T                  14\n",
       "DOCK3_GRCh37_3:51417604-51417604_Frame-Shift-Del_DEL_C-C--                  13\n",
       "APC_GRCh37_5:112174631-112174631_Nonsense-Mutation_SNP_C-C-T                11\n",
       "dtype: int64"
      ]
     },
     "execution_count": 33,
     "metadata": {},
     "output_type": "execute_result"
    }
   ],
   "source": [
    "# top 10 features (mutations) when ranked by T (total occurrences in all samples)\n",
    "sorted_mutation_counts = mutation_each_individual.sort_values(ascending=False)\n",
    "sorted_mutation_counts.head(10)"
   ]
  },
  {
   "cell_type": "code",
   "execution_count": 34,
   "id": "9d2be05d",
   "metadata": {},
   "outputs": [
    {
     "data": {
      "text/plain": [
       "BRAF_GRCh37_7:140453136-140453136_Missense-Mutation_SNP_A-A-T               28\n",
       "DRD5_GRCh37_4:9785349-9785349_3'UTR_SNP_G-G-C                               27\n",
       "KRAS_GRCh37_12:25398284-25398284_Missense-Mutation_SNP_C-C-A_C-C-T_C-C-G    25\n",
       "DRD5_GRCh37_4:9785421-9785421_3'UTR_SNP_G-G-T                               13\n",
       "ZBTB20_GRCh37_3:114058003-114058003_Frame-Shift-Del_DEL_G-G--               13\n",
       "KRAS_GRCh37_12:25398281-25398281_Missense-Mutation_SNP_C-C-T                11\n",
       "DOCK3_GRCh37_3:51417604-51417604_Frame-Shift-Del_DEL_C-C--                  11\n",
       "RNF43_GRCh37_17:56435161-56435161_Frame-Shift-Del_DEL_C-C--                 10\n",
       "PGM5_GRCh37_9:70993145-70993145_Missense-Mutation_SNP_A-A-G                  8\n",
       "PLEKHA6_GRCh37_1:204228411-204228411_Frame-Shift-Del_DEL_C-C--               7\n",
       "dtype: int64"
      ]
     },
     "execution_count": 34,
     "metadata": {},
     "output_type": "execute_result"
    }
   ],
   "source": [
    "# top 10 features (mutations) when ranked by C (total occurrences in C samples)\n",
    "identifier_col = df.columns[0] \n",
    "\n",
    "df_C = df[df[identifier_col].str.match(r'^C\\d+$')]\n",
    "df_C_mutation_data = df_C.iloc[:,1:]\n",
    "mutation_each_individual_C = (df_C_mutation_data==1).sum(axis=0)\n",
    "mutation_each_individual_C_sorted = mutation_each_individual_C.sort_values(ascending=False)\n",
    "mutation_each_individual_C_sorted.head(10)"
   ]
  },
  {
   "cell_type": "code",
   "execution_count": 35,
   "id": "3aaa97f1",
   "metadata": {},
   "outputs": [
    {
     "data": {
      "text/plain": [
       "KRAS_GRCh37_12:25398284-25398284_Missense-Mutation_SNP_C-C-A_C-C-T_C-C-G    17\n",
       "DRD5_GRCh37_4:9785349-9785349_3'UTR_SNP_G-G-C                               10\n",
       "TP53_GRCh37_17:7577538-7577538_Missense-Mutation_SNP_C-C-T                   7\n",
       "TP53_GRCh37_17:7578406-7578406_Missense-Mutation_SNP_C-C-T                   7\n",
       "RNF43_GRCh37_17:56435161-56435161_Frame-Shift-Del_DEL_C-C--                  6\n",
       "TP53_GRCh37_17:7577094-7577094_Missense-Mutation_SNP_G-G-A                   6\n",
       "TP53_GRCh37_17:7577539-7577539_Missense-Mutation_SNP_G-G-A                   6\n",
       "BRAF_GRCh37_7:140453136-140453136_Missense-Mutation_SNP_A-A-T                5\n",
       "APC_GRCh37_5:112162891-112162891_Nonsense-Mutation_SNP_C-C-T                 5\n",
       "KRAS_GRCh37_12:25398281-25398281_Missense-Mutation_SNP_C-C-T                 4\n",
       "dtype: int64"
      ]
     },
     "execution_count": 35,
     "metadata": {},
     "output_type": "execute_result"
    }
   ],
   "source": [
    "# top 10 features (mutations) when ranked by NC (total occurrences in NC samples)\n",
    "\n",
    "df_NC = df[df[identifier_col].str.match(r'^NC\\d+$')]\n",
    "df_NC_mutation_data = df_NC.iloc[:,1:]\n",
    "mutation_each_individual_NC = (df_NC_mutation_data==1).sum(axis=0)\n",
    "mutation_each_individual_NC_sorted = mutation_each_individual_NC.sort_values(ascending=False)\n",
    "mutation_each_individual_NC_sorted.head(10)"
   ]
  },
  {
   "cell_type": "code",
   "execution_count": 36,
   "id": "e15713bf",
   "metadata": {},
   "outputs": [
    {
     "data": {
      "text/plain": [
       "BRAF_GRCh37_7:140453136-140453136_Missense-Mutation_SNP_A-A-T               26.923077\n",
       "DRD5_GRCh37_4:9785349-9785349_3'UTR_SNP_G-G-C                               25.961538\n",
       "KRAS_GRCh37_12:25398284-25398284_Missense-Mutation_SNP_C-C-A_C-C-T_C-C-G    24.038462\n",
       "DRD5_GRCh37_4:9785421-9785421_3'UTR_SNP_G-G-T                               12.500000\n",
       "ZBTB20_GRCh37_3:114058003-114058003_Frame-Shift-Del_DEL_G-G--               12.500000\n",
       "KRAS_GRCh37_12:25398281-25398281_Missense-Mutation_SNP_C-C-T                10.576923\n",
       "DOCK3_GRCh37_3:51417604-51417604_Frame-Shift-Del_DEL_C-C--                  10.576923\n",
       "RNF43_GRCh37_17:56435161-56435161_Frame-Shift-Del_DEL_C-C--                  9.615385\n",
       "PGM5_GRCh37_9:70993145-70993145_Missense-Mutation_SNP_A-A-G                  7.692308\n",
       "PLEKHA6_GRCh37_1:204228411-204228411_Frame-Shift-Del_DEL_C-C--               6.730769\n",
       "dtype: float64"
      ]
     },
     "execution_count": 36,
     "metadata": {},
     "output_type": "execute_result"
    }
   ],
   "source": [
    "# top 10 features (mutations) when ranked by %C (the percentage of ALL cancer samples containing mutation ‘i’)\n",
    "mutation_each_individual_C_percentage = mutation_each_individual_C / df_C.shape[0] * 100\n",
    "mutation_each_individual_C_percentage.sort_values(ascending=False).head(10)"
   ]
  },
  {
   "cell_type": "code",
   "execution_count": 37,
   "id": "1cdfe376",
   "metadata": {},
   "outputs": [
    {
     "data": {
      "text/plain": [
       "KRAS_GRCh37_12:25398284-25398284_Missense-Mutation_SNP_C-C-A_C-C-T_C-C-G    17.525773\n",
       "DRD5_GRCh37_4:9785349-9785349_3'UTR_SNP_G-G-C                               10.309278\n",
       "TP53_GRCh37_17:7577538-7577538_Missense-Mutation_SNP_C-C-T                   7.216495\n",
       "TP53_GRCh37_17:7578406-7578406_Missense-Mutation_SNP_C-C-T                   7.216495\n",
       "RNF43_GRCh37_17:56435161-56435161_Frame-Shift-Del_DEL_C-C--                  6.185567\n",
       "TP53_GRCh37_17:7577094-7577094_Missense-Mutation_SNP_G-G-A                   6.185567\n",
       "TP53_GRCh37_17:7577539-7577539_Missense-Mutation_SNP_G-G-A                   6.185567\n",
       "BRAF_GRCh37_7:140453136-140453136_Missense-Mutation_SNP_A-A-T                5.154639\n",
       "APC_GRCh37_5:112162891-112162891_Nonsense-Mutation_SNP_C-C-T                 5.154639\n",
       "KRAS_GRCh37_12:25398281-25398281_Missense-Mutation_SNP_C-C-T                 4.123711\n",
       "dtype: float64"
      ]
     },
     "execution_count": 37,
     "metadata": {},
     "output_type": "execute_result"
    }
   ],
   "source": [
    "# top 10 features (mutations) when ranked by %NC (the percentage of ALL non cancer samples containing mutation ‘i’)\n",
    "mutation_each_individual_NC_percentage = mutation_each_individual_NC / df_NC.shape[0] * 100\n",
    "mutation_each_individual_NC_percentage.sort_values(ascending=False).head(10)"
   ]
  },
  {
   "cell_type": "code",
   "execution_count": 38,
   "id": "7166edb1",
   "metadata": {},
   "outputs": [
    {
     "data": {
      "text/plain": [
       "BRAF_GRCh37_7:140453136-140453136_Missense-Mutation_SNP_A-A-T               21.768438\n",
       "DRD5_GRCh37_4:9785349-9785349_3'UTR_SNP_G-G-C                               15.652260\n",
       "ZBTB20_GRCh37_3:114058003-114058003_Frame-Shift-Del_DEL_G-G--               10.438144\n",
       "DOCK3_GRCh37_3:51417604-51417604_Frame-Shift-Del_DEL_C-C--                   8.515067\n",
       "DRD5_GRCh37_4:9785421-9785421_3'UTR_SNP_G-G-T                                8.376289\n",
       "SVIL_GRCh37_10:29760116-29760116_Frame-Shift-Del_DEL_C-C--                   6.730769\n",
       "RAB28_GRCh37_4:13485808-13485808_5'UTR_DEL_G-G--                             6.730769\n",
       "PLEKHA6_GRCh37_1:204228411-204228411_Frame-Shift-Del_DEL_C-C--               6.730769\n",
       "KRAS_GRCh37_12:25398284-25398284_Missense-Mutation_SNP_C-C-A_C-C-T_C-C-G     6.512688\n",
       "KRAS_GRCh37_12:25398281-25398281_Missense-Mutation_SNP_C-C-T                 6.453212\n",
       "dtype: float64"
      ]
     },
     "execution_count": 38,
     "metadata": {},
     "output_type": "execute_result"
    }
   ],
   "source": [
    "# top 10 features (mutations) when ranked by %C - %NC\n",
    "mutation_diff = mutation_each_individual_C_percentage - mutation_each_individual_NC_percentage\n",
    "mutation_diff.sort_values(ascending=False).head(10)"
   ]
  },
  {
   "cell_type": "code",
   "execution_count": 39,
   "id": "8148752f",
   "metadata": {},
   "outputs": [
    {
     "data": {
      "text/plain": [
       "XYLT2_GRCh37_17:48433967-48433967_Frame-Shift-Del_DEL_C-C--        6.528846\n",
       "ZBTB20_GRCh37_3:114058003-114058003_Frame-Shift-Del_DEL_G-G--      6.062500\n",
       "UBQLN2_GRCh37_X:56591874-56591874_Frame-Shift-Del_DEL_C-C--        5.596154\n",
       "MICAL3_GRCh37_22:18300932-18300932_Frame-Shift-Del_DEL_G-G--       5.596154\n",
       "PIK3CA_GRCh37_3:178952085-178952085_Missense-Mutation_SNP_A-A-G    5.596154\n",
       "BRAF_GRCh37_7:140453136-140453136_Missense-Mutation_SNP_A-A-T      5.223077\n",
       "DOCK3_GRCh37_3:51417604-51417604_Frame-Shift-Del_DEL_C-C--         5.129808\n",
       "PIK3CA_GRCh37_3:178936082-178936082_Missense-Mutation_SNP_G-G-A    4.663462\n",
       "ZDHHC8_GRCh37_22:20130522-20130522_Frame-Shift-Del_DEL_C-C--       4.663462\n",
       "APC_GRCh37_5:112116592-112116592_Nonsense-Mutation_SNP_C-C-T       4.663462\n",
       "dtype: float64"
      ]
     },
     "execution_count": 39,
     "metadata": {},
     "output_type": "execute_result"
    }
   ],
   "source": [
    "# top 10 features (mutations) when ranked by %C / %NC\n",
    "import numpy as np\n",
    "safe_nc_percentage = mutation_each_individual_NC_percentage.replace(0, np.nan)\n",
    "mutation_ratio = mutation_each_individual_C_percentage / safe_nc_percentage\n",
    "mutation_ration_filled = mutation_ratio.fillna(0)\n",
    "mutation_ratio.sort_values(ascending=False).head(10)\n"
   ]
  }
 ],
 "metadata": {
  "kernelspec": {
   "display_name": "Python 3",
   "language": "python",
   "name": "python3"
  },
  "language_info": {
   "codemirror_mode": {
    "name": "ipython",
    "version": 3
   },
   "file_extension": ".py",
   "mimetype": "text/x-python",
   "name": "python",
   "nbconvert_exporter": "python",
   "pygments_lexer": "ipython3",
   "version": "3.10.12"
  }
 },
 "nbformat": 4,
 "nbformat_minor": 5
}
