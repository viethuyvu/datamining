{
 "cells": [
  {
   "cell_type": "markdown",
   "id": "39d7d08f",
   "metadata": {},
   "source": [
    "# Understanding Data"
   ]
  },
  {
   "cell_type": "code",
   "execution_count": 1,
   "id": "219d3c63",
   "metadata": {},
   "outputs": [],
   "source": [
    "import pandas as pd\n",
    "\n",
    "df = pd.read_csv('./data/mutationc.csv')\n"
   ]
  },
  {
   "cell_type": "code",
   "execution_count": 2,
   "id": "67e825b6-e6a1-4706-950a-24765703585f",
   "metadata": {},
   "outputs": [
    {
     "name": "stdout",
     "output_type": "stream",
     "text": [
      "Number of unique mutations: 1144\n"
     ]
    }
   ],
   "source": [
    "# Number of unique mutations contained in the data file\n",
    "number_of_unique_mutations = df.columns[1:].shape[0]  # Exclude the first column which is the sample identifier\n",
    "print(f\"Number of unique mutations: {number_of_unique_mutations}\") #Exclude the column for sample identifier"
   ]
  },
  {
   "cell_type": "code",
   "execution_count": 3,
   "id": "35c886c5-e572-413e-a484-00b210d07dff",
   "metadata": {},
   "outputs": [
    {
     "name": "stdout",
     "output_type": "stream",
     "text": [
      "Number of samples: 201\n"
     ]
    }
   ],
   "source": [
    "# Number of individual samples contained in the data file\n",
    "sample_num = df.shape[0]\n",
    "print(f\"Number of samples: {sample_num}\")"
   ]
  },
  {
   "cell_type": "code",
   "execution_count": 4,
   "id": "13174796-0541-46f0-a10a-c43e5e8cabeb",
   "metadata": {},
   "outputs": [
    {
     "name": "stdout",
     "output_type": "stream",
     "text": [
      "Number of mutations for individual C1: 46\n"
     ]
    }
   ],
   "source": [
    "# Number of mutations for individual C1\n",
    "c1_row = df[df.iloc[:, 0] == 'C1'].iloc[0, 1:]  # Select row for C1, exclude identifier column\n",
    "num_mutations_c1 = (c1_row == 1).sum()\n",
    "print(f\"Number of mutations for individual C1: {num_mutations_c1}\")"
   ]
  },
  {
   "cell_type": "code",
   "execution_count": 5,
   "id": "612e4565-e56f-4fb2-abfc-310e57b10d50",
   "metadata": {},
   "outputs": [
    {
     "name": "stdout",
     "output_type": "stream",
     "text": [
      "Number of mutations for individual NC1: 6\n"
     ]
    }
   ],
   "source": [
    "# Number of mutations for individual NC1\n",
    "nc1_row = df[df.iloc[:,0]=='NC1'].iloc[0,1:] # Select row for NC1, exclude identifier column\n",
    "num_mutations_nc1 = (nc1_row == 1).sum()\n",
    "print(f\"Number of mutations for individual NC1: {num_mutations_nc1}\")"
   ]
  },
  {
   "cell_type": "code",
   "execution_count": 6,
   "id": "0b23a2be-1c39-4990-9dde-d2386ac25441",
   "metadata": {},
   "outputs": [
    {
     "name": "stdout",
     "output_type": "stream",
     "text": [
      "Average number of mutations per individual: 15.104\n"
     ]
    }
   ],
   "source": [
    "# The average number of mutations per individual\n",
    "mutation_data = df.iloc[:,1:] #data excluding classifier\n",
    "total_mutations = (mutation_data==1).sum(axis=1).sum()\n",
    "avg_mutations_per_individual = total_mutations/sample_num\n",
    "print(f\"Average number of mutations per individual: {avg_mutations_per_individual:.3f}\")"
   ]
  },
  {
   "cell_type": "code",
   "execution_count": 7,
   "id": "0558307e-3190-4e86-9b79-d4c0bd21ccaf",
   "metadata": {},
   "outputs": [
    {
     "name": "stdout",
     "output_type": "stream",
     "text": [
      "Maximum number of mutations is 204 for individual C0\n",
      "Minimum number of mutations is 1 for individual NC4\n"
     ]
    }
   ],
   "source": [
    "#The minimum and maximum number of mutations per individual\n",
    "mutation_counts = (mutation_data==1).sum(axis=1)\n",
    "max_idx = mutation_counts.idxmax()\n",
    "min_idx = mutation_counts.idxmin()\n",
    "\n",
    "max_id = df.iloc[max_idx,0]\n",
    "min_id = df.iloc[min_idx,0]\n",
    "\n",
    "print(f\"Maximum number of mutations is {mutation_counts[max_idx]} for individual {max_id}\")\n",
    "print(f\"Minimum number of mutations is {mutation_counts[min_idx]} for individual {min_id}\")"
   ]
  },
  {
   "cell_type": "code",
   "execution_count": 8,
   "id": "49b9b2e2-6538-405d-879c-2c6f824de367",
   "metadata": {},
   "outputs": [
    {
     "name": "stdout",
     "output_type": "stream",
     "text": [
      "Number of individuals with a mutation in the ‘BRAF’ gene: 33\n"
     ]
    }
   ],
   "source": [
    "# Number of individuals who have a mutation in the ‘BRAF’ gene\n",
    "braf_cols = df.columns[df.columns.str.contains('BRAF')]\n",
    "num_braf_mutations = (df[braf_cols] == 1).sum(axis=1)\n",
    "num_individuals_braf = (num_braf_mutations > 0).sum()\n",
    "print(f\"Number of individuals with a mutation in the ‘BRAF’ gene: {num_individuals_braf}\")"
   ]
  },
  {
   "cell_type": "code",
   "execution_count": 9,
   "id": "89a160e9",
   "metadata": {},
   "outputs": [
    {
     "name": "stdout",
     "output_type": "stream",
     "text": [
      "Number of individuals with a mutation in the ‘KRAS’ gene: 72\n"
     ]
    }
   ],
   "source": [
    "# Number of individuals who have a mutation in the ‘KRAS’ gene\n",
    "kras_cols = df.columns[df.columns.str.contains('KRAS')]\n",
    "num_kras_mutations = (df[kras_cols] == 1).sum(axis=1)\n",
    "num_individuals_kras = (num_kras_mutations > 0).sum()\n",
    "print(f\"Number of individuals with a mutation in the ‘KRAS’ gene: {num_individuals_kras}\")\n"
   ]
  },
  {
   "cell_type": "code",
   "execution_count": 10,
   "id": "e0751537",
   "metadata": {},
   "outputs": [
    {
     "name": "stdout",
     "output_type": "stream",
     "text": [
      "Average number of individuals per mutation: 2.654\n"
     ]
    }
   ],
   "source": [
    "# The average number of individuals per mutation\n",
    "avg_individuals_per_mutation = total_mutations/number_of_unique_mutations\n",
    "print(f\"Average number of individuals per mutation: {avg_individuals_per_mutation:.3f}\")\n"
   ]
  },
  {
   "cell_type": "code",
   "execution_count": 11,
   "id": "072d4755",
   "metadata": {},
   "outputs": [
    {
     "name": "stdout",
     "output_type": "stream",
     "text": [
      "Minimum number of individuals for a mutation: 1 (HEPACAM_GRCh37_11:124794736-124794736_Silent_SNP_G-G-A_G-G-T)\n",
      "Maximum number of individuals for a mutation: 42 (KRAS_GRCh37_12:25398284-25398284_Missense-Mutation_SNP_C-C-A_C-C-T_C-C-G)\n"
     ]
    }
   ],
   "source": [
    "# The minimum and maximum number of individuals per mutation\n",
    "mutation_counts_col = (mutation_data == 1).sum(axis=0)\n",
    "min_individuals_per_mutation = mutation_counts_col.min()\n",
    "max_individuals_per_mutation = mutation_counts_col.max()\n",
    "min_mutation_name = mutation_counts_col.idxmin()\n",
    "max_mutation_name = mutation_counts_col.idxmax()\n",
    "\n",
    "print(f\"Minimum number of individuals for a mutation: {min_individuals_per_mutation} ({min_mutation_name})\")\n",
    "print(f\"Maximum number of individuals for a mutation: {max_individuals_per_mutation} ({max_mutation_name})\")"
   ]
  },
  {
   "cell_type": "markdown",
   "id": "3561c9c4",
   "metadata": {},
   "source": [
    "# Preprocessing Data"
   ]
  },
  {
   "cell_type": "code",
   "execution_count": 12,
   "id": "2e1f78ae",
   "metadata": {},
   "outputs": [],
   "source": [
    "import matplotlib.pyplot as plt"
   ]
  },
  {
   "cell_type": "code",
   "execution_count": 13,
   "id": "85378900",
   "metadata": {},
   "outputs": [
    {
     "data": {
      "text/plain": [
       "<matplotlib.collections.PathCollection at 0x7e5ddd6cabc0>"
      ]
     },
     "execution_count": 13,
     "metadata": {},
     "output_type": "execute_result"
    },
    {
     "data": {
      "image/png": "[encoded data removed]",
      "text/plain": [
       "<Figure size 1000x600 with 1 Axes>"
      ]
     },
     "metadata": {},
     "output_type": "display_data"
    }
   ],
   "source": [
    "#  identify outlier samples with scatterplot\n",
    "total_mutations_each_sample = (mutation_data==1).sum(axis=1)\n",
    "plt.figure(figsize=(10,6))\n",
    "plt.scatter(df.index,total_mutations_each_sample)"
   ]
  },
  {
   "cell_type": "code",
   "execution_count": 14,
   "id": "d8764386",
   "metadata": {},
   "outputs": [
    {
     "data": {
      "application/vnd.plotly.v1+json": {
       "config": {
        "plotlyServerURL": "https://plot.ly"
       },
       "data": [
        {
         "hovertemplate": "Sample: %{x}<br>Mutations: %{y}",
         "legendgroup": "",
         "marker": {
          "color": "#636efa",
          "size": 10,
          "symbol": "circle"
         },
         "mode": "markers",
         "name": "",
         "orientation": "v",
         "showlegend": false,
         "type": "scatter",
         "x": [
          "NC0",
          "NC1",
          "NC2",
          "NC3",
          "C0",
          "C1",
          "NC4",
          "C2",
          "C3",
          "C4",
          "C5",
          "C6",
          "NC5",
          "C7",
          "NC6",
          "NC7",
          "NC8",
          "NC9",
          "C8",
          "NC10",
          "C9",
          "C10",
          "NC11",
          "NC12",
          "NC13",
          "C11",
          "NC14",
          "C12",
          "C13",
          "NC15",
          "NC16",
          "C14",
          "NC17",
          "C15",
          "NC18",
          "C16",
          "NC19",
          "NC20",
          "NC21",
          "C17",
          "C18",
          "NC22",
          "C19",
          "NC23",
          "NC24",
          "NC25",
          "C20",
          "C21",
          "C22",
          "C23",
          "C24",
          "NC26",
          "NC27",
          "C25",
          "C26",
          "C27",
          "NC28",
          "C28",
          "C29",
          "NC29",
          "C30",
          "C31",
          "C32",
          "NC30",
          "C33",
          "C34",
          "C35",
          "C36",
          "C37",
          "C38",
          "NC31",
          "C39",
          "C40",
          "C41",
          "NC32",
          "C42",
          "C43",
          "C44",
          "NC33",
          "NC34",
          "NC35",
          "C45",
          "NC36",
          "NC37",
          "C46",
          "NC38",
          "C47",
          "NC39",
          "C48",
          "C49",
          "NC40",
          "C50",
          "NC41",
          "NC42",
          "NC43",
          "C51",
          "NC44",
          "C52",
          "C53",
          "NC45",
          "C54",
          "NC46",
          "NC47",
          "C55",
          "C56",
          "C57",
          "C58",
          "NC48",
          "NC49",
          "C59",
          "NC50",
          "C60",
          "C61",
          "NC51",
          "C62",
          "C63",
          "NC52",
          "C64",
          "C65",
          "NC53",
          "C66",
          "C67",
          "C68",
          "C69",
          "NC54",
          "NC55",
          "C70",
          "NC56",
          "C71",
          "NC57",
          "NC58",
          "C72",
          "NC59",
          "NC60",
          "NC61",
          "NC62",
          "C73",
          "NC63",
          "NC64",
          "NC65",
          "NC66",
          "NC67",
          "NC68",
          "NC69",
          "C74",
          "C75",
          "C76",
          "C77",
          "C78",
          "NC70",
          "C79",
          "C80",
          "C81",
          "NC71",
          "NC72",
          "NC73",
          "NC74",
          "NC75",
          "C82",
          "C83",
          "NC76",
          "C84",
          "C85",
          "NC77",
          "NC78",
          "C86",
          "C87",
          "C88",
          "C89",
          "NC79",
          "NC80",
          "C90",
          "NC81",
          "NC82",
          "C91",
          "NC83",
          "NC84",
          "C92",
          "NC85",
          "NC86",
          "NC87",
          "C93",
          "C94",
          "NC88",
          "C95",
          "C96",
          "NC89",
          "C97",
          "NC90",
          "C98",
          "C99",
          "C100",
          "NC91",
          "C101",
          "C102",
          "NC92",
          "NC93",
          "NC94",
          "NC95",
          "C103",
          "NC96"
         ],
         "xaxis": "x",
         "y": {
          "bdata": "BwAGAAkABADMAC4AAQADAAsADAAFAGUAAgCdAAYAAwAFAAEAAwABACcAKAA9AAEACAABAAMAPQAEACgAAwBKAAMAKgACAAYAGgAEAB4ANgADAAEALAACAAQAAwA1AAUABAAEACMABQACAAMAhwADAAIABAABAAEABAAoAAEAAgApAAQAIwACAEEAPAACAAIAAwADAAEAAwAwAAIAAQAeAAIAAgACAAEANQArAAIABAACAAIAAQADAAEAAQABAAUAAgAoAAIABAAgACgAJgAGAAQABAAEAAMAAwACAAQACAAEAAMAAgA2AAIAAwACAAEAAwAEAAIAAgABAAIABAACACoACwADAAMAAwAGACoAAgAEAEUAFAABAB0ADgAHAAMAVgABAAoANgBGAAUAPAAGACIAAgACAAIAAgABAAMAAQABAAYAAgABAAQAAwADAAQABAABAAIAAwABAAMAAwABAAIAAgADAAMAAwAEAAEAAQABAAEAAgACAAEAAQAsAAQAAgBGAAYAAgADAAEAAwBEAAIA",
          "dtype": "i2"
         },
         "yaxis": "y"
        }
       ],
       "layout": {
        "legend": {
         "tracegroupgap": 0
        },
        "template": {
         "data": {
          "bar": [
           {
            "error_x": {
             "color": "#2a3f5f"
            },
            "error_y": {
             "color": "#2a3f5f"
            },
            "marker": {
             "line": {
              "color": "#E5ECF6",
              "width": 0.5
             },
             "pattern": {
              "fillmode": "overlay",
              "size": 10,
              "solidity": 0.2
             }
            },
            "type": "bar"
           }
          ],
          "barpolar": [
           {
            "marker": {
             "line": {
              "color": "#E5ECF6",
              "width": 0.5
             },
             "pattern": {
              "fillmode": "overlay",
              "size": 10,
              "solidity": 0.2
             }
            },
            "type": "barpolar"
           }
          ],
          "carpet": [
           {
            "aaxis": {
             "endlinecolor": "#2a3f5f",
             "gridcolor": "white",
             "linecolor": "white",
             "minorgridcolor": "white",
             "startlinecolor": "#2a3f5f"
            },
            "baxis": {
             "endlinecolor": "#2a3f5f",
             "gridcolor": "white",
             "linecolor": "white",
             "minorgridcolor": "white",
             "startlinecolor": "#2a3f5f"
            },
            "type": "carpet"
           }
          ],
          "choropleth": [
           {
            "colorbar": {
             "outlinewidth": 0,
             "ticks": ""
            },
            "type": "choropleth"
           }
          ],
          "contour": [
           {
            "colorbar": {
             "outlinewidth": 0,
             "ticks": ""
            },
            "colorscale": [
             [
              0,
              "#0d0887"
             ],
             [
              0.1111111111111111,
              "#46039f"
             ],
             [
              0.2222222222222222,
              "#7201a8"
             ],
             [
              0.3333333333333333,
              "#9c179e"
             ],
             [
              0.4444444444444444,
              "#bd3786"
             ],
             [
              0.5555555555555556,
              "#d8576b"
             ],
             [
              0.6666666666666666,
              "#ed7953"
             ],
             [
              0.7777777777777778,
              "#fb9f3a"
             ],
             [
              0.8888888888888888,
              "#fdca26"
             ],
             [
              1,
              "#f0f921"
             ]
            ],
            "type": "contour"
           }
          ],
          "contourcarpet": [
           {
            "colorbar": {
             "outlinewidth": 0,
             "ticks": ""
            },
            "type": "contourcarpet"
           }
          ],
          "heatmap": [
           {
            "colorbar": {
             "outlinewidth": 0,
             "ticks": ""
            },
            "colorscale": [
             [
              0,
              "#0d0887"
             ],
             [
              0.1111111111111111,
              "#46039f"
             ],
             [
              0.2222222222222222,
              "#7201a8"
             ],
             [
              0.3333333333333333,
              "#9c179e"
             ],
             [
              0.4444444444444444,
              "#bd3786"
             ],
             [
              0.5555555555555556,
              "#d8576b"
             ],
             [
              0.6666666666666666,
              "#ed7953"
             ],
             [
              0.7777777777777778,
              "#fb9f3a"
             ],
             [
              0.8888888888888888,
              "#fdca26"
             ],
             [
              1,
              "#f0f921"
             ]
            ],
            "type": "heatmap"
           }
          ],
          "histogram": [
           {
            "marker": {
             "pattern": {
              "fillmode": "overlay",
              "size": 10,
              "solidity": 0.2
             }
            },
            "type": "histogram"
           }
          ],
          "histogram2d": [
           {
            "colorbar": {
             "outlinewidth": 0,
             "ticks": ""
            },
            "colorscale": [
             [
              0,
              "#0d0887"
             ],
             [
              0.1111111111111111,
              "#46039f"
             ],
             [
              0.2222222222222222,
              "#7201a8"
             ],
             [
              0.3333333333333333,
              "#9c179e"
             ],
             [
              0.4444444444444444,
              "#bd3786"
             ],
             [
              0.5555555555555556,
              "#d8576b"
             ],
             [
              0.6666666666666666,
              "#ed7953"
             ],
             [
              0.7777777777777778,
              "#fb9f3a"
             ],
             [
              0.8888888888888888,
              "#fdca26"
             ],
             [
              1,
              "#f0f921"
             ]
            ],
            "type": "histogram2d"
           }
          ],
          "histogram2dcontour": [
           {
            "colorbar": {
             "outlinewidth": 0,
             "ticks": ""
            },
            "colorscale": [
             [
              0,
              "#0d0887"
             ],
             [
              0.1111111111111111,
              "#46039f"
             ],
             [
              0.2222222222222222,
              "#7201a8"
             ],
             [
              0.3333333333333333,
              "#9c179e"
             ],
             [
              0.4444444444444444,
              "#bd3786"
             ],
             [
              0.5555555555555556,
              "#d8576b"
             ],
             [
              0.6666666666666666,
              "#ed7953"
             ],
             [
              0.7777777777777778,
              "#fb9f3a"
             ],
             [
              0.8888888888888888,
              "#fdca26"
             ],
             [
              1,
              "#f0f921"
             ]
            ],
            "type": "histogram2dcontour"
           }
          ],
          "mesh3d": [
           {
            "colorbar": {
             "outlinewidth": 0,
             "ticks": ""
            },
            "type": "mesh3d"
           }
          ],
          "parcoords": [
           {
            "line": {
             "colorbar": {
              "outlinewidth": 0,
              "ticks": ""
             }
            },
            "type": "parcoords"
           }
          ],
          "pie": [
           {
            "automargin": true,
            "type": "pie"
           }
          ],
          "scatter": [
           {
            "fillpattern": {
             "fillmode": "overlay",
             "size": 10,
             "solidity": 0.2
            },
            "type": "scatter"
           }
          ],
          "scatter3d": [
           {
            "line": {
             "colorbar": {
              "outlinewidth": 0,
              "ticks": ""
             }
            },
            "marker": {
             "colorbar": {
              "outlinewidth": 0,
              "ticks": ""
             }
            },
            "type": "scatter3d"
           }
          ],
          "scattercarpet": [
           {
            "marker": {
             "colorbar": {
              "outlinewidth": 0,
              "ticks": ""
             }
            },
            "type": "scattercarpet"
           }
          ],
          "scattergeo": [
           {
            "marker": {
             "colorbar": {
              "outlinewidth": 0,
              "ticks": ""
             }
            },
            "type": "scattergeo"
           }
          ],
          "scattergl": [
           {
            "marker": {
             "colorbar": {
              "outlinewidth": 0,
              "ticks": ""
             }
            },
            "type": "scattergl"
           }
          ],
          "scattermap": [
           {
            "marker": {
             "colorbar": {
              "outlinewidth": 0,
              "ticks": ""
             }
            },
            "type": "scattermap"
           }
          ],
          "scattermapbox": [
           {
            "marker": {
             "colorbar": {
              "outlinewidth": 0,
              "ticks": ""
             }
            },
            "type": "scattermapbox"
           }
          ],
          "scatterpolar": [
           {
            "marker": {
             "colorbar": {
              "outlinewidth": 0,
              "ticks": ""
             }
            },
            "type": "scatterpolar"
           }
          ],
          "scatterpolargl": [
           {
            "marker": {
             "colorbar": {
              "outlinewidth": 0,
              "ticks": ""
             }
            },
            "type": "scatterpolargl"
           }
          ],
          "scatterternary": [
           {
            "marker": {
             "colorbar": {
              "outlinewidth": 0,
              "ticks": ""
             }
            },
            "type": "scatterternary"
           }
          ],
          "surface": [
           {
            "colorbar": {
             "outlinewidth": 0,
             "ticks": ""
            },
            "colorscale": [
             [
              0,
              "#0d0887"
             ],
             [
              0.1111111111111111,
              "#46039f"
             ],
             [
              0.2222222222222222,
              "#7201a8"
             ],
             [
              0.3333333333333333,
              "#9c179e"
             ],
             [
              0.4444444444444444,
              "#bd3786"
             ],
             [
              0.5555555555555556,
              "#d8576b"
             ],
             [
              0.6666666666666666,
              "#ed7953"
             ],
             [
              0.7777777777777778,
              "#fb9f3a"
             ],
             [
              0.8888888888888888,
              "#fdca26"
             ],
             [
              1,
              "#f0f921"
             ]
            ],
            "type": "surface"
           }
          ],
          "table": [
           {
            "cells": {
             "fill": {
              "color": "#EBF0F8"
             },
             "line": {
              "color": "white"
             }
            },
            "header": {
             "fill": {
              "color": "#C8D4E3"
             },
             "line": {
              "color": "white"
             }
            },
            "type": "table"
           }
          ]
         },
         "layout": {
          "annotationdefaults": {
           "arrowcolor": "#2a3f5f",
           "arrowhead": 0,
           "arrowwidth": 1
          },
          "autotypenumbers": "strict",
          "coloraxis": {
           "colorbar": {
            "outlinewidth": 0,
            "ticks": ""
           }
          },
          "colorscale": {
           "diverging": [
            [
             0,
             "#8e0152"
            ],
            [
             0.1,
             "#c51b7d"
            ],
            [
             0.2,
             "#de77ae"
            ],
            [
             0.3,
             "#f1b6da"
            ],
            [
             0.4,
             "#fde0ef"
            ],
            [
             0.5,
             "#f7f7f7"
            ],
            [
             0.6,
             "#e6f5d0"
            ],
            [
             0.7,
             "#b8e186"
            ],
            [
             0.8,
             "#7fbc41"
            ],
            [
             0.9,
             "#4d9221"
            ],
            [
             1,
             "#276419"
            ]
           ],
           "sequential": [
            [
             0,
             "#0d0887"
            ],
            [
             0.1111111111111111,
             "#46039f"
            ],
            [
             0.2222222222222222,
             "#7201a8"
            ],
            [
             0.3333333333333333,
             "#9c179e"
            ],
            [
             0.4444444444444444,
             "#bd3786"
            ],
            [
             0.5555555555555556,
             "#d8576b"
            ],
            [
             0.6666666666666666,
             "#ed7953"
            ],
            [
             0.7777777777777778,
             "#fb9f3a"
            ],
            [
             0.8888888888888888,
             "#fdca26"
            ],
            [
             1,
             "#f0f921"
            ]
           ],
           "sequentialminus": [
            [
             0,
             "#0d0887"
            ],
            [
             0.1111111111111111,
             "#46039f"
            ],
            [
             0.2222222222222222,
             "#7201a8"
            ],
            [
             0.3333333333333333,
             "#9c179e"
            ],
            [
             0.4444444444444444,
             "#bd3786"
            ],
            [
             0.5555555555555556,
             "#d8576b"
            ],
            [
             0.6666666666666666,
             "#ed7953"
            ],
            [
             0.7777777777777778,
             "#fb9f3a"
            ],
            [
             0.8888888888888888,
             "#fdca26"
            ],
            [
             1,
             "#f0f921"
            ]
           ]
          },
          "colorway": [
           "#636efa",
           "#EF553B",
           "#00cc96",
           "#ab63fa",
           "#FFA15A",
           "#19d3f3",
           "#FF6692",
           "#B6E880",
           "#FF97FF",
           "#FECB52"
          ],
          "font": {
           "color": "#2a3f5f"
          },
          "geo": {
           "bgcolor": "white",
           "lakecolor": "white",
           "landcolor": "#E5ECF6",
           "showlakes": true,
           "showland": true,
           "subunitcolor": "white"
          },
          "hoverlabel": {
           "align": "left"
          },
          "hovermode": "closest",
          "mapbox": {
           "style": "light"
          },
          "paper_bgcolor": "white",
          "plot_bgcolor": "#E5ECF6",
          "polar": {
           "angularaxis": {
            "gridcolor": "white",
            "linecolor": "white",
            "ticks": ""
           },
           "bgcolor": "#E5ECF6",
           "radialaxis": {
            "gridcolor": "white",
            "linecolor": "white",
            "ticks": ""
           }
          },
          "scene": {
           "xaxis": {
            "backgroundcolor": "#E5ECF6",
            "gridcolor": "white",
            "gridwidth": 2,
            "linecolor": "white",
            "showbackground": true,
            "ticks": "",
            "zerolinecolor": "white"
           },
           "yaxis": {
            "backgroundcolor": "#E5ECF6",
            "gridcolor": "white",
            "gridwidth": 2,
            "linecolor": "white",
            "showbackground": true,
            "ticks": "",
            "zerolinecolor": "white"
           },
           "zaxis": {
            "backgroundcolor": "#E5ECF6",
            "gridcolor": "white",
            "gridwidth": 2,
            "linecolor": "white",
            "showbackground": true,
            "ticks": "",
            "zerolinecolor": "white"
           }
          },
          "shapedefaults": {
           "line": {
            "color": "#2a3f5f"
           }
          },
          "ternary": {
           "aaxis": {
            "gridcolor": "white",
            "linecolor": "white",
            "ticks": ""
           },
           "baxis": {
            "gridcolor": "white",
            "linecolor": "white",
            "ticks": ""
           },
           "bgcolor": "#E5ECF6",
           "caxis": {
            "gridcolor": "white",
            "linecolor": "white",
            "ticks": ""
           }
          },
          "title": {
           "x": 0.05
          },
          "xaxis": {
           "automargin": true,
           "gridcolor": "white",
           "linecolor": "white",
           "ticks": "",
           "title": {
            "standoff": 15
           },
           "zerolinecolor": "white",
           "zerolinewidth": 2
          },
          "yaxis": {
           "automargin": true,
           "gridcolor": "white",
           "linecolor": "white",
           "ticks": "",
           "title": {
            "standoff": 15
           },
           "zerolinecolor": "white",
           "zerolinewidth": 2
          }
         }
        },
        "title": {
         "text": "Mutations per Sample"
        },
        "xaxis": {
         "anchor": "y",
         "domain": [
          0,
          1
         ],
         "title": {
          "text": "Sample Identifier"
         }
        },
        "yaxis": {
         "anchor": "x",
         "domain": [
          0,
          1
         ],
         "title": {
          "text": "Total Mutations per Sample"
         }
        }
       }
      }
     },
     "metadata": {},
     "output_type": "display_data"
    }
   ],
   "source": [
    "import plotly.express as px\n",
    "\n",
    "# 1. Outlier samples (interactive)\n",
    "fig1 = px.scatter(\n",
    "    x=df.iloc[:,0], \n",
    "    y=total_mutations_each_sample, \n",
    "    labels={'x': 'Sample Identifier', 'y': 'Total Mutations per Sample'},\n",
    "    title=\"Mutations per Sample\"\n",
    ")\n",
    "fig1.update_traces(marker=dict(size=10), hovertemplate='Sample: %{x}<br>Mutations: %{y}')\n",
    "fig1.show()"
   ]
  },
  {
   "cell_type": "code",
   "execution_count": 15,
   "id": "02b36def",
   "metadata": {},
   "outputs": [
    {
     "data": {
      "text/plain": [
       "<matplotlib.collections.PathCollection at 0x7e5dd9ab6fb0>"
      ]
     },
     "execution_count": 15,
     "metadata": {},
     "output_type": "execute_result"
    },
    {
     "data": {
      "image/png": "[encoded data removed]",
      "text/plain": [
       "<Figure size 1000x600 with 1 Axes>"
      ]
     },
     "metadata": {},
     "output_type": "display_data"
    }
   ],
   "source": [
    "# identify outlier mutations with scatterplot\n",
    "mutation_each_individual = (mutation_data==1).sum(axis=0)\n",
    "plt.figure(figsize=(10,6))\n",
    "plt.scatter(mutation_data.columns,mutation_each_individual)"
   ]
  },
  {
   "cell_type": "code",
   "execution_count": 16,
   "id": "c1c0f105",
   "metadata": {},
   "outputs": [
    {
     "data": {
      "application/vnd.plotly.v1+json": {
       "config": {
        "plotlyServerURL": "https://plot.ly"
       },
       "data": [
        {
         "hovertemplate": "Mutation: %{x}<br>Individuals: %{y}",
         "legendgroup": "",
         "marker": {
          "color": "#636efa",
          "size": 10,
          "symbol": "circle"
         },
         "mode": "markers",
         "name": "",
         "showlegend": false,
         "type": "scattergl",
         "x": [
          "HEPACAM_GRCh37_11:124794736-124794736_Silent_SNP_G-G-A_G-G-T",
          "LRR1_GRCh37_14:50074349-50074349_Missense-Mutation_SNP_C-C-T",
          "KRT34_GRCh37_17:39538253-39538253_Silent_SNP_C-C-T",
          "DNAH2_GRCh37_17:7721317-7721317_Silent_SNP_C-C-T",
          "RSPH1_GRCh37_21:43897435-43897435_Silent_SNP_C-C-T",
          "APC_GRCh37_5:112174117-112174117_Frame-Shift-Del_DEL_T-T--",
          "HDAC9_GRCh37_7:18767220-18767220_Silent_SNP_G-G-A",
          "THYN1_GRCh37_11:134121181-134121181_Missense-Mutation_SNP_C-C-T",
          "TENM4_GRCh37_11:78383150-78383150_Silent_SNP_G-G-A",
          "KCNA10_GRCh37_1:111060872-111060872_Missense-Mutation_SNP_G-G-A",
          "TNN_GRCh37_1:175104993-175104993_Missense-Mutation_SNP_C-C-T",
          "APC_GRCh37_5:112175676-112175677_Frame-Shift-Del_DEL_AG-AG--",
          "TRPC7_GRCh37_5:135551948-135551948_Missense-Mutation_SNP_G-G-A",
          "SULT6B1_GRCh37_2:37406712-37406712_Nonsense-Mutation_SNP_G-G-A",
          "SOX11_GRCh37_2:5832900-5832900_Missense-Mutation_SNP_G-G-A_G-G-T",
          "NME9_GRCh37_3:138037034-138037034_Missense-Mutation_SNP_C-C-T",
          "FBXW7_GRCh37_4:153247289-153247289_Missense-Mutation_SNP_G-G-C_G-G-A",
          "ZNF658_GRCh37_9:40774157-40774157_Missense-Mutation_SNP_C-C-A",
          "TCF7L2_GRCh37_10:114925333-114925333_Missense-Mutation_SNP_C-C-T_C-C-A",
          "KRAS_GRCh37_12:25398284-25398284_Missense-Mutation_SNP_C-C-A_C-C-T_C-C-G",
          "PKD1L3_GRCh37_16:71985575-71985575_RNA_SNP_C-C-T",
          "GFAP_GRCh37_17:42992567-42992567_Silent_SNP_C-C-A_C-C-T",
          "KIF2B_GRCh37_17:51900501-51900501_Missense-Mutation_SNP_G-G-A",
          "APC_GRCh37_5:112151261-112151261_Nonsense-Mutation_SNP_C-C-T",
          "ADCY1_GRCh37_7:45743024-45743024_Missense-Mutation_SNP_G-G-T_G-G-A",
          "FAM47C_GRCh37_X:37027803-37027803_Silent_SNP_G-G-A",
          "NOS1_GRCh37_12:117768733-117768733_Missense-Mutation_SNP_G-G-A",
          "TMOD2_GRCh37_15:52100643-52100643_Nonsense-Mutation_SNP_C-C-T",
          "TP53_GRCh37_17:7578413-7578413_Missense-Mutation_SNP_C-C-A",
          "MPP4_GRCh37_2:202514862-202514862_Missense-Mutation_SNP_C-C-T",
          "PCBP1_GRCh37_2:70315174-70315174_Missense-Mutation_SNP_T-T-A_T-T-C",
          "PIK3CA_GRCh37_3:178927980-178927980_Missense-Mutation_SNP_T-T-C",
          "KCNV2_GRCh37_9:2718773-2718773_Missense-Mutation_SNP_C-C-T",
          "KRAS_GRCh37_12:25380276-25380276_Missense-Mutation_SNP_T-T-C_T-T-G",
          "MIR299_GRCh37_14:101490146-101490146_RNA_SNP_G-G-A",
          "TP53_GRCh37_17:7578212-7578212_Nonsense-Mutation_SNP_G-G-A",
          "FAM47B_GRCh37_X:34961532-34961532_Missense-Mutation_SNP_C-C-T",
          "TCF7L2_GRCh37_10:114900984-114900984_Frame-Shift-Del_DEL_C-C--",
          "TTC40_GRCh37_10:134699453-134699453_Silent_SNP_G-G-A",
          "FAM171A1_GRCh37_10:15255067-15255067_Silent_SNP_C-C-T",
          "PTCHD3_GRCh37_10:27702951-27702951_Frame-Shift-Del_DEL_G-G--",
          "SVIL_GRCh37_10:29760116-29760116_Frame-Shift-Del_DEL_C-C--",
          "CREM_GRCh37_10:35500543-35500543_Intron_DEL_A-A--",
          "ZNF518A_GRCh37_10:97920005-97920005_RNA_SNP_G-G-A",
          "MMP20_GRCh37_11:102477310-102477310_Silent_SNP_G-G-A",
          "IFT46_GRCh37_11:118422963-118422963_Missense-Mutation_SNP_G-G-A",
          "LSP1_GRCh37_11:1902786-1902786_Frame-Shift-Del_DEL_C-C--",
          "ALX4_GRCh37_11:44286624-44286624_Frame-Shift-Del_DEL_G-G--",
          "PACSIN3_GRCh37_11:47199528-47199528_Missense-Mutation_SNP_C-C-T",
          "RP11-707M1.1_GRCh37_11:49805440-49805440_RNA_SNP_G-G-A",
          "CNGA4_GRCh37_11:6261462-6261462_Silent_SNP_C-C-T",
          "ALG8_GRCh37_11:77832193-77832193_Frame-Shift-Del_DEL_T-T--",
          "MVK_GRCh37_12:110019240-110019240_Frame-Shift-Del_DEL_C-C--",
          "ANKRD13A_GRCh37_12:110449927-110449927_Missense-Mutation_SNP_C-C-T",
          "DNAH10_GRCh37_12:124330346-124330346_Frame-Shift-Del_DEL_A-A--",
          "NCOR2_GRCh37_12:124829248-124829248_Missense-Mutation_SNP_G-G-A",
          "GOLGA3_GRCh37_12:133384816-133384816_Missense-Mutation_SNP_G-G-A",
          "SOX5_GRCh37_12:23728629-23728629_Silent_SNP_C-C-T",
          "LRMP_GRCh37_12:25232195-25232195_Silent_SNP_C-C-T",
          "KMT2D_GRCh37_12:49434492-49434492_Frame-Shift-Del_DEL_G-G--",
          "GLI1_GRCh37_12:57860075-57860075_Frame-Shift-Del_DEL_G-G--",
          "MBD6_GRCh37_12:57922311-57922311_Frame-Shift-Del_DEL_C-C--",
          "SRGAP1_GRCh37_12:64377821-64377821_Frame-Shift-Del_DEL_A-A--",
          "UPF3A_GRCh37_13:115057218-115057219_Frame-Shift-Ins_INS_----G",
          "SLITRK1_GRCh37_13:84455772-84455772_5'UTR_DEL_G-G--",
          "SLITRK5_GRCh37_13:88330433-88330433_Silent_SNP_C-C-T",
          "UGGT2_GRCh37_13:96579574-96579574_Missense-Mutation_SNP_C-C-T",
          "RNF31_GRCh37_14:24619809-24619809_Frame-Shift-Del_DEL_G-G--",
          "NFATC4_GRCh37_14:24837614-24837614_Frame-Shift-Del_DEL_C-C--",
          "KHNYN_GRCh37_14:24899924-24899924_5'UTR_DEL_G-G--",
          "TMEM30B_GRCh37_14:61748158-61748159_5'UTR_INS_----T",
          "SYNE2_GRCh37_14:64568676-64568676_Silent_SNP_G-G-A",
          "OCA2_GRCh37_15:28231761-28231761_Missense-Mutation_SNP_G-G-A",
          "ACTC1_GRCh37_15:35086968-35086968_Silent_SNP_G-G-A",
          "GLCE_GRCh37_15:69560650-69560650_Silent_SNP_C-C-T",
          "SV2B_GRCh37_15:91832791-91832792_Frame-Shift-Ins_INS_----T",
          "MAPK8IP3_GRCh37_16:1797261-1797261_Missense-Mutation_SNP_C-C-T",
          "SEPHS2_GRCh37_16:30455846-30455846_Silent_SNP_C-C-T",
          "ITGAL_GRCh37_16:30522245-30522245_Frame-Shift-Del_DEL_G-G--",
          "MEFV_GRCh37_16:3293439-3293439_Missense-Mutation_SNP_G-G-A",
          "ARL2BP_GRCh37_16:57279999-57279999_Missense-Mutation_SNP_G-G-A",
          "ZDHHC7_GRCh37_16:85010045-85010045_Frame-Shift-Del_DEL_C-C--",
          "SPECC1_GRCh37_17:20108263-20108263_Frame-Shift-Del_DEL_A-A--",
          "FAM222B_GRCh37_17:27086258-27086258_Frame-Shift-Del_DEL_G-G--",
          "PSMD11_GRCh37_17:30796174-30796174_Frame-Shift-Del_DEL_C-C--",
          "RNF43_GRCh37_17:56435161-56435161_Frame-Shift-Del_DEL_C-C--",
          "UNK_GRCh37_17:73814802-73814802_Frame-Shift-Del_DEL_C-C--",
          "TSPAN10_GRCh37_17:79612324-79612324_Missense-Mutation_SNP_C-C-G",
          "RP11-737O24.3_GRCh37_18:2945674-2945674_RNA_SNP_G-G-A",
          "SMAD2_GRCh37_18:45374882-45374882_Nonsense-Mutation_SNP_G-G-A",
          "ALPK2_GRCh37_18:56246440-56246440_Frame-Shift-Del_DEL_T-T--",
          "JUNB_GRCh37_19:12902925-12902925_Frame-Shift-Del_DEL_G-G--",
          "CACNA1A_GRCh37_19:13397338-13397338_Frame-Shift-Del_DEL_G-G--",
          "HAPLN4_GRCh37_19:19369444-19369444_Frame-Shift-Del_DEL_C-C--",
          "ZNF493_GRCh37_19:21605924-21605924_Nonsense-Mutation_SNP_C-C-T",
          "HKR1_GRCh37_19:37838731-37838731_Silent_SNP_G-G-A",
          "CD79A_GRCh37_19:42383610-42383610_Frame-Shift-Del_DEL_C-C--",
          "SEMA6B_GRCh37_19:4552597-4552597_Frame-Shift-Del_DEL_G-G--",
          "CLASRP_GRCh37_19:45556129-45556129_Frame-Shift-Del_DEL_C-C--",
          "SHANK1_GRCh37_19:51192559-51192559_Intron_DEL_G-G--",
          "NLRP13_GRCh37_19:56443517-56443517_Missense-Mutation_SNP_C-C-T",
          "NLRP13_GRCh37_19:56443533-56443533_Frame-Shift-Del_DEL_G-G--",
          "PTBP1_GRCh37_19:810594-810594_Silent_SNP_C-C-T",
          "TTLL10_GRCh37_1:1116223-1116223_Frame-Shift-Del_DEL_G-G--",
          "ADAM30_GRCh37_1:120438116-120438116_Frame-Shift-Del_DEL_T-T--",
          "RPRD2_GRCh37_1:150443735-150443735_Frame-Shift-Del_DEL_C-C--",
          "LCE2A_GRCh37_1:152671477-152671477_Missense-Mutation_SNP_G-G-A",
          "EPHA2_GRCh37_1:16461618-16461618_Missense-Mutation_SNP_G-G-T",
          "GPR161_GRCh37_1:168054869-168054869_Frame-Shift-Del_DEL_C-C--",
          "CFHR3_GRCh37_1:196759035-196759037_Intron_DEL_AAG-AAG--",
          "MLK4_GRCh37_1:233507928-233507928_Intron_DEL_G-G--",
          "GJB3_GRCh37_1:35250866-35250866_Frame-Shift-Del_DEL_C-C--",
          "GJA4_GRCh37_1:35260157-35260157_Missense-Mutation_SNP_G-G-A",
          "MAP7D1_GRCh37_1:36636626-36636626_Frame-Shift-Del_DEL_C-C--",
          "SMIM1_GRCh37_1:3691940-3691940_Translation-Start-Site_SNP_G-G-A",
          "EPHA10_GRCh37_1:38184055-38184055_Frame-Shift-Del_DEL_C-C--",
          "MOB3C_GRCh37_1:47078752-47078752_Missense-Mutation_SNP_C-C-T",
          "SSBP3_GRCh37_1:54694133-54694133_Missense-Mutation_SNP_C-C-T",
          "GNG12_GRCh37_1:68171151-68171151_Frame-Shift-Del_DEL_T-T--",
          "LRRIQ3_GRCh37_1:74648381-74648381_Frame-Shift-Del_DEL_T-T--",
          "ASB17_GRCh37_1:76387915-76387916_Frame-Shift-Ins_INS_----T",
          "CTNNBL1_GRCh37_20:36361416-36361416_Frame-Shift-Del_DEL_A-A--",
          "HELZ2_GRCh37_20:62193251-62193251_Frame-Shift-Del_DEL_G-G--",
          "BACE2_GRCh37_21:42540489-42540489_Frame-Shift-Del_DEL_C-C--",
          "MICAL3_GRCh37_22:18300932-18300932_Frame-Shift-Del_DEL_G-G--",
          "KLHL22_GRCh37_22:20843305-20843305_Missense-Mutation_SNP_C-C-T",
          "ZNF70_GRCh37_22:24087086-24087086_Frame-Shift-Del_DEL_G-G--",
          "LIMK2_GRCh37_22:31672777-31672777_Intron_DEL_C-C--",
          "ITGB6_GRCh37_2:161052759-161052759_Missense-Mutation_SNP_G-G-A",
          "KLHL23_GRCh37_2:170591907-170591907_Missense-Mutation_SNP_G-G-A",
          "TTN_GRCh37_2:179438219-179438219_Frame-Shift-Del_DEL_C-C--",
          "DNAJC10_GRCh37_2:183584885-183584885_Missense-Mutation_SNP_G-G-A",
          "MYL1_GRCh37_2:211179701-211179701_Silent_SNP_C-C-T",
          "ANO7_GRCh37_2:242148982-242148982_Missense-Mutation_SNP_G-G-A",
          "ZNF513_GRCh37_2:27600998-27600998_Frame-Shift-Del_DEL_C-C--",
          "GALNT14_GRCh37_2:31360999-31360999_5'UTR_DEL_C-C--",
          "THADA_GRCh37_2:43800084-43800084_Frame-Shift-Del_DEL_C-C--",
          "FUNDC2P2_GRCh37_2:84517881-84517881_RNA_SNP_C-C-T",
          "DNAH6_GRCh37_2:84960571-84960571_Missense-Mutation_SNP_C-C-T",
          "FAHD2A_GRCh37_2:96078466-96078466_Frame-Shift-Del_DEL_C-C--",
          "CASR_GRCh37_3:122003527-122003527_Frame-Shift-Del_DEL_C-C--",
          "DHX36_GRCh37_3:154017707-154017707_Missense-Mutation_SNP_G-G-A",
          "PLCL2_GRCh37_3:17131376-17131376_Frame-Shift-Del_DEL_A-A--",
          "PPP1R2_GRCh37_3:195250549-195250549_Missense-Mutation_SNP_C-C-T",
          "DOCK3_GRCh37_3:51417604-51417604_Frame-Shift-Del_DEL_C-C--",
          "ITIH1_GRCh37_3:52818324-52818324_Missense-Mutation_SNP_G-G-A",
          "MGST2_GRCh37_4:140624683-140624683_Frame-Shift-Del_DEL_A-A--",
          "ARHGAP10_GRCh37_4:148887925-148887925_Missense-Mutation_SNP_G-G-A",
          "MAB21L2_GRCh37_4:151504433-151504433_Silent_SNP_C-C-T",
          "DCHS2_GRCh37_4:155412123-155412123_Missense-Mutation_SNP_G-G-A",
          "GRIA2_GRCh37_4:158281222-158281222_Missense-Mutation_SNP_G-G-A",
          "SGCB_GRCh37_4:52895881-52895881_Missense-Mutation_SNP_C-C-T",
          "UNC5C_GRCh37_4:96470055-96470055_5'UTR_SNP_C-C-T",
          "PDHA2_GRCh37_4:96761892-96761892_Silent_SNP_G-G-A",
          "TRIO_GRCh37_5:14487781-14487781_Frame-Shift-Del_DEL_C-C--",
          "GLRA1_GRCh37_5:151304089-151304089_Nonsense-Mutation_SNP_G-G-A",
          "CDH10_GRCh37_5:24488219-24488219_Frame-Shift-Del_DEL_T-T--",
          "ITGA1_GRCh37_5:52214576-52214576_Missense-Mutation_SNP_C-C-T",
          "SNX18_GRCh37_5:53815021-53815022_Frame-Shift-Ins_INS_----C",
          "ADCY2_GRCh37_5:7706902-7706902_Silent_SNP_C-C-T",
          "CCNC_GRCh37_6:100010783-100010783_Missense-Mutation_SNP_C-C-T",
          "GCNT2_GRCh37_6:10557410-10557410_Intron_DEL_C-C--",
          "NR2E1_GRCh37_6:108497789-108497789_Silent_SNP_C-C-T",
          "MARCKS_GRCh37_6:114181730-114181730_Frame-Shift-Del_DEL_C-C--",
          "PHACTR1_GRCh37_6:13206135-13206135_Frame-Shift-Del_DEL_G-G--",
          "SYNE1_GRCh37_6:152631914-152631915_Frame-Shift-Ins_INS_----T",
          "WTAP_GRCh37_6:160169553-160169553_Intron_SNP_G-G-T",
          "TBP_GRCh37_6:170871037-170871037_Silent_SNP_G-G-A",
          "KCNQ5_GRCh37_6:73902392-73902392_Missense-Mutation_SNP_G-G-A",
          "CDHR3_GRCh37_7:105655642-105655642_Frame-Shift-Del_DEL_C-C--",
          "PRKAR2B_GRCh37_7:106799959-106799959_Missense-Mutation_SNP_G-G-A",
          "KCP_GRCh37_7:128530536-128530536_RNA_SNP_G-G-A",
          "BRAF_GRCh37_7:140453136-140453136_Missense-Mutation_SNP_A-A-T",
          "ZNF212_GRCh37_7:148947624-148947624_Frame-Shift-Del_DEL_G-G--",
          "ITGB8_GRCh37_7:20371449-20371450_Frame-Shift-Ins_INS_----T",
          "AP3M2_GRCh37_8:42022997-42022997_Missense-Mutation_SNP_G-G-A",
          "PRKDC_GRCh37_8:48817475-48817477_In-Frame-Del_DEL_TTG-TTG--",
          "ZFHX4_GRCh37_8:77617337-77617337_Frame-Shift-Del_DEL_A-A--",
          "ZFHX4_GRCh37_8:77768212-77768212_Missense-Mutation_SNP_C-C-T",
          "LRRCC1_GRCh37_8:86049719-86049719_Missense-Mutation_SNP_C-C-T",
          "STX17_GRCh37_9:102677512-102677512_5'UTR_DEL_T-T--",
          "ACTL7A_GRCh37_9:111624664-111624664_Frame-Shift-Del_DEL_C-C--",
          "KIAA0368_GRCh37_9:114180257-114180257_Missense-Mutation_SNP_C-C-T",
          "COL27A1_GRCh37_9:116924994-116924994_Splice-Site_DEL_G-G--",
          "COL5A1_GRCh37_9:137707450-137707450_Missense-Mutation_SNP_G-G-C",
          "PSIP1_GRCh37_9:15474030-15474032_In-Frame-Del_DEL_CTT-CTT--",
          "SLC24A2_GRCh37_9:19619585-19619585_Missense-Mutation_SNP_C-C-T",
          "FOXD4L6_GRCh37_9:69200390-69200390_Missense-Mutation_SNP_G-G-A",
          "PGM5_GRCh37_9:70993145-70993145_Missense-Mutation_SNP_A-A-G",
          "FGD3_GRCh37_9:95738900-95738900_Frame-Shift-Del_DEL_C-C--",
          "TENM1_GRCh37_X:123517769-123517769_Missense-Mutation_SNP_C-C-A",
          "PNCK_GRCh37_X:152935920-152935921_Frame-Shift-Ins_INS_----G",
          "CSTF3_GRCh37_11:33117910-33117910_Frame-Shift-Del_DEL_T-T--",
          "KIAA1024_GRCh37_15:79750586-79750586_Frame-Shift-Del_DEL_A-A--",
          "XYLT2_GRCh37_17:48433967-48433967_Frame-Shift-Del_DEL_C-C--",
          "MYPOP_GRCh37_19:46393942-46393942_Frame-Shift-Del_DEL_G-G--",
          "ATAD2B_GRCh37_2:24086326-24086326_Frame-Shift-Del_DEL_A-A--",
          "FAHD2B_GRCh37_2:97749725-97749725_Frame-Shift-Del_DEL_G-G--",
          "ZBTB20_GRCh37_3:114058003-114058003_Frame-Shift-Del_DEL_G-G--",
          "P2RY13_GRCh37_3:151046142-151046142_Frame-Shift-Del_DEL_T-T--",
          "BCAP29_GRCh37_7:107234540-107234540_Frame-Shift-Del_DEL_T-T--",
          "CLEC4D_GRCh37_12:8666271-8666271_5'UTR_DEL_A-A--",
          "MYO16_GRCh37_13:109379898-109379898_Silent_SNP_C-C-T",
          "MDGA2_GRCh37_14:47530771-47530771_Frame-Shift-Del_DEL_T-T--",
          "PHGR1_GRCh37_15:40648424-40648424_Frame-Shift-Del_DEL_C-C--",
          "B2M_GRCh37_15:45003781-45003782_Frame-Shift-Del_DEL_CT-CT--",
          "RNF111_GRCh37_15:59376343-59376343_Frame-Shift-Del_DEL_C-C--",
          "GTF3C1_GRCh37_16:27509009-27509009_Frame-Shift-Del_DEL_T-T--",
          "NOD2_GRCh37_16:50745399-50745399_Frame-Shift-Del_DEL_C-C--",
          "ZNF469_GRCh37_16:88504203-88504203_Frame-Shift-Del_DEL_G-G--",
          "ESCO1_GRCh37_18:19154750-19154750_Frame-Shift-Del_DEL_T-T--",
          "OR6K2_GRCh37_1:158669532-158669532_Frame-Shift-Del_DEL_T-T--",
          "SCAF4_GRCh37_21:33073336-33073336_Frame-Shift-Del_DEL_G-G--",
          "ZDHHC8_GRCh37_22:20130522-20130522_Frame-Shift-Del_DEL_C-C--",
          "RAD51AP2_GRCh37_2:17698737-17698737_Frame-Shift-Del_DEL_T-T--",
          "SLC12A7_GRCh37_5:1074698-1074698_Frame-Shift-Del_DEL_G-G--",
          "TMEM232_GRCh37_5:109940905-109940905_Frame-Shift-Del_DEL_T-T--",
          "ADAMTS2_GRCh37_5:178559313-178559313_Splice-Site_DEL_T-T--",
          "MYB_GRCh37_6:135518338-135518338_Intron_DEL_A-A--",
          "E2F5_GRCh37_8:86114461-86114461_Frame-Shift-Del_DEL_A-A--",
          "TP53_GRCh37_17:7577539-7577539_Missense-Mutation_SNP_G-G-A",
          "PIK3CA_GRCh37_3:178936082-178936082_Missense-Mutation_SNP_G-G-A",
          "AMER1_GRCh37_X:63411678-63411678_Nonsense-Mutation_SNP_G-G-A",
          "KRAS_GRCh37_12:25398281-25398281_Missense-Mutation_SNP_C-C-T",
          "OTOGL_GRCh37_12:80647295-80647295_Silent_SNP_C-C-T",
          "PPP2R1A_GRCh37_19:52715982-52715982_Missense-Mutation_SNP_C-C-T",
          "PEG3_GRCh37_19:57335822-57335822_Nonsense-Mutation_SNP_G-G-A",
          "C3_GRCh37_19:6718167-6718167_Missense-Mutation_SNP_G-G-A",
          "OR2G2_GRCh37_1:247751925-247751925_Silent_SNP_G-G-A",
          "KIAA1107_GRCh37_1:92647634-92647634_Missense-Mutation_SNP_C-C-A_C-C-G",
          "PTPRN2_GRCh37_7:157985121-157985121_Silent_SNP_G-G-A",
          "APC_GRCh37_5:112164616-112164616_Nonsense-Mutation_SNP_C-C-T",
          "PCDHGB4_GRCh37_5:140768431-140768431_Missense-Mutation_SNP_C-C-T",
          "RBMXL2_GRCh37_11:7111190-7111190_Missense-Mutation_SNP_G-G-A",
          "KRAS_GRCh37_12:25398285-25398285_Missense-Mutation_SNP_C-C-T_C-C-A_C-C-G",
          "PIK3CA_GRCh37_3:178936091-178936091_Missense-Mutation_SNP_G-G-A",
          "FBXW7_GRCh37_4:153244092-153244092_Missense-Mutation_SNP_G-G-A",
          "MIR218-1_GRCh37_4:20529994-20529994_RNA_SNP_C-C-T",
          "CTNNA1_GRCh37_5:138240092-138240092_Nonsense-Mutation_SNP_C-C-T",
          "SLITRK1_GRCh37_13:84455508-84455509_Frame-Shift-Ins_INS_----T",
          "CPXM2_GRCh37_10:125521473-125521473_Silent_SNP_G-G-A",
          "GRIA4_GRCh37_11:105842716-105842716_Silent_SNP_C-C-T",
          "PPFIA2_GRCh37_12:81688687-81688687_Missense-Mutation_SNP_C-C-T",
          "CHRNA3_GRCh37_15:78893858-78893858_Missense-Mutation_SNP_C-C-T",
          "TP53_GRCh37_17:7578526-7578526_Missense-Mutation_SNP_C-C-T",
          "OR10J5_GRCh37_1:159505418-159505418_Missense-Mutation_SNP_C-C-T_C-C-A",
          "GALNT14_GRCh37_2:31215853-31215853_Silent_SNP_G-G-A",
          "PIK3CA_GRCh37_3:178916876-178916876_Missense-Mutation_SNP_G-G-A",
          "EDEM1_GRCh37_3:5252959-5252959_Intron_SNP_G-G-A",
          "ABCA2_GRCh37_9:139910594-139910594_Missense-Mutation_SNP_G-G-A",
          "GRIA4_GRCh37_11:105842684-105842684_Missense-Mutation_SNP_G-G-A",
          "BCAS3_GRCh37_17:58946043-58946043_Missense-Mutation_SNP_C-C-T",
          "APC_GRCh37_5:112116592-112116592_Nonsense-Mutation_SNP_C-C-T",
          "SLC25A48_GRCh37_5:135188257-135188257_Silent_SNP_C-C-T",
          "RUNX1T1_GRCh37_8:92998451-92998451_Missense-Mutation_SNP_G-G-A",
          "UPF2_GRCh37_10:11990443-11990443_Missense-Mutation_SNP_T-T-A",
          "TAF3_GRCh37_10:8007661-8007661_Nonsense-Mutation_SNP_C-C-T",
          "KCNQ1_GRCh37_11:2608867-2608867_Frame-Shift-Del_DEL_C-C--",
          "DTX4_GRCh37_11:58962827-58962827_Frame-Shift-Del_DEL_C-C--",
          "C12orf40_GRCh37_12:40041760-40041760_Frame-Shift-Del_DEL_A-A--",
          "PUS7L_GRCh37_12:44142404-44142404_Missense-Mutation_SNP_G-G-T",
          "NAV3_GRCh37_12:78593174-78593174_Missense-Mutation_SNP_G-G-A",
          "KITLG_GRCh37_12:88910256-88910256_Frame-Shift-Del_DEL_T-T--",
          "IFT88_GRCh37_13:21205247-21205247_Splice-Region_DEL_T-T--",
          "CCNA1_GRCh37_13:37014297-37014297_Missense-Mutation_SNP_G-G-A",
          "SERPINE3_GRCh37_13:51918556-51918556_Missense-Mutation_SNP_C-C-T",
          "SLITRK1_GRCh37_13:84455655-84455655_5'UTR_SNP_C-C-A_C-C-T",
          "AKT1_GRCh37_14:105246551-105246551_Missense-Mutation_SNP_C-C-T",
          "CHD8_GRCh37_14:21862241-21862241_Frame-Shift-Del_DEL_G-G--",
          "SALL2_GRCh37_14:21993741-21993741_Missense-Mutation_SNP_C-C-T",
          "UNC13C_GRCh37_15:54919114-54919114_Missense-Mutation_SNP_G-G-A",
          "GP2_GRCh37_16:20329743-20329743_Silent_SNP_G-G-A",
          "SMPD3_GRCh37_16:68395566-68395566_Silent_SNP_G-G-A",
          "SCARF1_GRCh37_17:1538676-1538676_Silent_SNP_C-C-T",
          "DNAH2_GRCh37_17:7736238-7736238_Frame-Shift-Del_DEL_C-C--",
          "APC2_GRCh37_19:1466939-1466939_Silent_SNP_G-G-A",
          "ZNF98_GRCh37_19:22575688-22575688_Missense-Mutation_SNP_G-G-A_G-G-C",
          "KIRREL2_GRCh37_19:36357214-36357214_Frame-Shift-Del_DEL_C-C--",
          "NLRP5_GRCh37_19:56538965-56538965_Missense-Mutation_SNP_C-C-T",
          "CPSF3L_GRCh37_1:1247977-1247977_Silent_SNP_C-C-T",
          "MXRA8_GRCh37_1:1290110-1290110_Frame-Shift-Del_DEL_G-G--",
          "PEAR1_GRCh37_1:156884483-156884483_Frame-Shift-Del_DEL_C-C--",
          "ARHGEF10L_GRCh37_1:17944938-17944938_Intron_SNP_G-G-A",
          "IPO9_GRCh37_1:201839970-201839970_Missense-Mutation_SNP_C-C-T",
          "PLA2G2E_GRCh37_1:20250061-20250061_5'UTR_DEL_G-G--",
          "SERTAD4-AS1_GRCh37_1:210407341-210407341_RNA_SNP_A-A-T",
          "EFCAB2_GRCh37_1:245133353-245133353_5'UTR_SNP_C-C-T",
          "NDC1_GRCh37_1:54291559-54291559_Frame-Shift-Del_DEL_A-A--",
          "ARHGAP29_GRCh37_1:94655733-94655733_Intron_SNP_C-C-T",
          "LPIN3_GRCh37_20:39981287-39981287_Frame-Shift-Del_DEL_A-A--",
          "DIDO1_GRCh37_20:61522306-61522306_Splice-Region_SNP_G-G-A",
          "TRIB2_GRCh37_2:12880828-12880828_Missense-Mutation_SNP_G-G-A",
          "HOXD10_GRCh37_2:176982035-176982035_Silent_SNP_C-C-T",
          "DYSF_GRCh37_2:71797059-71797059_Missense-Mutation_SNP_G-G-A",
          "DYSF_GRCh37_2:71797751-71797751_Frame-Shift-Del_DEL_C-C--",
          "RASA2_GRCh37_3:141326548-141326548_Frame-Shift-Del_DEL_A-A--",
          "CNTN4_GRCh37_3:3067806-3067806_Frame-Shift-Del_DEL_C-C--",
          "CTNNB1_GRCh37_3:41274897-41274897_Missense-Mutation_SNP_T-T-C_T-T-G",
          "SETD2_GRCh37_3:47165213-47165213_Frame-Shift-Del_DEL_T-T--",
          "NPNT_GRCh37_4:106861795-106861795_Splice-Site_SNP_T-T-A",
          "FBXW7_GRCh37_4:153249385-153249385_Missense-Mutation_SNP_G-G-A",
          "FAM200B_GRCh37_4:15689376-15689377_Frame-Shift-Ins_INS_----T",
          "DBN1_GRCh37_5:176893990-176893990_Missense-Mutation_SNP_C-C-T",
          "IMPG1_GRCh37_6:76640702-76640702_Silent_SNP_G-G-A",
          "PNRC1_GRCh37_6:89793677-89793677_Frame-Shift-Del_DEL_A-A--",
          "CDHR3_GRCh37_7:105662716-105662716_Missense-Mutation_SNP_G-G-A",
          "ZNF467_GRCh37_7:149462736-149462736_Silent_SNP_C-C-T",
          "INTS4L2_GRCh37_7:65156771-65156771_RNA_DEL_T-T--",
          "PPP1R9A_GRCh37_7:94539589-94539589_Frame-Shift-Del_DEL_G-G--",
          "CSMD3_GRCh37_8:113241029-113241029_Frame-Shift-Del_DEL_A-A--",
          "DLC1_GRCh37_8:12968281-12968281_Frame-Shift-Del_DEL_A-A--",
          "POMK_GRCh37_8:42958910-42958910_Silent_SNP_C-C-A",
          "KCNB2_GRCh37_8:73850023-73850023_Silent_SNP_C-C-T",
          "LAMC3_GRCh37_9:133927940-133927940_Frame-Shift-Del_DEL_C-C--",
          "PAX5_GRCh37_9:37034075-37034075_5'UTR_DEL_T-T--",
          "FGD3_GRCh37_9:95738723-95738723_Missense-Mutation_SNP_C-C-T",
          "GNL3L_GRCh37_X:54578332-54578332_Missense-Mutation_SNP_G-G-A",
          "FAM155B_GRCh37_X:68725668-68725668_Silent_SNP_C-C-T",
          "TM9SF3_GRCh37_10:98292921-98292921_Frame-Shift-Del_DEL_A-A--",
          "KIF26A_GRCh37_14:104642560-104642560_Frame-Shift-Del_DEL_C-C--",
          "AXIN2_GRCh37_17:63532585-63532585_Frame-Shift-Del_DEL_C-C--",
          "CHD3_GRCh37_17:7798765-7798765_Frame-Shift-Del_DEL_C-C--",
          "NLRP12_GRCh37_19:54310804-54310804_Frame-Shift-Del_DEL_C-C--",
          "MLLT1_GRCh37_19:6213976-6213976_Frame-Shift-Del_DEL_G-G--",
          "NES_GRCh37_1:156642804-156642804_Frame-Shift-Del_DEL_G-G--",
          "BMPR2_GRCh37_2:203420130-203420130_Frame-Shift-Del_DEL_A-A--",
          "NUP214_GRCh37_9:134073008-134073008_Frame-Shift-Del_DEL_C-C--",
          "DCAF8L2_GRCh37_X:27765444-27765444_Silent_SNP_G-G-A",
          "JAKMIP1_GRCh37_4:6107413-6107413_Silent_SNP_G-G-A",
          "APC_GRCh37_5:112175639-112175639_Nonsense-Mutation_SNP_C-C-T",
          "PAX2_GRCh37_10:102587324-102587324_Frame-Shift-Del_DEL_C-C--",
          "VAX1_GRCh37_10:118893630-118893630_Silent_SNP_C-C-T",
          "ADAM12_GRCh37_10:127737879-127737879_Silent_SNP_G-G-A",
          "C1QL3_GRCh37_10:16562710-16562710_Missense-Mutation_SNP_C-C-T",
          "WDFY4_GRCh37_10:50081622-50081622_Frame-Shift-Del_DEL_G-G--",
          "NCOA4_GRCh37_10:51579212-51579212_Missense-Mutation_SNP_G-G-A",
          "TET1_GRCh37_10:70404809-70404809_Frame-Shift-Del_DEL_A-A--",
          "CTR9_GRCh37_11:10795708-10795710_In-Frame-Del_DEL_GAG-GAG--",
          "ATM_GRCh37_11:108117799-108117799_Missense-Mutation_SNP_G-G-A",
          "TECTA_GRCh37_11:121032949-121032949_Silent_SNP_C-C-T",
          "SCN3B_GRCh37_11:123524568-123524568_Intron_SNP_G-G-A",
          "LGR4_GRCh37_11:27389488-27389488_Nonsense-Mutation_SNP_G-G-A",
          "FOLH1_GRCh37_11:49204780-49204780_Missense-Mutation_SNP_G-G-A",
          "DAK_GRCh37_11:61111695-61111695_Missense-Mutation_SNP_G-G-A",
          "SLC22A12_GRCh37_11:64360334-64360334_Silent_SNP_G-G-A",
          "NAALADL1_GRCh37_11:64825900-64825901_Frame-Shift-Ins_INS_----T",
          "MUS81_GRCh37_11:65632737-65632737_Missense-Mutation_SNP_G-G-A",
          "NUMA1_GRCh37_11:71715795-71715795_Missense-Mutation_SNP_C-C-T",
          "HECTD4_GRCh37_12:112600860-112600860_Frame-Shift-Del_DEL_G-G--",
          "HIP1R_GRCh37_12:123340131-123340131_Frame-Shift-Del_DEL_C-C--",
          "ARNTL2_GRCh37_12:27571076-27571076_Missense-Mutation_SNP_C-C-T",
          "MAP3K12_GRCh37_12:53880958-53880958_Intron_DEL_G-G--",
          "TM9SF2_GRCh37_13:100154009-100154009_Frame-Shift-Del_DEL_A-A--",
          "PRKCH_GRCh37_14:62014535-62014535_Frame-Shift-Del_DEL_T-T--",
          "C15orf52_GRCh37_15:40631782-40631782_Frame-Shift-Del_DEL_C-C--",
          "DMXL2_GRCh37_15:51809289-51809289_Missense-Mutation_SNP_C-C-T",
          "TTC23_GRCh37_15:99679573-99679573_Missense-Mutation_SNP_G-G-A",
          "MYH11_GRCh37_16:15820795-15820797_In-Frame-Del_DEL_CTT-CTT--",
          "PRR14_GRCh37_16:30666121-30666121_Frame-Shift-Del_DEL_C-C--",
          "SLX4_GRCh37_16:3652148-3652148_Silent_SNP_G-G-A",
          "SALL1_GRCh37_16:51172618-51172618_Missense-Mutation_SNP_G-G-A",
          "KCTD19_GRCh37_16:67325658-67325658_Frame-Shift-Del_DEL_G-G--",
          "EFCAB5_GRCh37_17:28417501-28417501_Missense-Mutation_SNP_C-C-T",
          "CDK12_GRCh37_17:37667784-37667784_Missense-Mutation_SNP_G-G-A",
          "AXIN2_GRCh37_17:63532584-63532585_Frame-Shift-Ins_INS_----C",
          "TTYH2_GRCh37_17:72233586-72233586_Frame-Shift-Del_DEL_G-G--",
          "DNAH2_GRCh37_17:7640511-7640511_Missense-Mutation_SNP_C-C-T",
          "HEXDC_GRCh37_17:80400298-80400298_Frame-Shift-Del_DEL_G-G--",
          "GAS7_GRCh37_17:9830078-9830078_Silent_SNP_G-G-A",
          "KEAP1_GRCh37_19:10610686-10610686_Silent_SNP_G-G-A",
          "MRI1_GRCh37_19:13882968-13882968_Frame-Shift-Del_DEL_C-C--",
          "IL27RA_GRCh37_19:14159994-14159994_Nonsense-Mutation_SNP_C-C-T",
          "PGLYRP2_GRCh37_19:15586515-15586515_Silent_SNP_G-G-A",
          "NWD1_GRCh37_19:16918475-16918475_Missense-Mutation_SNP_C-C-T",
          "ZNF14_GRCh37_19:19823207-19823207_Nonsense-Mutation_SNP_G-G-A",
          "TSHZ3_GRCh37_19:31768568-31768568_Missense-Mutation_SNP_C-C-T",
          "CIC_GRCh37_19:42795412-42795412_Missense-Mutation_SNP_C-C-T",
          "MEGF8_GRCh37_19:42861727-42861727_Frame-Shift-Del_DEL_C-C--",
          "TICAM1_GRCh37_19:4816465-4816465_Frame-Shift-Del_DEL_G-G--",
          "ALDH16A1_GRCh37_19:49967724-49967724_Missense-Mutation_SNP_C-C-T",
          "PRR12_GRCh37_19:50098979-50098979_Frame-Shift-Del_DEL_G-G--",
          "TUBB4A_GRCh37_19:6496088-6496088_Frame-Shift-Del_DEL_C-C--",
          "C3_GRCh37_19:6694575-6694575_Frame-Shift-Del_DEL_G-G--",
          "TRIP10_GRCh37_19:6746045-6746045_Frame-Shift-Del_DEL_C-C--",
          "SLC16A1_GRCh37_1:113460203-113460203_Frame-Shift-Del_DEL_A-A--",
          "ANKRD65_GRCh37_1:1354790-1354790_RNA_SNP_G-G-A",
          "GATAD2B_GRCh37_1:153800733-153800733_Nonsense-Mutation_SNP_G-G-A",
          "ATP8B2_GRCh37_1:154304153-154304153_Missense-Mutation_SNP_C-C-T",
          "RP3-467K16.2_GRCh37_1:15656049-15656049_RNA_DEL_T-T--",
          "CCSAP_GRCh37_1:229462504-229462504_Missense-Mutation_SNP_G-G-A",
          "DLGAP3_GRCh37_1:35365852-35365852_Frame-Shift-Del_DEL_C-C--",
          "ASXL1_GRCh37_20:31023045-31023046_Frame-Shift-Ins_INS_----C",
          "ZNF334_GRCh37_20:45130930-45130930_Missense-Mutation_SNP_C-C-T",
          "IFNGR2_GRCh37_21:34799292-34799292_Frame-Shift-Del_DEL_T-T--",
          "HIC2_GRCh37_22:21799865-21799865_Frame-Shift-Del_DEL_G-G--",
          "SMTN_GRCh37_22:31485922-31485922_Frame-Shift-Del_DEL_C-C--",
          "RFPL2_GRCh37_22:32589332-32589332_Intron_DEL_C-C--",
          "CARD10_GRCh37_22:37900249-37900249_Frame-Shift-Del_DEL_G-G--",
          "CHRNA1_GRCh37_2:175622346-175622346_Frame-Shift-Del_DEL_T-T--",
          "PLCL1_GRCh37_2:198950849-198950849_Missense-Mutation_SNP_C-C-T",
          "MAP2_GRCh37_2:210561667-210561667_Frame-Shift-Del_DEL_A-A--",
          "ZNF142_GRCh37_2:219508084-219508084_Frame-Shift-Del_DEL_C-C--",
          "NGEF_GRCh37_2:233785159-233785159_Silent_SNP_C-C-T",
          "ACKR4_GRCh37_3:132320115-132320115_Missense-Mutation_SNP_G-G-A",
          "LIMD1_GRCh37_3:45637325-45637325_Frame-Shift-Del_DEL_G-G--",
          "ADAMTS3_GRCh37_4:73186526-73186526_Missense-Mutation_SNP_G-G-A",
          "MATR3_GRCh37_5:138643063-138643063_5'UTR_SNP_T-T-A",
          "PCDHGA12_GRCh37_5:140811649-140811649_Silent_SNP_C-C-T",
          "ARAP3_GRCh37_5:141039457-141039457_Silent_SNP_C-C-T",
          "NIPBL_GRCh37_5:36984789-36984789_Frame-Shift-Del_DEL_A-A--",
          "FST_GRCh37_5:52781596-52781596_Intron_SNP_A-A-T",
          "GZMA_GRCh37_5:54405923-54405923_Silent_SNP_C-C-T",
          "SLC22A16_GRCh37_6:110746117-110746117_Frame-Shift-Del_DEL_T-T--",
          "HBS1L_GRCh37_6:135290431-135290431_Nonsense-Mutation_SNP_G-G-A",
          "HIST1H1E_GRCh37_6:26156678-26156680_In-Frame-Del_DEL_GAA-GAA--",
          "C6orf222_GRCh37_6:36287354-36287354_Frame-Shift-Del_DEL_A-A--",
          "KCNK16_GRCh37_6:39283980-39283980_Intron_DEL_C-C--",
          "SENP6_GRCh37_6:76423416-76423416_Frame-Shift-Del_DEL_A-A--",
          "CUX1_GRCh37_7:101870751-101870751_Frame-Shift-Del_DEL_C-C--",
          "ZNF398_GRCh37_7:148876463-148876463_Missense-Mutation_SNP_G-G-A",
          "CARD11_GRCh37_7:2968323-2968323_Frame-Shift-Del_DEL_G-G--",
          "PPP1R16A_GRCh37_8:145727027-145727027_Frame-Shift-Del_DEL_C-C--",
          "WDR34_GRCh37_9:131397114-131397114_Silent_SNP_G-G-A",
          "SH3GLB2_GRCh37_9:131777085-131777085_Missense-Mutation_SNP_G-G-A",
          "NOTCH1_GRCh37_9:139391555-139391555_Silent_SNP_G-G-A",
          "C9orf131_GRCh37_9:35043650-35043650_Frame-Shift-Del_DEL_C-C--",
          "APLN_GRCh37_X:128781742-128781742_Frame-Shift-Del_DEL_G-G--",
          "MAP7D3_GRCh37_X:135314194-135314194_Frame-Shift-Del_DEL_G-G--",
          "OFD1_GRCh37_X:13778510-13778510_Missense-Mutation_SNP_G-G-A",
          "KLHL34_GRCh37_X:21675046-21675046_Frame-Shift-Del_DEL_C-C--",
          "NPAT_GRCh37_11:108044069-108044069_Frame-Shift-Del_DEL_T-T--",
          "PDE3A_GRCh37_12:20522722-20522723_Frame-Shift-Ins_INS_----G",
          "ZFC3H1_GRCh37_12:72038781-72038781_Frame-Shift-Del_DEL_T-T--",
          "NTAN1_GRCh37_16:15131990-15131990_Frame-Shift-Del_DEL_T-T--",
          "CHST5_GRCh37_16:75564810-75564810_5'UTR_DEL_G-G--",
          "KSR1_GRCh37_17:25910016-25910016_Frame-Shift-Del_DEL_C-C--",
          "AHDC1_GRCh37_1:27876869-27876869_Frame-Shift-Del_DEL_T-T--",
          "PLAGL2_GRCh37_20:30789952-30789952_Frame-Shift-Del_DEL_G-G--",
          "FAHD2CP_GRCh37_2:96687157-96687157_RNA_DEL_C-C--",
          "OSMR_GRCh37_5:38923329-38923329_Frame-Shift-Del_DEL_A-A--",
          "AK9_GRCh37_6:109850222-109850222_Frame-Shift-Del_DEL_T-T--",
          "SLC26A7_GRCh37_8:92352747-92352747_Frame-Shift-Del_DEL_A-A--",
          "PLXNA3_GRCh37_X:153688565-153688565_Frame-Shift-Del_DEL_G-G--",
          "ATF4P4_GRCh37_11:113661000-113661000_RNA_SNP_G-G-A",
          "KRAS_GRCh37_12:25380275-25380275_Missense-Mutation_SNP_T-T-G",
          "ZNF383_GRCh37_19:37734538-37734538_Missense-Mutation_SNP_G-G-A",
          "NLRP9_GRCh37_19:56244405-56244406_Frame-Shift-Ins_INS_----T",
          "PARVG_GRCh37_22:44602300-44602300_Silent_SNP_G-G-A",
          "NRCAM_GRCh37_7:107823349-107823349_Missense-Mutation_SNP_C-C-T",
          "KIAA1377_GRCh37_11:101793446-101793446_Missense-Mutation_SNP_G-G-A",
          "TP53_GRCh37_17:7577538-7577538_Missense-Mutation_SNP_C-C-T",
          "APC_GRCh37_5:112175423-112175423_Nonsense-Mutation_SNP_C-C-T",
          "ESR1_GRCh37_6:152265534-152265534_Silent_SNP_C-C-T_C-C-A",
          "CSF2RA_GRCh37_X:1407737-1407737_Silent_SNP_G-G-A",
          "APC_GRCh37_5:112162891-112162891_Nonsense-Mutation_SNP_C-C-T",
          "AMER1_GRCh37_X:63412095-63412095_Nonsense-Mutation_SNP_G-G-A",
          "TP53_GRCh37_17:7577121-7577121_Missense-Mutation_SNP_G-G-A",
          "APC_GRCh37_5:112175480-112175480_Nonsense-Mutation_SNP_G-G-T",
          "PARPBP_GRCh37_12:102576394-102576394_Frame-Shift-Del_DEL_A-A--",
          "APC_GRCh37_5:112175507-112175507_Nonsense-Mutation_SNP_C-C-T",
          "AGBL5_GRCh37_2:27277614-27277614_Missense-Mutation_SNP_G-G-A",
          "ONECUT1_GRCh37_15:53049845-53049845_Silent_SNP_G-G-A",
          "SYNE1_GRCh37_6:152470650-152470650_Missense-Mutation_SNP_G-G-A",
          "EGR2_GRCh37_10:64573486-64573486_Silent_SNP_G-G-T",
          "YIF1A_GRCh37_11:66055105-66055105_Frame-Shift-Del_DEL_G-G--",
          "MBD6_GRCh37_12:57921002-57921002_Frame-Shift-Del_DEL_C-C--",
          "C17orf74_GRCh37_17:7329688-7329688_Silent_SNP_C-C-T",
          "CPAMD8_GRCh37_19:17039884-17039884_Frame-Shift-Del_DEL_C-C--",
          "ZNF880_GRCh37_19:52888438-52888438_Frame-Shift-Del_DEL_A-A--",
          "NFASC_GRCh37_1:204924033-204924033_Frame-Shift-Del_DEL_C-C--",
          "SPRTN_GRCh37_1:231487256-231487256_Frame-Shift-Del_DEL_A-A--",
          "CD93_GRCh37_20:23066469-23066469_Frame-Shift-Del_DEL_C-C--",
          "C20orf85_GRCh37_20:56735727-56735727_Frame-Shift-Del_DEL_C-C--",
          "CRYGA_GRCh37_2:209025577-209025577_Frame-Shift-Del_DEL_C-C--",
          "BTNL8_GRCh37_5:180374580-180374580_Frame-Shift-Del_DEL_T-T--",
          "MICAL1_GRCh37_6:109767002-109767004_In-Frame-Del_DEL_TCT-TCT--",
          "NELFE_GRCh37_6:31926206-31926206_Frame-Shift-Del_DEL_G-G--",
          "AARS2_GRCh37_6:44275060-44275060_Silent_SNP_G-G-A",
          "AP5Z1_GRCh37_7:4830445-4830445_Frame-Shift-Del_DEL_C-C--",
          "UBQLN2_GRCh37_X:56591874-56591874_Frame-Shift-Del_DEL_C-C--",
          "PAX3_GRCh37_2:223066812-223066812_Missense-Mutation_SNP_G-G-A",
          "APC_GRCh37_5:112175390-112175390_Nonsense-Mutation_SNP_C-C-T",
          "NALCN_GRCh37_13:101717782-101717782_Silent_SNP_G-G-A",
          "POTEG_GRCh37_14:19563232-19563232_Intron_SNP_T-T-C",
          "RILP_GRCh37_17:1553124-1553124_5'UTR_DEL_C-C--",
          "MPRIP_GRCh37_17:17046886-17046886_Frame-Shift-Del_DEL_C-C--",
          "LHX1_GRCh37_17:35300395-35300395_Frame-Shift-Del_DEL_C-C--",
          "ZNF540_GRCh37_19:38103018-38103018_Frame-Shift-Del_DEL_T-T--",
          "SLC8A2_GRCh37_19:47969003-47969003_Frame-Shift-Del_DEL_A-A--",
          "FBN3_GRCh37_19:8152733-8152733_Missense-Mutation_SNP_G-G-A",
          "MYBPH_GRCh37_1:203144870-203144870_Frame-Shift-Del_DEL_T-T--",
          "ACVR2A_GRCh37_2:148683686-148683686_Frame-Shift-Del_DEL_A-A--",
          "MECOM_GRCh37_3:168833257-168833257_Frame-Shift-Del_DEL_T-T--",
          "PIK3CA_GRCh37_3:178952085-178952085_Missense-Mutation_SNP_A-A-G",
          "LYAR_GRCh37_4:4285458-4285458_Frame-Shift-Del_DEL_A-A--",
          "JAKMIP1_GRCh37_4:6064099-6064099_Silent_SNP_G-G-A",
          "QKI_GRCh37_6:163987695-163987695_Intron_DEL_T-T--",
          "CBX3_GRCh37_7:26245989-26245989_Frame-Shift-Del_DEL_A-A--",
          "PCLO_GRCh37_7:82582944-82582944_Frame-Shift-Del_DEL_T-T--",
          "SOX7_GRCh37_8:10583646-10583646_Frame-Shift-Del_DEL_G-G--",
          "MAGEC1_GRCh37_X:140996328-140996328_Missense-Mutation_SNP_A-A-C",
          "PAX6_GRCh37_11:31812317-31812317_Frame-Shift-Del_DEL_G-G--",
          "KDM2B_GRCh37_12:122018740-122018740_Frame-Shift-Del_DEL_T-T--",
          "SCNN1A_GRCh37_12:6457044-6457045_Frame-Shift-Ins_INS_----C",
          "SLC6A15_GRCh37_12:85279790-85279790_Frame-Shift-Del_DEL_A-A--",
          "CEP290_GRCh37_12:88524079-88524079_Frame-Shift-Del_DEL_T-T--",
          "LCP1_GRCh37_13:46716466-46716466_Missense-Mutation_SNP_C-C-T",
          "INSM2_GRCh37_14:36005056-36005057_Frame-Shift-Ins_INS_----T",
          "HCFC1R1_GRCh37_16:3073266-3073266_Frame-Shift-Del_DEL_G-G--",
          "MYOCD_GRCh37_17:12656041-12656041_Frame-Shift-Del_DEL_C-C--",
          "PRPF8_GRCh37_17:1563231-1563231_Missense-Mutation_SNP_C-C-T",
          "ZNF271_GRCh37_18:32888086-32888090_RNA_DEL_AAAAC-AAAAC--",
          "SMARCA4_GRCh37_19:11132437-11132437_Missense-Mutation_SNP_C-C-T",
          "SLC16A1_GRCh37_1:113471890-113471890_Frame-Shift-Del_DEL_G-G--",
          "SV2A_GRCh37_1:149884981-149884981_Frame-Shift-Del_DEL_C-C--",
          "DENND4B_GRCh37_1:153906129-153906129_Frame-Shift-Del_DEL_G-G--",
          "EPHA2_GRCh37_1:16462199-16462199_Frame-Shift-Del_DEL_G-G--",
          "MST1R_GRCh37_3:49934243-49934243_Frame-Shift-Del_DEL_C-C--",
          "FLNB_GRCh37_3:58156440-58156440_Frame-Shift-Del_DEL_G-G--",
          "CPEB2_GRCh37_4:15067858-15067858_Frame-Shift-Del_DEL_T-T--",
          "GUF1_GRCh37_4:44680574-44680574_5'UTR_DEL_A-A--",
          "TRIO_GRCh37_5:14487619-14487619_Silent_SNP_C-C-G",
          "LPAL2_GRCh37_6:160874534-160874534_RNA_SNP_G-G-A",
          "T_GRCh37_6:166571895-166571895_Missense-Mutation_SNP_C-C-T",
          "NAPEPLD_GRCh37_7:102760123-102760123_Frame-Shift-Del_DEL_A-A--",
          "EPHX2_GRCh37_8:27364393-27364393_Frame-Shift-Del_DEL_T-T--",
          "GOLGA2_GRCh37_9:131022391-131022391_Silent_SNP_G-G-A",
          "CEL_GRCh37_9:135947053-135947053_Missense-Mutation_SNP_G-G-C",
          "CNTLN_GRCh37_9:17135271-17135271_Frame-Shift-Del_DEL_G-G--",
          "HABP4_GRCh37_9:99227746-99227746_Nonsense-Mutation_SNP_C-C-T",
          "IL2RG_GRCh37_X:70327614-70327614_Frame-Shift-Del_DEL_G-G--",
          "APC_GRCh37_5:112175246-112175246_Frame-Shift-Del_DEL_C-C--",
          "PTPN11_GRCh37_12:112926888-112926888_Missense-Mutation_SNP_G-G-T",
          "TBC1D2B_GRCh37_15:78316559-78316559_Missense-Mutation_SNP_G-G-A",
          "CASKIN2_GRCh37_17:73501069-73501069_Frame-Shift-Del_DEL_G-G--",
          "SMAD4_GRCh37_18:48591919-48591919_Missense-Mutation_SNP_G-G-A",
          "CELSR1_GRCh37_22:46931227-46931227_Frame-Shift-Del_DEL_C-C--",
          "RADIL_GRCh37_7:4841484-4841484_Frame-Shift-Del_DEL_G-G--",
          "APC_GRCh37_5:112128143-112128143_Nonsense-Mutation_SNP_C-C-T",
          "TP53_GRCh37_17:7577120-7577120_Missense-Mutation_SNP_C-C-T",
          "APC_GRCh37_5:112151204-112151204_Nonsense-Mutation_SNP_C-C-T",
          "FAM91A1_GRCh37_8:124799557-124799557_Missense-Mutation_SNP_G-G-A",
          "KIAA2026_GRCh37_9:5921755-5921755_Missense-Mutation_SNP_G-G-A",
          "PHF21A_GRCh37_11:45955607-45955607_Frame-Shift-Del_DEL_G-G--",
          "MEN1_GRCh37_11:64572093-64572093_Frame-Shift-Del_DEL_G-G--",
          "AP5B1_GRCh37_11:65545457-65545457_Frame-Shift-Del_DEL_G-G--",
          "ST8SIA1_GRCh37_12:22401947-22401947_Missense-Mutation_SNP_G-G-A",
          "CKAP2_GRCh37_13:53029673-53029673_5'UTR_DEL_C-C--",
          "ATXN2L_GRCh37_16:28847350-28847350_Frame-Shift-Del_DEL_G-G--",
          "FUS_GRCh37_16:31196420-31196420_Silent_SNP_C-C-T",
          "ZC3H18_GRCh37_16:88691141-88691141_Frame-Shift-Del_DEL_C-C--",
          "ZBTB7C_GRCh37_18:45567085-45567085_Frame-Shift-Del_DEL_C-C--",
          "RYR1_GRCh37_19:39062778-39062778_Silent_SNP_C-C-T",
          "AKNAD1_GRCh37_1:109366208-109366208_Missense-Mutation_SNP_C-C-T_C-C-A",
          "MEX3A_GRCh37_1:156046736-156046736_Missense-Mutation_SNP_C-C-T",
          "CRB1_GRCh37_1:197390428-197390428_Silent_SNP_C-C-T",
          "PODN_GRCh37_1:53543377-53543377_Frame-Shift-Del_DEL_C-C--",
          "SBF1_GRCh37_22:50898756-50898756_Frame-Shift-Del_DEL_G-G--",
          "SCN9A_GRCh37_2:167085266-167085266_Nonsense-Mutation_SNP_G-G-A",
          "TRIP12_GRCh37_2:230661315-230661315_Frame-Shift-Del_DEL_A-A--",
          "PCDHGA3_GRCh37_5:140725883-140725883_Silent_SNP_G-G-A",
          "GPR22_GRCh37_7:107115558-107115558_Frame-Shift-Del_DEL_T-T--",
          "SMO_GRCh37_7:128852004-128852004_Frame-Shift-Del_DEL_C-C--",
          "NEFM_GRCh37_8:24772062-24772062_Silent_SNP_G-G-A",
          "PPP2R2A_GRCh37_8:26149253-26149253_5'UTR_DEL_C-C--",
          "CNTRL_GRCh37_9:123914741-123914741_Intron_DEL_T-T--",
          "PPP1R26_GRCh37_9:138379043-138379043_Frame-Shift-Del_DEL_G-G--",
          "ALG13_GRCh37_X:110987993-110987993_Silent_SNP_A-A-T",
          "ATM_GRCh37_11:108117798-108117798_Missense-Mutation_SNP_C-C-T",
          "GNAS_GRCh37_20:57484421-57484421_Missense-Mutation_SNP_G-G-A_G-G-T",
          "APC_GRCh37_5:112174631-112174631_Nonsense-Mutation_SNP_C-C-T",
          "ZNF597_GRCh37_16:3486729-3486729_Missense-Mutation_SNP_G-G-A",
          "DYRK1B_GRCh37_19:40317941-40317941_Missense-Mutation_SNP_G-G-A",
          "APC_GRCh37_5:112164586-112164586_Nonsense-Mutation_SNP_C-C-T",
          "CSF2RA_GRCh37_X:1407701-1407701_Silent_SNP_G-G-A",
          "CHST15_GRCh37_10:125780896-125780896_Missense-Mutation_SNP_G-G-A",
          "PLAU_GRCh37_10:75672058-75672058_Silent_SNP_C-C-T",
          "TNKS2_GRCh37_10:93615386-93615386_Nonsense-Mutation_SNP_C-C-T",
          "WDR66_GRCh37_12:122437640-122437640_Missense-Mutation_SNP_G-G-A",
          "SACS_GRCh37_13:23909298-23909298_Missense-Mutation_SNP_C-C-T",
          "TINF2_GRCh37_14:24709172-24709172_Intron_SNP_G-G-A",
          "CATSPER2P1_GRCh37_15:44028388-44028388_RNA_SNP_G-G-A",
          "LEO1_GRCh37_15:52252142-52252142_Missense-Mutation_SNP_C-C-T",
          "RNMT_GRCh37_18:13741530-13741530_Missense-Mutation_SNP_C-C-T",
          "ZNF470_GRCh37_19:57089887-57089887_Missense-Mutation_SNP_G-G-A",
          "ZNF772_GRCh37_19:57985398-57985398_Silent_SNP_G-G-A",
          "AMPD1_GRCh37_1:115223060-115223060_Missense-Mutation_SNP_C-C-T",
          "MR1_GRCh37_1:181018257-181018257_Missense-Mutation_SNP_C-C-T",
          "DEFB126_GRCh37_20:126299-126299_Missense-Mutation_SNP_C-C-T",
          "TPTE_GRCh37_21:10934966-10934966_Missense-Mutation_SNP_C-C-T_C-C-G",
          "RNF103_GRCh37_2:86847539-86847539_Missense-Mutation_SNP_C-C-T",
          "STXBP5L_GRCh37_3:121126141-121126141_Missense-Mutation_SNP_G-G-A",
          "RAF1_GRCh37_3:12645699-12645699_Missense-Mutation_SNP_G-G-A",
          "DNAH12_GRCh37_3:57438668-57438668_Missense-Mutation_SNP_G-G-A",
          "ZNF732_GRCh37_4:265837-265837_Missense-Mutation_SNP_C-C-A",
          "ZNF721_GRCh37_4:436526-436526_Missense-Mutation_SNP_C-C-A_C-C-T",
          "ZNF721_GRCh37_4:436610-436610_Missense-Mutation_SNP_C-C-A_C-C-T",
          "PCDHB15_GRCh37_5:140626087-140626087_Missense-Mutation_SNP_C-C-T",
          "AFAP1L1_GRCh37_5:148687128-148687128_Silent_SNP_C-C-T",
          "HBS1L_GRCh37_6:135358048-135358048_Intron_SNP_C-C-T",
          "ARMC12_GRCh37_6:35716450-35716450_Missense-Mutation_SNP_G-G-A",
          "MLIP_GRCh37_6:53883756-53883756_5'UTR_SNP_G-G-A",
          "WASL_GRCh37_7:123346345-123346345_Missense-Mutation_SNP_C-C-T",
          "PRKDC_GRCh37_8:48749969-48749969_Missense-Mutation_SNP_C-C-T",
          "MCF2_GRCh37_X:138697171-138697171_Missense-Mutation_SNP_C-C-T",
          "CDX4_GRCh37_X:72667221-72667221_Silent_SNP_C-C-T",
          "TP53_GRCh37_17:7577548-7577548_Missense-Mutation_SNP_C-C-T",
          "ZDBF2_GRCh37_2:207175936-207175936_Silent_SNP_G-G-A",
          "KRAS_GRCh37_12:25378562-25378562_Missense-Mutation_SNP_C-C-T",
          "SEMG2_GRCh37_20:43851702-43851702_Nonsense-Mutation_SNP_C-C-T",
          "DCAF12L2_GRCh37_X:125298907-125298907_Missense-Mutation_SNP_G-G-A",
          "PSD_GRCh37_10:104175781-104175781_Frame-Shift-Del_DEL_G-G--",
          "LARP4B_GRCh37_10:890939-890939_Frame-Shift-Del_DEL_T-T--",
          "PTEN_GRCh37_10:89717770-89717770_Frame-Shift-Del_DEL_A-A--",
          "C11orf57_GRCh37_11:111953144-111953144_Intron_DEL_T-T--",
          "B4GALNT1_GRCh37_12:58025103-58025103_Frame-Shift-Del_DEL_C-C--",
          "AVPR1A_GRCh37_12:63541343-63541343_Frame-Shift-Del_DEL_A-A--",
          "FBXO34_GRCh37_14:55817461-55817461_Frame-Shift-Del_DEL_A-A--",
          "DPF3_GRCh37_14:73141016-73141016_Frame-Shift-Del_DEL_C-C--",
          "ELMSAN1_GRCh37_14:74205773-74205773_Frame-Shift-Del_DEL_G-G--",
          "CPSF2_GRCh37_14:92624055-92624055_Frame-Shift-Del_DEL_A-A--",
          "ATG2B_GRCh37_14:96761299-96761299_Frame-Shift-Del_DEL_A-A--",
          "PRRT2_GRCh37_16:29825012-29825012_Frame-Shift-Del_DEL_G-G--",
          "HNRNPL_GRCh37_19:39330958-39330959_Frame-Shift-Ins_INS_----G",
          "TEAD2_GRCh37_19:49850473-49850473_Frame-Shift-Del_DEL_G-G--",
          "DENND4B_GRCh37_1:153916853-153916853_5'UTR_DEL_C-C--",
          "ARID1A_GRCh37_1:27106804-27106804_Frame-Shift-Del_DEL_C-C--",
          "ZMYM1_GRCh37_1:35578941-35578941_Frame-Shift-Del_DEL_A-A--",
          "AC008268.2_GRCh37_2:96459538-96459539_RNA_INS_----C_----CC",
          "PDIA5_GRCh37_3:122869089-122869089_Frame-Shift-Del_DEL_C-C--",
          "MECOM_GRCh37_3:169381319-169381319_RNA_SNP_C-C-T",
          "PRKCI_GRCh37_3:169998104-169998104_Nonsense-Mutation_SNP_T-T-A",
          "CTNNB1_GRCh37_3:41266124-41266124_Missense-Mutation_SNP_A-A-G",
          "RAB28_GRCh37_4:13485808-13485808_5'UTR_DEL_G-G--",
          "PCDHA4_GRCh37_5:140188073-140188073_Missense-Mutation_SNP_C-C-T",
          "NKAPL_GRCh37_6:28227519-28227520_Frame-Shift-Del_DEL_GA-GA--",
          "NOTCH4_GRCh37_6:32170147-32170147_Frame-Shift-Del_DEL_C-C--",
          "BAIAP2L1_GRCh37_7:97933623-97933623_Frame-Shift-Del_DEL_G-G--",
          "ZFAT_GRCh37_8:135612914-135612914_Splice-Region_DEL_A-A--",
          "CYHR1_GRCh37_8:145689659-145689659_Intron_DEL_C-C--",
          "RGS20_GRCh37_8:54792097-54792097_Frame-Shift-Del_DEL_C-C--",
          "PTENP1_GRCh37_9:33675326-33675326_RNA_SNP_T-T-C",
          "HAUS7_GRCh37_X:152721027-152721027_Silent_SNP_C-C-T",
          "ARID3B_GRCh37_15:74836313-74836313_Silent_SNP_G-G-A",
          "TP53_GRCh37_17:7577106-7577106_Missense-Mutation_SNP_G-G-C_G-G-T",
          "ANK3_GRCh37_10:61828580-61828580_Frame-Shift-Del_DEL_T-T--",
          "BTBD11_GRCh37_12:107937778-107937778_Frame-Shift-Del_DEL_C-C--",
          "CDX2_GRCh37_13:28537278-28537278_Frame-Shift-Del_DEL_C-C--",
          "CBLN3_GRCh37_14:24898055-24898055_Frame-Shift-Del_DEL_G-G--",
          "YLPM1_GRCh37_14:75230947-75230947_Frame-Shift-Del_DEL_C-C--",
          "WDR87_GRCh37_19:38376035-38376035_Frame-Shift-Del_DEL_T-T--",
          "BCL9_GRCh37_1:147091501-147091501_Frame-Shift-Del_DEL_C-C--",
          "SLC9C1_GRCh37_3:111923223-111923223_Frame-Shift-Del_DEL_A-A--",
          "ATP13A5_GRCh37_3:193082018-193082018_Missense-Mutation_SNP_C-C-T",
          "ANK1_GRCh37_8:41566383-41566383_Silent_SNP_C-C-T",
          "ALG13_GRCh37_X:110988002-110988002_Silent_SNP_T-T-A",
          "BCORL1_GRCh37_X:129190011-129190011_Frame-Shift-Del_DEL_C-C--",
          "RTL1_GRCh37_14:101347507-101347507_Frame-Shift-Del_DEL_G-G--",
          "NDUFB10_GRCh37_16:2011238-2011240_In-Frame-Del_DEL_AGG-AGG--",
          "ZNF271_GRCh37_18:32888087-32888090_RNA_DEL_AAAC-AAAC--",
          "CD58_GRCh37_1:117078661-117078662_Frame-Shift-Ins_INS_----T",
          "KIAA1755_GRCh37_20:36854123-36854123_Missense-Mutation_SNP_C-C-T",
          "KIAA0825_GRCh37_5:93788720-93788720_Frame-Shift-Del_DEL_A-A--",
          "PNISR_GRCh37_6:99848583-99848584_Frame-Shift-Ins_INS_----T",
          "RIMS2_GRCh37_8:104831715-104831715_Intron_DEL_G-G--",
          "DEFB136_GRCh37_8:11831592-11831592_Missense-Mutation_SNP_G-G-A",
          "MIR602_GRCh37_9:140732961-140732961_RNA_DEL_C-C--",
          "APC_GRCh37_5:112175162-112175162_Nonsense-Mutation_SNP_C-C-T",
          "APC_GRCh37_5:112175303-112175303_Nonsense-Mutation_SNP_C-C-T",
          "ROBO3_GRCh37_11:124739423-124739423_Frame-Shift-Del_DEL_C-C--",
          "CDON_GRCh37_11:125875841-125875841_Missense-Mutation_SNP_G-G-A",
          "NCOR2_GRCh37_12:124848228-124848228_Frame-Shift-Del_DEL_G-G--",
          "WNT1_GRCh37_12:49374348-49374348_Frame-Shift-Del_DEL_G-G--",
          "DGKE_GRCh37_17:54921519-54921519_Frame-Shift-Del_DEL_A-A--",
          "SSBP4_GRCh37_19:18542165-18542165_Frame-Shift-Del_DEL_C-C--",
          "HNRNPL_GRCh37_19:39330959-39330959_Frame-Shift-Del_DEL_G-G--",
          "CSMD2_GRCh37_1:34166229-34166229_Frame-Shift-Del_DEL_A-A--",
          "ICOSLG_GRCh37_21:45656840-45656840_Frame-Shift-Del_DEL_G-G--",
          "ZNF501_GRCh37_3:44775874-44775874_5'UTR_DEL_A-A--",
          "FLNB_GRCh37_3:58089788-58089788_Frame-Shift-Del_DEL_G-G--",
          "CAV1_GRCh37_7:116165017-116165017_5'UTR_DEL_T-T--",
          "NOS3_GRCh37_7:150698398-150698398_Frame-Shift-Del_DEL_G-G--",
          "TRA2A_GRCh37_7:23561888-23561888_Intron_DEL_A-A--",
          "SCRIB_GRCh37_8:144886852-144886852_Frame-Shift-Del_DEL_G-G--",
          "RP1_GRCh37_8:55538813-55538813_Frame-Shift-Del_DEL_A-A--",
          "SOX9_GRCh37_17:70119762-70119763_Frame-Shift-Ins_INS_----GGGGC_----G",
          "APC_GRCh37_5:112174096-112174096_Nonsense-Mutation_SNP_C-C-A_C-C-G",
          "AMER1_GRCh37_X:63411366-63411366_Nonsense-Mutation_SNP_G-G-A",
          "KCNA4_GRCh37_11:30032940-30032940_Frame-Shift-Del_DEL_C-C--",
          "SLC11A2_GRCh37_12:51392999-51392999_Frame-Shift-Del_DEL_A-A--",
          "SMAD6_GRCh37_15:66995566-66995566_5'UTR_DEL_C-C--",
          "PRSS54_GRCh37_16:58325032-58325032_Missense-Mutation_SNP_C-C-T",
          "KDELR1_GRCh37_19:48894662-48894662_5'UTR_DEL_G-G--",
          "NCOA6_GRCh37_20:33345744-33345744_Silent_SNP_C-C-T",
          "PXDN_GRCh37_2:1652960-1652960_Frame-Shift-Del_DEL_G-G--",
          "ZFP36L2_GRCh37_2:43452512-43452512_Frame-Shift-Del_DEL_C-C--",
          "RAPGEF2_GRCh37_4:160253755-160253755_Frame-Shift-Del_DEL_A-A--",
          "GPR98_GRCh37_5:90106342-90106342_Frame-Shift-Del_DEL_T-T--",
          "PAX5_GRCh37_9:37034103-37034103_5'UTR_SNP_T-T-C",
          "SPATA31D4_GRCh37_9:84547410-84547410_RNA_DEL_A-A--",
          "TP53_GRCh37_17:7577094-7577094_Missense-Mutation_SNP_G-G-A",
          "SMAD4_GRCh37_18:48604787-48604787_Missense-Mutation_SNP_G-G-C",
          "RYR2_GRCh37_1:237729972-237729972_Missense-Mutation_SNP_C-C-T",
          "ZNF30_GRCh37_19:35435665-35435665_Frame-Shift-Del_DEL_A-A--",
          "CAMSAP2_GRCh37_1:200827020-200827020_Frame-Shift-Del_DEL_A-A--",
          "RD3_GRCh37_1:211654526-211654526_Missense-Mutation_SNP_G-G-A",
          "UCKL1_GRCh37_20:62577831-62577831_Silent_SNP_C-C-T",
          "STAG1_GRCh37_3:136287655-136287655_Missense-Mutation_SNP_C-C-T",
          "PIK3CA_GRCh37_3:178938934-178938934_Missense-Mutation_SNP_G-G-A",
          "PLXNB1_GRCh37_3:48465485-48465485_Frame-Shift-Del_DEL_C-C--",
          "APC_GRCh37_5:112175513-112175513_Nonsense-Mutation_SNP_G-G-T",
          "STAMBPL1_GRCh37_10:90682146-90682146_Frame-Shift-Del_DEL_A-A--",
          "RP11-496I9.1_GRCh37_11:558069-558069_RNA_DEL_G-G--",
          "ZNF263_GRCh37_16:3336043-3336043_Silent_SNP_C-C-T",
          "ZNF469_GRCh37_16:88504852-88504852_Frame-Shift-Del_DEL_G-G--",
          "ABR_GRCh37_17:909374-909374_Frame-Shift-Del_DEL_G-G--",
          "RPL22_GRCh37_1:6257785-6257785_Frame-Shift-Del_DEL_T-T--",
          "TANK_GRCh37_2:162036165-162036165_5'UTR_SNP_C-C-T",
          "LRRC31_GRCh37_3:169557805-169557805_Frame-Shift-Del_DEL_T-T--",
          "PIK3CA_GRCh37_3:178936083-178936083_Missense-Mutation_SNP_A-A-G_A-A-C",
          "SYNE1_GRCh37_6:152644801-152644801_Silent_SNP_C-C-T",
          "RUNX2_GRCh37_6:45390355-45390355_Frame-Shift-Del_DEL_C-C--",
          "EFHC1_GRCh37_6:52334208-52334208_Frame-Shift-Del_DEL_A-A--",
          "AMOT_GRCh37_X:112065639-112065639_Frame-Shift-Del_DEL_G-G--",
          "ATP10A_GRCh37_15:26026181-26026181_Silent_SNP_G-G-A",
          "ACADVL_GRCh37_17:7127173-7127173_Frame-Shift-Del_DEL_G-G--",
          "TSPAN10_GRCh37_17:79612317-79612317_Frame-Shift-Del_DEL_G-G--",
          "PLEKHA6_GRCh37_1:204234135-204234135_Frame-Shift-Del_DEL_G-G--",
          "ARID1A_GRCh37_1:27105931-27105931_Frame-Shift-Del_DEL_G-G--",
          "EVI5_GRCh37_1:93169000-93169000_Frame-Shift-Del_DEL_A-A--",
          "CSRP2BP_GRCh37_20:18163864-18163864_Missense-Mutation_SNP_G-G-A",
          "LZTS3_GRCh37_20:3147820-3147820_5'UTR_DEL_G-G--",
          "GAB4_GRCh37_22:17488858-17488858_Silent_SNP_C-C-T",
          "FBXW7_GRCh37_4:153249384-153249384_Missense-Mutation_SNP_C-C-T",
          "LMBRD1_GRCh37_6:70423652-70423652_Missense-Mutation_SNP_C-C-T",
          "MACC1_GRCh37_7:20198752-20198752_Frame-Shift-Del_DEL_T-T--",
          "RIMS2_GRCh37_8:104897620-104897620_Missense-Mutation_SNP_G-G-A",
          "ATP2B3_GRCh37_X:152845525-152845525_Silent_SNP_G-G-A",
          "PCDH19_GRCh37_X:99662505-99662505_Frame-Shift-Del_DEL_G-G--",
          "TP53_GRCh37_17:7578406-7578406_Missense-Mutation_SNP_C-C-T",
          "B4GALNT4_GRCh37_11:380921-380921_Frame-Shift-Del_DEL_G-G--",
          "MYEOV_GRCh37_11:69063724-69063724_Frame-Shift-Del_DEL_G-G--",
          "PDE3A_GRCh37_12:20522723-20522723_Frame-Shift-Del_DEL_G-G--",
          "PPP1R36_GRCh37_14:65035126-65035126_Frame-Shift-Del_DEL_A-A--",
          "ZNF609_GRCh37_15:64967247-64967247_Frame-Shift-Del_DEL_A-A--",
          "KRT41P_GRCh37_17:39564815-39564815_Intron_DEL_T-T--",
          "CAMTA2_GRCh37_17:4875738-4875738_Frame-Shift-Del_DEL_G-G--",
          "SLC7A10_GRCh37_19:33703794-33703794_Frame-Shift-Del_DEL_G-G--",
          "PLEKHA6_GRCh37_1:204228411-204228411_Frame-Shift-Del_DEL_C-C--",
          "SGOL2_GRCh37_2:201436992-201436992_Frame-Shift-Del_DEL_A-A--",
          "AC093642.5_GRCh37_2:243056802-243056802_RNA_SNP_C-C-T",
          "MAP9_GRCh37_4:156273869-156273869_Frame-Shift-Del_DEL_T-T--",
          "RIMS1_GRCh37_6:72596775-72596775_Frame-Shift-Del_DEL_C-C--",
          "SETD1B_GRCh37_12:122242658-122242658_Frame-Shift-Del_DEL_C-C--",
          "BLM_GRCh37_15:91304139-91304139_Frame-Shift-Del_DEL_A-A--",
          "FHOD3_GRCh37_18:34205516-34205516_Frame-Shift-Del_DEL_C-C--",
          "NCSTN_GRCh37_1:160313199-160313199_Frame-Shift-Del_DEL_G-G--",
          "CCDC149_GRCh37_4:24878173-24878175_In-Frame-Del_DEL_CTT-CTT--",
          "KIAA1239_GRCh37_4:37447379-37447379_Frame-Shift-Del_DEL_T-T--",
          "EPHA5_GRCh37_4:66270109-66270109_Silent_SNP_G-G-A",
          "SEC16A_GRCh37_9:139342868-139342868_Intron_DEL_G-G--",
          "FBXW7_GRCh37_4:153251907-153251907_Nonsense-Mutation_SNP_G-G-A",
          "APC_GRCh37_5:112175951-112175952_Frame-Shift-Ins_INS_----A",
          "IL2RA_GRCh37_10:6063598-6063598_Silent_SNP_G-G-A",
          "COLCA1_GRCh37_11:111168416-111168416_5'UTR_SNP_C-C-T",
          "OR51S1_GRCh37_11:4869964-4869964_Nonsense-Mutation_SNP_G-G-A",
          "KLRD1_GRCh37_12:10460580-10460580_5'UTR_SNP_C-C-A",
          "ACTR10_GRCh37_14:58698938-58698938_Missense-Mutation_SNP_G-G-A",
          "RYR3_GRCh37_15:34064243-34064243_Missense-Mutation_SNP_G-G-A",
          "UNC13C_GRCh37_15:54919261-54919261_Nonsense-Mutation_SNP_G-G-T",
          "VPS13C_GRCh37_15:62233987-62233987_Missense-Mutation_SNP_C-C-T",
          "LACTB_GRCh37_15:63419807-63419807_Missense-Mutation_SNP_G-G-A",
          "CSHL1_GRCh37_17:61988540-61988540_Splice-Region_SNP_C-C-T",
          "TSHZ1_GRCh37_18:73000406-73000406_Missense-Mutation_SNP_C-C-T",
          "PSG6_GRCh37_19:43414783-43414783_Missense-Mutation_SNP_G-G-A",
          "MIR1283-2_GRCh37_19:54261542-54261542_RNA_SNP_C-C-T_C-C-A",
          "PDE4DIP_GRCh37_1:144915524-144915524_Missense-Mutation_SNP_C-C-T_C-C-A",
          "FMO6P_GRCh37_1:171116779-171116779_Nonsense-Mutation_SNP_C-C-T",
          "SUCO_GRCh37_1:172558187-172558187_Missense-Mutation_SNP_G-G-A",
          "ATP2B4_GRCh37_1:203671198-203671198_Missense-Mutation_SNP_C-C-T",
          "DPP10_GRCh37_2:116548905-116548905_Missense-Mutation_SNP_G-G-A",
          "AMMECR1L_GRCh37_2:128627099-128627099_Missense-Mutation_SNP_C-C-T",
          "VIT_GRCh37_2:37041397-37041397_Missense-Mutation_SNP_G-G-A",
          "SENP5_GRCh37_3:196613324-196613324_Silent_SNP_C-C-T",
          "ZNF721_GRCh37_4:437702-437702_Missense-Mutation_SNP_C-C-A",
          "APC_GRCh37_5:112178000-112178000_Nonsense-Mutation_SNP_C-C-T",
          "PKD2L2_GRCh37_5:137235267-137235267_Missense-Mutation_SNP_G-G-A",
          "HAPLN1_GRCh37_5:82948487-82948487_Missense-Mutation_SNP_G-G-A",
          "KIAA0319_GRCh37_6:24566874-24566874_Missense-Mutation_SNP_C-C-A",
          "HTR1E_GRCh37_6:87725710-87725710_Missense-Mutation_SNP_C-C-T",
          "MET_GRCh37_7:116418997-116418997_Nonsense-Mutation_SNP_C-C-T",
          "DGKI_GRCh37_7:137151664-137151664_Splice-Region_SNP_C-C-T",
          "TRIM24_GRCh37_7:138262238-138262238_Nonsense-Mutation_SNP_C-C-T",
          "GRM3_GRCh37_7:86416107-86416107_Silent_SNP_C-C-T",
          "PKHD1L1_GRCh37_8:110476889-110476889_Missense-Mutation_SNP_G-G-A",
          "LY6K_GRCh37_8:143784537-143784537_Silent_SNP_G-G-A",
          "LPL_GRCh37_8:19805714-19805714_Missense-Mutation_SNP_G-G-A",
          "ADAM28_GRCh37_8:24193265-24193265_Intron_SNP_G-G-A",
          "MOS_GRCh37_8:57025882-57025882_Silent_SNP_G-G-A",
          "SLC26A7_GRCh37_8:92406210-92406210_Missense-Mutation_SNP_G-G-T",
          "TGFBR1_GRCh37_9:101900288-101900288_Missense-Mutation_SNP_C-C-T",
          "SMC5_GRCh37_9:72965054-72965054_Nonsense-Mutation_SNP_C-C-T",
          "PRSS54_GRCh37_16:58318533-58318533_Silent_SNP_G-G-A",
          "RP11-737O24.3_GRCh37_18:2946534-2946534_RNA_DEL_T-T--",
          "ALG12_GRCh37_22:50297991-50297991_Frame-Shift-Del_DEL_G-G--",
          "XRN1_GRCh37_3:142142403-142142403_Missense-Mutation_SNP_G-G-A",
          "GPR160_GRCh37_3:169802469-169802469_Frame-Shift-Del_DEL_A-A--",
          "GABBR1_GRCh37_6:29577143-29577144_Frame-Shift-Ins_INS_----G",
          "APC_GRCh37_5:112173917-112173917_Nonsense-Mutation_SNP_C-C-T",
          "PDZRN4_GRCh37_12:41967381-41967381_Missense-Mutation_SNP_G-G-A",
          "HAO1_GRCh37_20:7894923-7894923_Missense-Mutation_SNP_G-G-A",
          "HMX3_GRCh37_10:124895627-124895627_Frame-Shift-Del_DEL_C-C--",
          "SLC6A5_GRCh37_11:20652329-20652329_Missense-Mutation_SNP_G-G-A",
          "HNF1A_GRCh37_12:121432115-121432115_Frame-Shift-Del_DEL_G-G--",
          "MTUS2_GRCh37_13:29599559-29599559_Missense-Mutation_SNP_C-C-T",
          "DCT_GRCh37_13:95131529-95131530_5'UTR_DEL_CT-CT--",
          "FITM1_GRCh37_14:24600705-24600705_5'UTR_DEL_G-G--",
          "NOVA1_GRCh37_14:27066542-27066542_Frame-Shift-Del_DEL_G-G--",
          "CLEC16A_GRCh37_16:11141159-11141159_Frame-Shift-Del_DEL_T-T--",
          "CACNA1H_GRCh37_16:1270496-1270496_Frame-Shift-Del_DEL_C-C--",
          "HCST_GRCh37_19:36394697-36394698_Frame-Shift-Del_DEL_CT-CT--",
          "LINGO4_GRCh37_1:151774033-151774033_Frame-Shift-Del_DEL_G-G--",
          "PAPPA2_GRCh37_1:176525981-176525981_Missense-Mutation_SNP_G-G-A",
          "KIAA0319L_GRCh37_1:35972480-35972480_Frame-Shift-Del_DEL_T-T--",
          "POMGNT1_GRCh37_1:46659217-46659217_Intron_DEL_C-C--",
          "TMC2_GRCh37_20:2539196-2539196_Silent_SNP_C-C-T",
          "RAB1A_GRCh37_2:65357074-65357074_5'UTR_SNP_A-A-G",
          "CENPC_GRCh37_4:68384936-68384936_Frame-Shift-Del_DEL_T-T--",
          "NREP_GRCh37_5:111066620-111066620_Frame-Shift-Del_DEL_A-A--",
          "PMCHL2_GRCh37_5:70671642-70671643_RNA_INS_----A",
          "PHACTR1_GRCh37_6:13287429-13287429_Intron_SNP_T-T-A",
          "C7orf50_GRCh37_7:1037311-1037311_Frame-Shift-Del_DEL_G-G--",
          "RGS22_GRCh37_8:101014478-101014478_Frame-Shift-Del_DEL_T-T--",
          "BSN_GRCh37_3:49698339-49698339_Missense-Mutation_SNP_C-C-T",
          "TP53_GRCh37_17:7578211-7578211_Missense-Mutation_SNP_C-C-T_C-C-A",
          "GRID1_GRCh37_10:87362369-87362369_Silent_SNP_C-C-T",
          "ACVR1B_GRCh37_12:52385715-52385715_Nonsense-Mutation_SNP_C-C-T",
          "WDR25_GRCh37_14:100934421-100934421_Missense-Mutation_SNP_C-C-T",
          "FUT8_GRCh37_14:66209075-66209075_Nonsense-Mutation_SNP_C-C-T",
          "HYDIN_GRCh37_16:70955004-70955004_Silent_SNP_G-G-A",
          "ZNF549_GRCh37_19:58049259-58049259_Missense-Mutation_SNP_G-G-T",
          "KCNA10_GRCh37_1:111060956-111060956_Missense-Mutation_SNP_G-G-A",
          "SHE_GRCh37_1:154458462-154458462_Nonsense-Mutation_SNP_G-G-A",
          "TMEM59_GRCh37_1:54512963-54512963_Missense-Mutation_SNP_C-C-T",
          "XKR3_GRCh37_22:17288788-17288788_Missense-Mutation_SNP_C-C-T",
          "PPP1R1C_GRCh37_2:182850701-182850701_5'UTR_SNP_G-G-A",
          "EFR3A_GRCh37_8:132982784-132982784_Silent_SNP_C-C-T",
          "PCDH19_GRCh37_X:99662008-99662008_Missense-Mutation_SNP_C-C-T",
          "LRRIQ1_GRCh37_12:85521717-85521717_Missense-Mutation_SNP_C-C-A",
          "DIS3_GRCh37_13:73337650-73337650_Missense-Mutation_SNP_C-C-T",
          "DCC_GRCh37_18:51025778-51025778_Nonsense-Mutation_SNP_C-C-T",
          "HCRTR2_GRCh37_6:55145214-55145214_Silent_SNP_G-G-A",
          "RSPO2_GRCh37_8:109001376-109001376_Missense-Mutation_SNP_C-C-T",
          "MLANA_GRCh37_9:5897631-5897631_Missense-Mutation_SNP_G-G-A",
          "OTC_GRCh37_X:38229107-38229107_Missense-Mutation_SNP_G-G-A",
          "TP53_GRCh37_17:7576852-7576852_Splice-Site_SNP_C-C-A_C-C-T",
          "MXRA5_GRCh37_X:3235262-3235262_Missense-Mutation_SNP_G-G-A",
          "ST8SIA6_GRCh37_10:17363321-17363321_Frame-Shift-Del_DEL_T-T--",
          "PLCB3_GRCh37_11:64032517-64032517_Frame-Shift-Del_DEL_C-C--",
          "NLRP10_GRCh37_11:7982152-7982152_Missense-Mutation_SNP_C-C-T",
          "MAPK8IP3_GRCh37_16:1812705-1812707_In-Frame-Del_DEL_AGA-AGA--",
          "PKN2_GRCh37_1:89206848-89206848_Frame-Shift-Del_DEL_A-A--",
          "ST6GAL2_GRCh37_2:107460175-107460175_Missense-Mutation_SNP_C-C-T",
          "ANKRD19P_GRCh37_9:95572023-95572023_RNA_DEL_G-G--",
          "SYT10_GRCh37_12:33592483-33592483_5'UTR_DEL_T-T--",
          "MBD6_GRCh37_12:57921401-57921401_Frame-Shift-Del_DEL_C-C--",
          "ZBTB7C_GRCh37_18:45566519-45566519_Frame-Shift-Del_DEL_C-C--",
          "KIF13A_GRCh37_6:17837308-17837308_Frame-Shift-Del_DEL_C-C--",
          "POLM_GRCh37_7:44120414-44120414_Frame-Shift-Del_DEL_G-G--",
          "TP53_GRCh37_17:7577022-7577022_Nonsense-Mutation_SNP_G-G-A",
          "MAP1S_GRCh37_19:17836781-17836781_Frame-Shift-Del_DEL_C-C--",
          "KMT2B_GRCh37_19:36223002-36223002_Frame-Shift-Del_DEL_G-G--",
          "CROCC_GRCh37_1:17248507-17248507_5'UTR_DEL_C-C--",
          "ZBTB21_GRCh37_21:43411860-43411860_Missense-Mutation_SNP_C-C-T",
          "ATP6V1B1_GRCh37_2:71191573-71191573_Frame-Shift-Del_DEL_C-C--",
          "CSMD3_GRCh37_8:113301669-113301669_Missense-Mutation_SNP_G-G-A",
          "IFNB1_GRCh37_9:21077890-21077890_5'UTR_SNP_G-G-A",
          "FRMD4A_GRCh37_10:13696452-13696452_Frame-Shift-Del_DEL_G-G--",
          "VASH1_GRCh37_14:77229171-77229171_Frame-Shift-Del_DEL_G-G--",
          "TTC28_GRCh37_22:28394729-28394729_Missense-Mutation_SNP_C-C-T",
          "RING1_GRCh37_6:33178990-33178990_Frame-Shift-Del_DEL_G-G--",
          "SOX9_GRCh37_17:70118924-70118926_In-Frame-Del_DEL_AAG-AAG--",
          "ARMC4P1_GRCh37_10:27552121-27552121_RNA_SNP_G-G-A",
          "PPL_GRCh37_16:4944500-4944500_Frame-Shift-Del_DEL_G-G--",
          "SLC39A8_GRCh37_4:103189225-103189225_Frame-Shift-Del_DEL_T-T--",
          "TAP2_GRCh37_6:32805788-32805788_Frame-Shift-Del_DEL_G-G--",
          "IQSEC2_GRCh37_X:53263449-53263449_Frame-Shift-Del_DEL_G-G--",
          "RFX5_GRCh37_1:151318741-151318741_Frame-Shift-Del_DEL_G-G--",
          "CSTF1_GRCh37_20:54970639-54970639_Missense-Mutation_SNP_C-C-T",
          "PIK3CA_GRCh37_3:178952084-178952084_Missense-Mutation_SNP_C-C-T",
          "ZNF107_GRCh37_7:64152285-64152285_5'UTR_DEL_A-A--",
          "INVS_GRCh37_9:103062934-103062935_Frame-Shift-Ins_INS_----A",
          "TNNI3_GRCh37_19:55669006-55669006_5'UTR_SNP_G-G-A",
          "TP53_GRCh37_17:7577141-7577141_Missense-Mutation_SNP_C-C-T_C-C-A",
          "DMRTB1_GRCh37_1:53927149-53927149_Missense-Mutation_SNP_G-G-A",
          "BCL9L_GRCh37_11:118773098-118773098_Frame-Shift-Del_DEL_G-G--",
          "WT1-AS_GRCh37_11:32461019-32461019_RNA_DEL_A-A--",
          "MEGF8_GRCh37_19:42838298-42838298_Frame-Shift-Del_DEL_G-G--",
          "ENOSF1_GRCh37_18:706546-706546_Silent_SNP_G-G-A",
          "NRAS_GRCh37_1:115256530-115256530_Missense-Mutation_SNP_G-G-T",
          "ZFAND4_GRCh37_10:46122015-46122015_Missense-Mutation_SNP_G-G-A",
          "KIF21A_GRCh37_12:39761707-39761707_Missense-Mutation_SNP_C-C-T",
          "ARID1A_GRCh37_1:27106354-27106354_Nonsense-Mutation_SNP_C-C-T",
          "TUBE1_GRCh37_6:112397206-112397206_Frame-Shift-Del_DEL_T-T--",
          "HDAC6_GRCh37_X:48674340-48674340_Silent_SNP_C-C-T",
          "APC_GRCh37_5:112128191-112128191_Nonsense-Mutation_SNP_C-C-T",
          "SMAD2_GRCh37_18:45368211-45368211_Nonsense-Mutation_SNP_G-G-T_G-G-C",
          "ONECUT2_GRCh37_18:55103500-55103500_Missense-Mutation_SNP_C-C-G",
          "ZNF878_GRCh37_19:12155504-12155504_Frame-Shift-Del_DEL_A-A--",
          "PAK4_GRCh37_19:39663913-39663913_Frame-Shift-Del_DEL_C-C--",
          "FAM78B_GRCh37_1:166135296-166135296_Missense-Mutation_SNP_C-C-T",
          "KCTD3_GRCh37_1:215793922-215793922_Frame-Shift-Del_DEL_A-A--",
          "ANKRD23_GRCh37_2:97505817-97505817_Frame-Shift-Del_DEL_G-G--",
          "FAT3_GRCh37_11:92086050-92086050_Missense-Mutation_SNP_C-C-T",
          "TANC2_GRCh37_17:61497894-61497894_Frame-Shift-Del_DEL_C-C--",
          "TSPYL4_GRCh37_6:116574704-116574704_Frame-Shift-Del_DEL_T-T--",
          "HIST1H1A_GRCh37_6:26018017-26018017_5'UTR_DEL_A-A--",
          "CUL9_GRCh37_6:43184211-43184212_Frame-Shift-Del_DEL_CT-CT--",
          "SMC2_GRCh37_9:106885501-106885501_Frame-Shift-Del_DEL_A-A--",
          "THSD7A_GRCh37_7:11675889-11675889_Missense-Mutation_SNP_C-C-T",
          "SEMA3D_GRCh37_7:84685072-84685072_Silent_SNP_G-G-A",
          "LYZL1_GRCh37_10:29578104-29578104_Missense-Mutation_SNP_G-G-A",
          "NCAPD3_GRCh37_11:134048586-134048586_Frame-Shift-Del_DEL_G-G--",
          "PTPN6_GRCh37_12:7060852-7060852_Missense-Mutation_SNP_G-G-A",
          "SLC27A2_GRCh37_15:50515214-50515214_Missense-Mutation_SNP_G-G-A",
          "OR7E24_GRCh37_19:9362217-9362217_Frame-Shift-Del_DEL_T-T--",
          "AMY2B_GRCh37_1:104114006-104114007_Intron_INS_----A",
          "ZBTB5_GRCh37_9:37441779-37441779_Missense-Mutation_SNP_G-G-A",
          "SMAD4_GRCh37_18:48591918-48591918_Missense-Mutation_SNP_C-C-T",
          "PCDHB3_GRCh37_5:140481787-140481787_Silent_SNP_G-G-A",
          "PARK2_GRCh37_6:162683711-162683711_Silent_SNP_G-G-A",
          "EBF3_GRCh37_10:131666125-131666125_Frame-Shift-Del_DEL_C-C--",
          "IFFO1_GRCh37_12:6657974-6657974_Frame-Shift-Del_DEL_C-C--",
          "LDLRAD4_GRCh37_18:13612656-13612657_Intron_INS_----G",
          "SAMM50_GRCh37_22:44385028-44385028_Silent_SNP_C-C-T",
          "COL4A1_GRCh37_13:110804812-110804812_Silent_SNP_C-C-T",
          "EFNA4_GRCh37_1:155041387-155041388_Frame-Shift-Ins_INS_----G",
          "ZNF765_GRCh37_19:53911593-53911593_Missense-Mutation_SNP_G-G-A",
          "PDGFRA_GRCh37_4:55129918-55129918_Missense-Mutation_SNP_G-G-A",
          "ENTPD2_GRCh37_9:139945517-139945517_Frame-Shift-Del_DEL_C-C--",
          "EXTL3_GRCh37_8:28573612-28573612_Silent_SNP_G-G-A",
          "SLITRK2_GRCh37_X:144904117-144904118_Frame-Shift-Ins_INS_----C",
          "DIAPH2_GRCh37_X:96212916-96212916_Silent_SNP_G-G-A",
          "RYR2_GRCh37_1:237947200-237947200_Missense-Mutation_SNP_C-C-T",
          "RORB_GRCh37_9:77257523-77257523_Silent_SNP_C-C-T",
          "SLITRK1_GRCh37_13:84456334-84456334_5'UTR_SNP_G-G-A",
          "NRAS_GRCh37_1:115258747-115258747_Missense-Mutation_SNP_C-C-T_C-C-A",
          "ANKRD20A14P_GRCh37_1:142804465-142804465_Intron_SNP_G-G-A",
          "OPLAH_GRCh37_8:145110778-145110778_Missense-Mutation_SNP_C-C-T_C-C-A",
          "ST6GALNAC2_GRCh37_17:74570497-74570497_Missense-Mutation_SNP_C-C-T",
          "APC_GRCh37_5:112174094-112174095_Nonsense-Mutation_INS_----A",
          "PTEN_GRCh37_10:89720744-89720744_Nonsense-Mutation_SNP_G-G-T",
          "SERPINB7_GRCh37_18:61460422-61460423_Frame-Shift-Ins_INS_----T",
          "IDH1_GRCh37_2:209113113-209113113_Missense-Mutation_SNP_G-G-A_G-G-C",
          "APC_GRCh37_5:112175576-112175576_Nonsense-Mutation_SNP_C-C-T",
          "SYT4_GRCh37_18:40857246-40857246_Frame-Shift-Del_DEL_T-T--",
          "PTPRS_GRCh37_19:5231449-5231449_Frame-Shift-Del_DEL_G-G--",
          "SLC16A9_GRCh37_10:61414180-61414180_Frame-Shift-Del_DEL_T-T--",
          "BSN_GRCh37_3:49699976-49699976_Silent_SNP_C-C-T",
          "TP53_GRCh37_17:7578263-7578263_Nonsense-Mutation_SNP_G-G-A",
          "GIT2_GRCh37_12:110370961-110370961_Missense-Mutation_SNP_C-C-T",
          "MAP3K12_GRCh37_12:53877706-53877708_In-Frame-Del_DEL_CCT-CCT--",
          "TULP2_GRCh37_19:49391412-49391412_Missense-Mutation_SNP_G-G-A",
          "FMOD_GRCh37_1:203311557-203311557_Missense-Mutation_SNP_G-G-A",
          "TNIK_GRCh37_3:170781745-170781745_Frame-Shift-Del_DEL_A-A--",
          "GRM7_GRCh37_3:7456772-7456772_Missense-Mutation_SNP_G-G-A",
          "FLT4_GRCh37_5:180047888-180047888_Missense-Mutation_SNP_C-C-T",
          "DMRT3_GRCh37_9:990871-990871_Missense-Mutation_SNP_G-G-A",
          "PTCHD3_GRCh37_10:27703027-27703027_Silent_SNP_C-C-A_C-C-T",
          "TNR_GRCh37_1:175355235-175355235_Silent_SNP_G-G-A",
          "APC_GRCh37_5:112175348-112175348_Nonsense-Mutation_SNP_G-G-T",
          "CCDC15_GRCh37_11:124824660-124824660_Missense-Mutation_SNP_G-G-A",
          "ANKRD34C_GRCh37_15:79586424-79586424_Silent_SNP_G-G-A",
          "ACTN4_GRCh37_19:39198787-39198787_Silent_SNP_G-G-A_G-G-C",
          "TNR_GRCh37_1:175365879-175365879_Silent_SNP_G-G-A",
          "PQLC2_GRCh37_1:19653907-19653907_Splice-Site_SNP_G-G-A",
          "TPD52L2_GRCh37_20:62521229-62521229_Silent_SNP_C-C-T",
          "NMUR1_GRCh37_2:232390068-232390068_Missense-Mutation_SNP_C-C-T",
          "TAF1L_GRCh37_9:32632961-32632961_Missense-Mutation_SNP_G-G-A",
          "FREM2_GRCh37_13:39261820-39261820_Silent_SNP_C-C-T",
          "NYNRIN_GRCh37_14:24877294-24877294_Nonsense-Mutation_SNP_C-C-T",
          "APC_GRCh37_5:112175358-112175358_Nonsense-Mutation_SNP_C-C-G",
          "NME8_GRCh37_7:37903064-37903064_Nonsense-Mutation_SNP_C-C-T",
          "MYH13_GRCh37_17:10222452-10222452_Silent_SNP_C-C-T",
          "ERBB3_GRCh37_12:56478854-56478854_Missense-Mutation_SNP_G-G-A",
          "TP53_GRCh37_17:7579591-7579591_Splice-Site_SNP_C-C-T_C-C-G",
          "PRKRA_GRCh37_2:179296802-179296802_3'UTR_SNP_G-G-T",
          "FLRT1_GRCh37_11:63886076-63886079_3'UTR_DEL_TTTC-TTTC--",
          "DUSP16_GRCh37_12:12630318-12630318_3'UTR_SNP_G-G-A",
          "ALG10_GRCh37_12:34179976-34179976_3'UTR_DEL_T-T--",
          "NACA_GRCh37_12:57106300-57106300_3'UTR_DEL_A-A--",
          "MTUS2_GRCh37_13:30077345-30077345_3'UTR_SNP_G-G-A",
          "FOXG1_GRCh37_14:29238035-29238036_3'UTR_INS_----T",
          "POLR2M_GRCh37_15:58006972-58006972_3'UTR_SNP_A-A-G",
          "POLR2M_GRCh37_15:58007033-58007033_3'UTR_SNP_G-G-A",
          "PSMD12_GRCh37_17:65336874-65336874_3'UTR_DEL_A-A--",
          "IER2_GRCh37_19:13265516-13265516_3'UTR_DEL_G-G--",
          "ZNF550_GRCh37_19:58058212-58058212_3'UTR_DEL_A-A--",
          "INSIG2_GRCh37_2:118866049-118866049_3'UTR_SNP_C-C-T",
          "PUM2_GRCh37_2:20451293-20451293_3'UTR_DEL_A-A--",
          "KRTCAP3_GRCh37_2:27667085-27667085_3'UTR_DEL_T-T--",
          "GFPT1_GRCh37_2:69553217-69553217_3'UTR_DEL_A-A--",
          "RASSF6_GRCh37_4:74441817-74441817_3'UTR_DEL_T-T--",
          "DRD5_GRCh37_4:9785324-9785324_3'UTR_SNP_A-A-G",
          "DRD5_GRCh37_4:9785349-9785349_3'UTR_SNP_G-G-C",
          "PCDHB13_GRCh37_5:140596462-140596462_3'UTR_DEL_T-T--",
          "TMEM14C_GRCh37_6:10731012-10731012_3'UTR_DEL_A-A--",
          "HSP90AB1_GRCh37_6:44221447-44221447_3'UTR_DEL_T-T--",
          "FASTK_GRCh37_7:150773772-150773772_3'UTR_DEL_C-C--",
          "PHTF2_GRCh37_7:77584361-77584361_3'UTR_DEL_T-T--",
          "ATP5J2_GRCh37_7:99055926-99055926_3'UTR_DEL_G-G--",
          "CTHRC1_GRCh37_8:104394855-104394855_3'UTR_DEL_T-T--",
          "CCNE2_GRCh37_8:95892471-95892471_3'UTR_SNP_A-A-T",
          "PLEKHF2_GRCh37_8:96167876-96167876_3'UTR_DEL_T-T--",
          "ZBTB43_GRCh37_9:129597712-129597712_3'UTR_DEL_T-T--",
          "RMI1_GRCh37_9:86618841-86618841_3'UTR_SNP_A-A-T",
          "USP27X_GRCh37_X:49646534-49646534_3'UTR_DEL_G-G--",
          "NAP1L1_GRCh37_12:76442093-76442093_3'UTR_DEL_A-A--",
          "ATP5EP2_GRCh37_13:28519601-28519601_3'UTR_SNP_A-A-G",
          "ATP5EP2_GRCh37_13:28519639-28519639_3'UTR_SNP_T-T-C",
          "ZNF114_GRCh37_19:48790269-48790269_3'UTR_DEL_A-A--",
          "S1PR1_GRCh37_1:101705754-101705754_3'UTR_DEL_A-A--",
          "MGAT3_GRCh37_22:39887063-39887063_3'UTR_DEL_C-C--",
          "ILKAP_GRCh37_2:239079047-239079047_3'UTR_DEL_A-A--",
          "DRD5_GRCh37_4:9785421-9785421_3'UTR_SNP_G-G-T",
          "ERBB2IP_GRCh37_5:65374370-65374370_3'UTR_DEL_A-A--",
          "ZCCHC6_GRCh37_9:88903456-88903456_3'UTR_DEL_A-A--",
          "CAND1_GRCh37_12:67706721-67706721_3'UTR_DEL_T-T--",
          "RASSF9_GRCh37_12:86198390-86198390_3'UTR_DEL_T-T--",
          "RBFOX3_GRCh37_17:77086915-77086916_3'UTR_INS_----T",
          "INTS3_GRCh37_1:153746472-153746472_3'UTR_SNP_T-T-G",
          "LMO4_GRCh37_1:87810502-87810502_3'UTR_SNP_C-C-T",
          "CHIC2_GRCh37_4:54876128-54876132_3'UTR_DEL_AAAAC-AAAAC--",
          "KDM1B_GRCh37_6:18222307-18222307_3'UTR_DEL_A-A--",
          "CCDC132_GRCh37_7:92987813-92987813_3'UTR_DEL_T-T--",
          "KIAA1456_GRCh37_8:12883967-12883967_3'UTR_DEL_G-G--",
          "OR2H1_GRCh37_6:29431209-29431209_Intron_SNP_G-G-A",
          "ZNF664_GRCh37_12:124499583-124499583_3'UTR_SNP_C-C-T",
          "C14orf1_GRCh37_14:76117768-76117768_3'UTR_DEL_A-A--",
          "RCVRN_GRCh37_17:9801318-9801318_3'UTR_SNP_C-C-T",
          "MSH6_GRCh37_2:48035198-48035198_3'UTR_DEL_A-A--",
          "ELOVL7_GRCh37_5:60050220-60050220_3'UTR_DEL_A-A--",
          "SMAP1_GRCh37_6:71571705-71571705_3'UTR_SNP_A-A-G",
          "NSUN5P1_GRCh37_7:75048170-75048170_3'Flank_SNP_G-G-A",
          "LHX6_GRCh37_9:124966927-124966927_3'UTR_DEL_G-G--",
          "C9orf47_GRCh37_9:91609148-91609148_3'UTR_DEL_C-C--",
          "MAGEB2_GRCh37_X:30237947-30237948_3'UTR_INS_----T",
          "FAM21A_GRCh37_10:51893219-51893219_3'Flank_DEL_C-C--",
          "SLC25A33_GRCh37_1:9642611-9642611_3'UTR_DEL_T-T--",
          "CNOT7_GRCh37_8:17088124-17088124_3'UTR_DEL_G-G--",
          "PHYH_GRCh37_10:13344024-13344024_5'Flank_DEL_T-T--",
          "KCNMA1_GRCh37_10:78646919-78646919_3'UTR_SNP_A-A-G",
          "LRP6_GRCh37_12:12273985-12273985_3'UTR_DEL_C-C--",
          "ATXN7L3B_GRCh37_12:74932351-74932351_3'UTR_DEL_T-T--",
          "SNX20_GRCh37_16:50701845-50701845_3'Flank_DEL_G-G--",
          "TGIF1_GRCh37_18:3447618-3447618_5'Flank_DEL_G-G--",
          "SOCS6_GRCh37_18:67996614-67996614_3'UTR_SNP_C-C-T",
          "MEF2BNB-MEF2B_GRCh37_19:19256495-19256495_3'UTR_DEL_G-G--",
          "KMT2B_GRCh37_19:36229558-36229558_3'UTR_DEL_C-C--",
          "SNRPA_GRCh37_19:41271081-41271081_3'UTR_DEL_C-C--",
          "IGFN1_GRCh37_1:201195238-201195238_3'UTR_DEL_C-C--",
          "MED12L_GRCh37_3:151150682-151150682_3'UTR_DEL_T-T--",
          "KIAA1109_GRCh37_4:123283461-123283461_3'UTR_DEL_T-T--",
          "SHFM1_GRCh37_7:96318150-96318150_3'UTR_DEL_T-T--",
          "TRAM1_GRCh37_8:71487027-71487027_3'UTR_DEL_A-A--",
          "ZBTB43_GRCh37_9:129596349-129596349_3'UTR_DEL_A-A--",
          "TTC39B_GRCh37_9:15171910-15171910_3'UTR_DEL_T-T--",
          "ATP5EP2_GRCh37_13:28519580-28519580_3'UTR_SNP_G-G-A",
          "CD68_GRCh37_17:7484875-7484875_3'UTR_DEL_G-G--",
          "ROCK1_GRCh37_18:18531173-18531173_3'UTR_DEL_A-A--",
          "C5orf30_GRCh37_5:102612501-102612501_3'UTR_DEL_A-A--",
          "TRIM24_GRCh37_7:138279285-138279285_3'Flank_DEL_A-A--",
          "ONECUT1_GRCh37_15:53049699-53049699_3'UTR_SNP_A-A-T",
          "SVIP_GRCh37_11:22844519-22844519_3'UTR_DEL_T-T--",
          "USP44_GRCh37_12:95911790-95911790_3'UTR_DEL_A-A--",
          "C15orf62_GRCh37_15:41063454-41063454_3'UTR_DEL_G-G--",
          "ZBTB18_GRCh37_1:244218999-244218999_3'UTR_DEL_T-T--",
          "CNTNAP5_GRCh37_2:125672808-125672808_3'UTR_SNP_C-C-T",
          "AC074091.13_GRCh37_2:27930353-27930353_3'UTR_DEL_A-A--",
          "UBA3_GRCh37_3:69104477-69104477_3'UTR_DEL_A-A--",
          "USP27X_GRCh37_X:49646963-49646963_3'UTR_SNP_A-A-G",
          "UBE2D1_GRCh37_10:60128572-60128572_3'UTR_DEL_T-T--",
          "TP53TG3D_GRCh37_16:32266560-32266560_3'UTR_SNP_C-C-T",
          "ZIM3_GRCh37_19:57646264-57646264_3'UTR_DEL_T-T--",
          "TMEM2_GRCh37_9:74300077-74300077_3'UTR_DEL_T-T--",
          "ZCCHC24_GRCh37_10:81146068-81146068_3'UTR_DEL_G-G--",
          "C5orf24_GRCh37_5:134195054-134195054_3'Flank_DEL_T-T--",
          "USP27X_GRCh37_X:49646964-49646964_3'UTR_SNP_A-A-G",
          "DDHD1_GRCh37_14:53513330-53513330_3'UTR_DEL_T-T--",
          "MYBBP1A_GRCh37_17:4442644-4442644_3'UTR_SNP_A-A-T",
          "ZNF639_GRCh37_3:179052260-179052260_3'UTR_DEL_T-T--",
          "CETN1_GRCh37_18:581057-581057_3'UTR_SNP_C-C-A",
          "PABPC3_GRCh37_13:25672306-25672306_3'UTR_DEL_A-A--",
          "NHLRC4_GRCh37_16:618994-618994_3'UTR_DEL_G-G--",
          "RASL10A_GRCh37_22:29708273-29708273_3'Flank_DEL_G-G--",
          "PIAS1_GRCh37_15:68480286-68480286_3'UTR_DEL_T-T--",
          "CNTNAP5_GRCh37_2:125672792-125672792_3'UTR_SNP_C-C-T",
          "ELOVL4_GRCh37_6:80626118-80626118_3'UTR_SNP_A-A-T",
          "ABCB8_GRCh37_7:150721218-150721218_5'Flank_DEL_G-G--",
          "DIO3_GRCh37_14:102029613-102029613_3'UTR_DEL_G-G--",
          "CCDC39_GRCh37_3:180332568-180332568_3'UTR_DEL_T-T--",
          "KAT2B_GRCh37_3:20194018-20194018_3'UTR_DEL_T-T--",
          "ZNF98_GRCh37_19:22574128-22574128_3'UTR_DEL_T-T--",
          "USP16_GRCh37_21:30426572-30426572_3'UTR_DEL_A-A--",
          "FUT9_GRCh37_6:96654334-96654334_3'UTR_DEL_T-T--",
          "SLC25A42_GRCh37_19:19221753-19221753_3'UTR_DEL_G-G--",
          "FUT9_GRCh37_6:96654644-96654644_3'UTR_DEL_T-T--",
          "KCND1_GRCh37_X:48819729-48819730_3'UTR_INS_----G",
          "NPAP1_GRCh37_15:24927892-24927892_3'UTR_DEL_A-A--",
          "RAG1_GRCh37_11:36598366-36598366_3'UTR_DEL_T-T--",
          "BCL3_GRCh37_19:45262880-45262880_3'UTR_DEL_G-G--",
          "DLX1_GRCh37_2:172952994-172952994_3'UTR_SNP_G-G-A",
          "ARL11_GRCh37_13:50205559-50205559_3'UTR_SNP_A-A-G",
          "CEBPG_GRCh37_19:33870846-33870846_3'UTR_DEL_A-A--",
          "CLDND2_GRCh37_19:51870355-51870355_3'UTR_DEL_A-A--",
          "SYPL2_GRCh37_1:110022175-110022175_3'UTR_DEL_C-C--",
          "PLCH1_GRCh37_3:155393927-155393927_5'Flank_DEL_A-A--",
          "TMSB15B_GRCh37_X:103220212-103220212_3'UTR_DEL_T-T--",
          "KCNJ2_GRCh37_17:68174799-68174799_3'UTR_DEL_G-G--",
          "EIF3I_GRCh37_1:32696849-32696849_3'UTR_DEL_T-T--",
          "SPHKAP_GRCh37_2:228846310-228846310_3'UTR_DEL_T-T--",
          "CNTN3_GRCh37_3:74313501-74313501_3'UTR_DEL_T-T--",
          "DCAF4L2_GRCh37_8:88884172-88884173_3'UTR_INS_----T_----TT",
          "LRIT2_GRCh37_10:85978958-85978958_3'Flank_SNP_G-G-A",
          "ACKR4_GRCh37_3:132320981-132320982_3'UTR_INS_----T",
          "SNN_GRCh37_16:11772616-11772616_3'UTR_DEL_T-T--",
          "FUT9_GRCh37_6:96657758-96657758_3'UTR_DEL_C-C--",
          "NPAP1_GRCh37_15:24925744-24925744_3'UTR_SNP_A-A-T",
          "ACKR2_GRCh37_3:42908364-42908372_3'UTR_DEL_AGATTGATT-AGATTGATT-GATTGA",
          "ROBO3_GRCh37_11:124751209-124751209_3'UTR_DEL_C-C--",
          "NCAM2_GRCh37_21:22910328-22910328_3'UTR_SNP_C-C-T",
          "KIAA2018_GRCh37_3:113371901-113371901_3'UTR_DEL_A-A--",
          "ANKH_GRCh37_5:14711209-14711209_3'UTR_DEL_A-A--",
          "TOR4A_GRCh37_9:140175016-140175016_3'UTR_DEL_C-C--",
          "C6orf120_GRCh37_6:170105213-170105213_3'UTR_DEL_T-T--",
          "FAM19A1_GRCh37_3:68593863-68593863_3'UTR_DEL_A-A--",
          "ABHD2_GRCh37_15:89744315-89744315_3'UTR_DEL_A-A--",
          "ATN1_GRCh37_12:7051003-7051003_3'UTR_DEL_C-C--",
          "SOX11_GRCh37_2:5840844-5840844_3'UTR_SNP_C-C-T",
          "ZNF146_GRCh37_19:36728653-36728653_3'UTR_DEL_A-A--",
          "ZNRF3_GRCh37_22:29449693-29449693_3'UTR_SNP_T-T-A",
          "ZNF829_GRCh37_19:37382346-37382346_3'UTR_DEL_A-A--",
          "DOCK8_GRCh37_9:464237-464237_3'UTR_SNP_C-C-T",
          "TLL1_GRCh37_4:167022090-167022090_3'UTR_SNP_T-T-A"
         ],
         "xaxis": "x",
         "y": {
          "bdata": "AQICAgICAgMBAgIFAgEBAgIBASoBAQEDAQECAgIBBgECAgIGAgMCAQIHAgECAgQDAgEBAgcBAgICAQIEBAECAwMCAgECAQICAgICAQEBAwICAgIBAhACAwICBAICAgICAQICAgMCAgEDAgICAgMCAgIDAgICAgUCAgUDAQcCAgECAgIDAgICBQICAgIBAQICDQECAgICAgICAgMBAgMCAQMDAgIDAgYCAgIBAiECAwICAgICAgIBAgEDAgIKAQICAgUIAwIFDwMEAwICBQUEBAMEAwQFBgQEAwQDBAcGAw8CAwICAgECAwEBCAkBAQECAgICAQIBAQgBAgIBBgICAwICAwICAQICAgICAQICAgECAgICAgIBAgUDAgICBQICAQECAQIBAQEDAgICBQICAgICAgICBQICAgICAQICAwMDAwMDBAgDBQIKAwICAgICAgICAwICAwECAgIBAgECAwICAwICAwECAgICAgICAgEBAgMCAQICAgICBAEBAgIBAQICAwICAgICAgIFAgMCAQICAwECAgICAgIBAgIBAwICAwICBAICAQIFAgMCAgQDAwQCAwIEAwMDBAIBAgEBAQECCgQCAQYDBAUCAwICAQUCBgMDAwIDBgMDAwMEAgIHAQIDBgMCBAMDAgMIBAcDAwYCAgMCAQMCAwMCAwMDAwMDBAMDAgMDBAMCAgMCAwICAgICAQECBAUEAwYGAgEBBAMCAgMEBQMDAwICAgMDAgMCAgUCAQMFBAUDCwIBAgIDAgIDAwIBAgMDAQICAgICAQMDAgICAgMDAgICAgMCBQIEAgEDBwQDAwMDAwcDAwMDAgMDAwIDBAQEBwIDAgQDAgMDAwIDAgIDAgIEAgEBAgIDBAIEAgMCAgMDAwECAgEBBAECBQECAgIEBAECAgMEAwUDBAMCAgIEAwIDAwsCAgMDAgMDAwQCAgUDAwIHAwMBAgMCAgIDBQIEAwMDAgIEAwIDBg4EAgICAQEBAwcBAQIBAgMDBAIDAwICBgICAgECAQEBAgICAQICAgECAgIBAQECAgIBAQIDAQEBAQICAQEBAQIFAwEDAwUBAgMCAwMEAwUDAwMDAwICAwIDAgMDAwMBAgIBAQICAgICAgEBAgIDAwIDAwMDAQEDAgECAwICAwIDAgMDAwMEAwMCAgMDAgIBAQECAwICAQEBAQEEAgMCAwECAgIDAgIDAgMDAwIDAgIDAgMCAgICAQIBAQEBAQICAgIDAgICAwICAgICAwICAgUCAQECAgMCBAMCAgIBAgEBAgECAgICAgICAQICAgECAgIBAgICAgICBQIDAQICBgcCAgMCAwMCAwElAwIDAgICAQICAQIEAwMFBAQDAxECAwQCAgMCBgMCAwEBAgUCAgIBAgUBAwQCBAMCAQMCAgIBAgIEAgIDAgQDAwIGBQIDAwIDBQMCAgMEAgMEAgIDAwQDBAQDAgICAgMEAgECAQUDAwMDAgICAgQBBAIDAgMDAgEDAwQCAwIDAwMDAgEDAgECAgECAw==",
          "dtype": "i1"
         },
         "yaxis": "y"
        }
       ],
       "layout": {
        "legend": {
         "tracegroupgap": 0
        },
        "template": {
         "data": {
          "bar": [
           {
            "error_x": {
             "color": "#2a3f5f"
            },
            "error_y": {
             "color": "#2a3f5f"
            },
            "marker": {
             "line": {
              "color": "#E5ECF6",
              "width": 0.5
             },
             "pattern": {
              "fillmode": "overlay",
              "size": 10,
              "solidity": 0.2
             }
            },
            "type": "bar"
           }
          ],
          "barpolar": [
           {
            "marker": {
             "line": {
              "color": "#E5ECF6",
              "width": 0.5
             },
             "pattern": {
              "fillmode": "overlay",
              "size": 10,
              "solidity": 0.2
             }
            },
            "type": "barpolar"
           }
          ],
          "carpet": [
           {
            "aaxis": {
             "endlinecolor": "#2a3f5f",
             "gridcolor": "white",
             "linecolor": "white",
             "minorgridcolor": "white",
             "startlinecolor": "#2a3f5f"
            },
            "baxis": {
             "endlinecolor": "#2a3f5f",
             "gridcolor": "white",
             "linecolor": "white",
             "minorgridcolor": "white",
             "startlinecolor": "#2a3f5f"
            },
            "type": "carpet"
           }
          ],
          "choropleth": [
           {
            "colorbar": {
             "outlinewidth": 0,
             "ticks": ""
            },
            "type": "choropleth"
           }
          ],
          "contour": [
           {
            "colorbar": {
             "outlinewidth": 0,
             "ticks": ""
            },
            "colorscale": [
             [
              0,
              "#0d0887"
             ],
             [
              0.1111111111111111,
              "#46039f"
             ],
             [
              0.2222222222222222,
              "#7201a8"
             ],
             [
              0.3333333333333333,
              "#9c179e"
             ],
             [
              0.4444444444444444,
              "#bd3786"
             ],
             [
              0.5555555555555556,
              "#d8576b"
             ],
             [
              0.6666666666666666,
              "#ed7953"
             ],
             [
              0.7777777777777778,
              "#fb9f3a"
             ],
             [
              0.8888888888888888,
              "#fdca26"
             ],
             [
              1,
              "#f0f921"
             ]
            ],
            "type": "contour"
           }
          ],
          "contourcarpet": [
           {
            "colorbar": {
             "outlinewidth": 0,
             "ticks": ""
            },
            "type": "contourcarpet"
           }
          ],
          "heatmap": [
           {
            "colorbar": {
             "outlinewidth": 0,
             "ticks": ""
            },
            "colorscale": [
             [
              0,
              "#0d0887"
             ],
             [
              0.1111111111111111,
              "#46039f"
             ],
             [
              0.2222222222222222,
              "#7201a8"
             ],
             [
              0.3333333333333333,
              "#9c179e"
             ],
             [
              0.4444444444444444,
              "#bd3786"
             ],
             [
              0.5555555555555556,
              "#d8576b"
             ],
             [
              0.6666666666666666,
              "#ed7953"
             ],
             [
              0.7777777777777778,
              "#fb9f3a"
             ],
             [
              0.8888888888888888,
              "#fdca26"
             ],
             [
              1,
              "#f0f921"
             ]
            ],
            "type": "heatmap"
           }
          ],
          "histogram": [
           {
            "marker": {
             "pattern": {
              "fillmode": "overlay",
              "size": 10,
              "solidity": 0.2
             }
            },
            "type": "histogram"
           }
          ],
          "histogram2d": [
           {
            "colorbar": {
             "outlinewidth": 0,
             "ticks": ""
            },
            "colorscale": [
             [
              0,
              "#0d0887"
             ],
             [
              0.1111111111111111,
              "#46039f"
             ],
             [
              0.2222222222222222,
              "#7201a8"
             ],
             [
              0.3333333333333333,
              "#9c179e"
             ],
             [
              0.4444444444444444,
              "#bd3786"
             ],
             [
              0.5555555555555556,
              "#d8576b"
             ],
             [
              0.6666666666666666,
              "#ed7953"
             ],
             [
              0.7777777777777778,
              "#fb9f3a"
             ],
             [
              0.8888888888888888,
              "#fdca26"
             ],
             [
              1,
              "#f0f921"
             ]
            ],
            "type": "histogram2d"
           }
          ],
          "histogram2dcontour": [
           {
            "colorbar": {
             "outlinewidth": 0,
             "ticks": ""
            },
            "colorscale": [
             [
              0,
              "#0d0887"
             ],
             [
              0.1111111111111111,
              "#46039f"
             ],
             [
              0.2222222222222222,
              "#7201a8"
             ],
             [
              0.3333333333333333,
              "#9c179e"
             ],
             [
              0.4444444444444444,
              "#bd3786"
             ],
             [
              0.5555555555555556,
              "#d8576b"
             ],
             [
              0.6666666666666666,
              "#ed7953"
             ],
             [
              0.7777777777777778,
              "#fb9f3a"
             ],
             [
              0.8888888888888888,
              "#fdca26"
             ],
             [
              1,
              "#f0f921"
             ]
            ],
            "type": "histogram2dcontour"
           }
          ],
          "mesh3d": [
           {
            "colorbar": {
             "outlinewidth": 0,
             "ticks": ""
            },
            "type": "mesh3d"
           }
          ],
          "parcoords": [
           {
            "line": {
             "colorbar": {
              "outlinewidth": 0,
              "ticks": ""
             }
            },
            "type": "parcoords"
           }
          ],
          "pie": [
           {
            "automargin": true,
            "type": "pie"
           }
          ],
          "scatter": [
           {
            "fillpattern": {
             "fillmode": "overlay",
             "size": 10,
             "solidity": 0.2
            },
            "type": "scatter"
           }
          ],
          "scatter3d": [
           {
            "line": {
             "colorbar": {
              "outlinewidth": 0,
              "ticks": ""
             }
            },
            "marker": {
             "colorbar": {
              "outlinewidth": 0,
              "ticks": ""
             }
            },
            "type": "scatter3d"
           }
          ],
          "scattercarpet": [
           {
            "marker": {
             "colorbar": {
              "outlinewidth": 0,
              "ticks": ""
             }
            },
            "type": "scattercarpet"
           }
          ],
          "scattergeo": [
           {
            "marker": {
             "colorbar": {
              "outlinewidth": 0,
              "ticks": ""
             }
            },
            "type": "scattergeo"
           }
          ],
          "scattergl": [
           {
            "marker": {
             "colorbar": {
              "outlinewidth": 0,
              "ticks": ""
             }
            },
            "type": "scattergl"
           }
          ],
          "scattermap": [
           {
            "marker": {
             "colorbar": {
              "outlinewidth": 0,
              "ticks": ""
             }
            },
            "type": "scattermap"
           }
          ],
          "scattermapbox": [
           {
            "marker": {
             "colorbar": {
              "outlinewidth": 0,
              "ticks": ""
             }
            },
            "type": "scattermapbox"
           }
          ],
          "scatterpolar": [
           {
            "marker": {
             "colorbar": {
              "outlinewidth": 0,
              "ticks": ""
             }
            },
            "type": "scatterpolar"
           }
          ],
          "scatterpolargl": [
           {
            "marker": {
             "colorbar": {
              "outlinewidth": 0,
              "ticks": ""
             }
            },
            "type": "scatterpolargl"
           }
          ],
          "scatterternary": [
           {
            "marker": {
             "colorbar": {
              "outlinewidth": 0,
              "ticks": ""
             }
            },
            "type": "scatterternary"
           }
          ],
          "surface": [
           {
            "colorbar": {
             "outlinewidth": 0,
             "ticks": ""
            },
            "colorscale": [
             [
              0,
              "#0d0887"
             ],
             [
              0.1111111111111111,
              "#46039f"
             ],
             [
              0.2222222222222222,
              "#7201a8"
             ],
             [
              0.3333333333333333,
              "#9c179e"
             ],
             [
              0.4444444444444444,
              "#bd3786"
             ],
             [
              0.5555555555555556,
              "#d8576b"
             ],
             [
              0.6666666666666666,
              "#ed7953"
             ],
             [
              0.7777777777777778,
              "#fb9f3a"
             ],
             [
              0.8888888888888888,
              "#fdca26"
             ],
             [
              1,
              "#f0f921"
             ]
            ],
            "type": "surface"
           }
          ],
          "table": [
           {
            "cells": {
             "fill": {
              "color": "#EBF0F8"
             },
             "line": {
              "color": "white"
             }
            },
            "header": {
             "fill": {
              "color": "#C8D4E3"
             },
             "line": {
              "color": "white"
             }
            },
            "type": "table"
           }
          ]
         },
         "layout": {
          "annotationdefaults": {
           "arrowcolor": "#2a3f5f",
           "arrowhead": 0,
           "arrowwidth": 1
          },
          "autotypenumbers": "strict",
          "coloraxis": {
           "colorbar": {
            "outlinewidth": 0,
            "ticks": ""
           }
          },
          "colorscale": {
           "diverging": [
            [
             0,
             "#8e0152"
            ],
            [
             0.1,
             "#c51b7d"
            ],
            [
             0.2,
             "#de77ae"
            ],
            [
             0.3,
             "#f1b6da"
            ],
            [
             0.4,
             "#fde0ef"
            ],
            [
             0.5,
             "#f7f7f7"
            ],
            [
             0.6,
             "#e6f5d0"
            ],
            [
             0.7,
             "#b8e186"
            ],
            [
             0.8,
             "#7fbc41"
            ],
            [
             0.9,
             "#4d9221"
            ],
            [
             1,
             "#276419"
            ]
           ],
           "sequential": [
            [
             0,
             "#0d0887"
            ],
            [
             0.1111111111111111,
             "#46039f"
            ],
            [
             0.2222222222222222,
             "#7201a8"
            ],
            [
             0.3333333333333333,
             "#9c179e"
            ],
            [
             0.4444444444444444,
             "#bd3786"
            ],
            [
             0.5555555555555556,
             "#d8576b"
            ],
            [
             0.6666666666666666,
             "#ed7953"
            ],
            [
             0.7777777777777778,
             "#fb9f3a"
            ],
            [
             0.8888888888888888,
             "#fdca26"
            ],
            [
             1,
             "#f0f921"
            ]
           ],
           "sequentialminus": [
            [
             0,
             "#0d0887"
            ],
            [
             0.1111111111111111,
             "#46039f"
            ],
            [
             0.2222222222222222,
             "#7201a8"
            ],
            [
             0.3333333333333333,
             "#9c179e"
            ],
            [
             0.4444444444444444,
             "#bd3786"
            ],
            [
             0.5555555555555556,
             "#d8576b"
            ],
            [
             0.6666666666666666,
             "#ed7953"
            ],
            [
             0.7777777777777778,
             "#fb9f3a"
            ],
            [
             0.8888888888888888,
             "#fdca26"
            ],
            [
             1,
             "#f0f921"
            ]
           ]
          },
          "colorway": [
           "#636efa",
           "#EF553B",
           "#00cc96",
           "#ab63fa",
           "#FFA15A",
           "#19d3f3",
           "#FF6692",
           "#B6E880",
           "#FF97FF",
           "#FECB52"
          ],
          "font": {
           "color": "#2a3f5f"
          },
          "geo": {
           "bgcolor": "white",
           "lakecolor": "white",
           "landcolor": "#E5ECF6",
           "showlakes": true,
           "showland": true,
           "subunitcolor": "white"
          },
          "hoverlabel": {
           "align": "left"
          },
          "hovermode": "closest",
          "mapbox": {
           "style": "light"
          },
          "paper_bgcolor": "white",
          "plot_bgcolor": "#E5ECF6",
          "polar": {
           "angularaxis": {
            "gridcolor": "white",
            "linecolor": "white",
            "ticks": ""
           },
           "bgcolor": "#E5ECF6",
           "radialaxis": {
            "gridcolor": "white",
            "linecolor": "white",
            "ticks": ""
           }
          },
          "scene": {
           "xaxis": {
            "backgroundcolor": "#E5ECF6",
            "gridcolor": "white",
            "gridwidth": 2,
            "linecolor": "white",
            "showbackground": true,
            "ticks": "",
            "zerolinecolor": "white"
           },
           "yaxis": {
            "backgroundcolor": "#E5ECF6",
            "gridcolor": "white",
            "gridwidth": 2,
            "linecolor": "white",
            "showbackground": true,
            "ticks": "",
            "zerolinecolor": "white"
           },
           "zaxis": {
            "backgroundcolor": "#E5ECF6",
            "gridcolor": "white",
            "gridwidth": 2,
            "linecolor": "white",
            "showbackground": true,
            "ticks": "",
            "zerolinecolor": "white"
           }
          },
          "shapedefaults": {
           "line": {
            "color": "#2a3f5f"
           }
          },
          "ternary": {
           "aaxis": {
            "gridcolor": "white",
            "linecolor": "white",
            "ticks": ""
           },
           "baxis": {
            "gridcolor": "white",
            "linecolor": "white",
            "ticks": ""
           },
           "bgcolor": "#E5ECF6",
           "caxis": {
            "gridcolor": "white",
            "linecolor": "white",
            "ticks": ""
           }
          },
          "title": {
           "x": 0.05
          },
          "xaxis": {
           "automargin": true,
           "gridcolor": "white",
           "linecolor": "white",
           "ticks": "",
           "title": {
            "standoff": 15
           },
           "zerolinecolor": "white",
           "zerolinewidth": 2
          },
          "yaxis": {
           "automargin": true,
           "gridcolor": "white",
           "linecolor": "white",
           "ticks": "",
           "title": {
            "standoff": 15
           },
           "zerolinecolor": "white",
           "zerolinewidth": 2
          }
         }
        },
        "title": {
         "text": "Individuals per Mutation"
        },
        "xaxis": {
         "anchor": "y",
         "domain": [
          0,
          1
         ],
         "showticklabels": false,
         "title": {
          "text": "Mutation Name"
         }
        },
        "yaxis": {
         "anchor": "x",
         "domain": [
          0,
          1
         ],
         "title": {
          "text": "Number of Individuals with Mutation"
         }
        }
       }
      }
     },
     "metadata": {},
     "output_type": "display_data"
    }
   ],
   "source": [
    "fig2 = px.scatter(\n",
    "    x=mutation_data.columns, \n",
    "    y=mutation_each_individual, \n",
    "    labels={'x': 'Mutation Name', 'y': 'Number of Individuals with Mutation'},\n",
    "    title=\"Individuals per Mutation\"\n",
    ")\n",
    "fig2.update_traces(marker=dict(size=10), hovertemplate='Mutation: %{x}<br>Individuals: %{y}')\n",
    "fig2.update_xaxes(showticklabels=False)\n",
    "fig2.show()"
   ]
  },
  {
   "cell_type": "markdown",
   "id": "e7590783",
   "metadata": {},
   "source": [
    "## Explore how the individual genetic mutations relate to the two categories of samples."
   ]
  },
  {
   "cell_type": "code",
   "execution_count": 17,
   "id": "f191bc01",
   "metadata": {},
   "outputs": [
    {
     "data": {
      "text/plain": [
       "KRAS_GRCh37_12:25398284-25398284_Missense-Mutation_SNP_C-C-A_C-C-T_C-C-G    42\n",
       "DRD5_GRCh37_4:9785349-9785349_3'UTR_SNP_G-G-C                               37\n",
       "BRAF_GRCh37_7:140453136-140453136_Missense-Mutation_SNP_A-A-T               33\n",
       "DRD5_GRCh37_4:9785421-9785421_3'UTR_SNP_G-G-T                               17\n",
       "RNF43_GRCh37_17:56435161-56435161_Frame-Shift-Del_DEL_C-C--                 16\n",
       "ZBTB20_GRCh37_3:114058003-114058003_Frame-Shift-Del_DEL_G-G--               15\n",
       "KRAS_GRCh37_12:25398281-25398281_Missense-Mutation_SNP_C-C-T                15\n",
       "TP53_GRCh37_17:7578406-7578406_Missense-Mutation_SNP_C-C-T                  14\n",
       "DOCK3_GRCh37_3:51417604-51417604_Frame-Shift-Del_DEL_C-C--                  13\n",
       "APC_GRCh37_5:112174631-112174631_Nonsense-Mutation_SNP_C-C-T                11\n",
       "dtype: int64"
      ]
     },
     "execution_count": 17,
     "metadata": {},
     "output_type": "execute_result"
    }
   ],
   "source": [
    "# top 10 features (mutations) when ranked by T (total occurrences in all samples)\n",
    "sorted_mutation_counts = mutation_each_individual.sort_values(ascending=False)\n",
    "sorted_mutation_counts.head(10)"
   ]
  },
  {
   "cell_type": "code",
   "execution_count": 18,
   "id": "9d2be05d",
   "metadata": {},
   "outputs": [
    {
     "data": {
      "text/plain": [
       "BRAF_GRCh37_7:140453136-140453136_Missense-Mutation_SNP_A-A-T               28\n",
       "DRD5_GRCh37_4:9785349-9785349_3'UTR_SNP_G-G-C                               27\n",
       "KRAS_GRCh37_12:25398284-25398284_Missense-Mutation_SNP_C-C-A_C-C-T_C-C-G    25\n",
       "DRD5_GRCh37_4:9785421-9785421_3'UTR_SNP_G-G-T                               13\n",
       "ZBTB20_GRCh37_3:114058003-114058003_Frame-Shift-Del_DEL_G-G--               13\n",
       "KRAS_GRCh37_12:25398281-25398281_Missense-Mutation_SNP_C-C-T                11\n",
       "DOCK3_GRCh37_3:51417604-51417604_Frame-Shift-Del_DEL_C-C--                  11\n",
       "RNF43_GRCh37_17:56435161-56435161_Frame-Shift-Del_DEL_C-C--                 10\n",
       "PGM5_GRCh37_9:70993145-70993145_Missense-Mutation_SNP_A-A-G                  8\n",
       "PLEKHA6_GRCh37_1:204228411-204228411_Frame-Shift-Del_DEL_C-C--               7\n",
       "dtype: int64"
      ]
     },
     "execution_count": 18,
     "metadata": {},
     "output_type": "execute_result"
    }
   ],
   "source": [
    "# top 10 features (mutations) when ranked by C (total occurrences in C samples)\n",
    "identifier_col = df.columns[0] \n",
    "\n",
    "df_C = df[df[identifier_col].str.match(r'^C\\d+$')]\n",
    "df_C_mutation_data = df_C.iloc[:,1:]\n",
    "mutation_each_individual_C = (df_C_mutation_data==1).sum(axis=0)\n",
    "mutation_each_individual_C_sorted = mutation_each_individual_C.sort_values(ascending=False)\n",
    "mutation_each_individual_C_sorted.head(10)"
   ]
  },
  {
   "cell_type": "code",
   "execution_count": 19,
   "id": "3aaa97f1",
   "metadata": {},
   "outputs": [
    {
     "data": {
      "text/plain": [
       "KRAS_GRCh37_12:25398284-25398284_Missense-Mutation_SNP_C-C-A_C-C-T_C-C-G    17\n",
       "DRD5_GRCh37_4:9785349-9785349_3'UTR_SNP_G-G-C                               10\n",
       "TP53_GRCh37_17:7577538-7577538_Missense-Mutation_SNP_C-C-T                   7\n",
       "TP53_GRCh37_17:7578406-7578406_Missense-Mutation_SNP_C-C-T                   7\n",
       "RNF43_GRCh37_17:56435161-56435161_Frame-Shift-Del_DEL_C-C--                  6\n",
       "TP53_GRCh37_17:7577094-7577094_Missense-Mutation_SNP_G-G-A                   6\n",
       "TP53_GRCh37_17:7577539-7577539_Missense-Mutation_SNP_G-G-A                   6\n",
       "BRAF_GRCh37_7:140453136-140453136_Missense-Mutation_SNP_A-A-T                5\n",
       "APC_GRCh37_5:112162891-112162891_Nonsense-Mutation_SNP_C-C-T                 5\n",
       "KRAS_GRCh37_12:25398281-25398281_Missense-Mutation_SNP_C-C-T                 4\n",
       "dtype: int64"
      ]
     },
     "execution_count": 19,
     "metadata": {},
     "output_type": "execute_result"
    }
   ],
   "source": [
    "# top 10 features (mutations) when ranked by NC (total occurrences in NC samples)\n",
    "\n",
    "df_NC = df[df[identifier_col].str.match(r'^NC\\d+$')]\n",
    "df_NC_mutation_data = df_NC.iloc[:,1:]\n",
    "mutation_each_individual_NC = (df_NC_mutation_data==1).sum(axis=0)\n",
    "mutation_each_individual_NC_sorted = mutation_each_individual_NC.sort_values(ascending=False)\n",
    "mutation_each_individual_NC_sorted.head(10)"
   ]
  },
  {
   "cell_type": "code",
   "execution_count": 20,
   "id": "e15713bf",
   "metadata": {},
   "outputs": [
    {
     "data": {
      "text/plain": [
       "BRAF_GRCh37_7:140453136-140453136_Missense-Mutation_SNP_A-A-T               26.923077\n",
       "DRD5_GRCh37_4:9785349-9785349_3'UTR_SNP_G-G-C                               25.961538\n",
       "KRAS_GRCh37_12:25398284-25398284_Missense-Mutation_SNP_C-C-A_C-C-T_C-C-G    24.038462\n",
       "DRD5_GRCh37_4:9785421-9785421_3'UTR_SNP_G-G-T                               12.500000\n",
       "ZBTB20_GRCh37_3:114058003-114058003_Frame-Shift-Del_DEL_G-G--               12.500000\n",
       "KRAS_GRCh37_12:25398281-25398281_Missense-Mutation_SNP_C-C-T                10.576923\n",
       "DOCK3_GRCh37_3:51417604-51417604_Frame-Shift-Del_DEL_C-C--                  10.576923\n",
       "RNF43_GRCh37_17:56435161-56435161_Frame-Shift-Del_DEL_C-C--                  9.615385\n",
       "PGM5_GRCh37_9:70993145-70993145_Missense-Mutation_SNP_A-A-G                  7.692308\n",
       "PLEKHA6_GRCh37_1:204228411-204228411_Frame-Shift-Del_DEL_C-C--               6.730769\n",
       "dtype: float64"
      ]
     },
     "execution_count": 20,
     "metadata": {},
     "output_type": "execute_result"
    }
   ],
   "source": [
    "# top 10 features (mutations) when ranked by %C (the percentage of ALL cancer samples containing mutation ‘i’)\n",
    "mutation_each_individual_C_percentage = mutation_each_individual_C / df_C.shape[0] * 100\n",
    "mutation_each_individual_C_percentage.sort_values(ascending=False).head(10)"
   ]
  },
  {
   "cell_type": "code",
   "execution_count": 21,
   "id": "1cdfe376",
   "metadata": {},
   "outputs": [
    {
     "data": {
      "text/plain": [
       "KRAS_GRCh37_12:25398284-25398284_Missense-Mutation_SNP_C-C-A_C-C-T_C-C-G    17.525773\n",
       "DRD5_GRCh37_4:9785349-9785349_3'UTR_SNP_G-G-C                               10.309278\n",
       "TP53_GRCh37_17:7577538-7577538_Missense-Mutation_SNP_C-C-T                   7.216495\n",
       "TP53_GRCh37_17:7578406-7578406_Missense-Mutation_SNP_C-C-T                   7.216495\n",
       "RNF43_GRCh37_17:56435161-56435161_Frame-Shift-Del_DEL_C-C--                  6.185567\n",
       "TP53_GRCh37_17:7577094-7577094_Missense-Mutation_SNP_G-G-A                   6.185567\n",
       "TP53_GRCh37_17:7577539-7577539_Missense-Mutation_SNP_G-G-A                   6.185567\n",
       "BRAF_GRCh37_7:140453136-140453136_Missense-Mutation_SNP_A-A-T                5.154639\n",
       "APC_GRCh37_5:112162891-112162891_Nonsense-Mutation_SNP_C-C-T                 5.154639\n",
       "KRAS_GRCh37_12:25398281-25398281_Missense-Mutation_SNP_C-C-T                 4.123711\n",
       "dtype: float64"
      ]
     },
     "execution_count": 21,
     "metadata": {},
     "output_type": "execute_result"
    }
   ],
   "source": [
    "# top 10 features (mutations) when ranked by %NC (the percentage of ALL non cancer samples containing mutation ‘i’)\n",
    "mutation_each_individual_NC_percentage = mutation_each_individual_NC / df_NC.shape[0] * 100\n",
    "mutation_each_individual_NC_percentage.sort_values(ascending=False).head(10)"
   ]
  },
  {
   "cell_type": "code",
   "execution_count": 22,
   "id": "7166edb1",
   "metadata": {},
   "outputs": [
    {
     "data": {
      "text/plain": [
       "BRAF_GRCh37_7:140453136-140453136_Missense-Mutation_SNP_A-A-T               21.768438\n",
       "DRD5_GRCh37_4:9785349-9785349_3'UTR_SNP_G-G-C                               15.652260\n",
       "ZBTB20_GRCh37_3:114058003-114058003_Frame-Shift-Del_DEL_G-G--               10.438144\n",
       "DOCK3_GRCh37_3:51417604-51417604_Frame-Shift-Del_DEL_C-C--                   8.515067\n",
       "DRD5_GRCh37_4:9785421-9785421_3'UTR_SNP_G-G-T                                8.376289\n",
       "SVIL_GRCh37_10:29760116-29760116_Frame-Shift-Del_DEL_C-C--                   6.730769\n",
       "RAB28_GRCh37_4:13485808-13485808_5'UTR_DEL_G-G--                             6.730769\n",
       "PLEKHA6_GRCh37_1:204228411-204228411_Frame-Shift-Del_DEL_C-C--               6.730769\n",
       "KRAS_GRCh37_12:25398284-25398284_Missense-Mutation_SNP_C-C-A_C-C-T_C-C-G     6.512688\n",
       "KRAS_GRCh37_12:25398281-25398281_Missense-Mutation_SNP_C-C-T                 6.453212\n",
       "dtype: float64"
      ]
     },
     "execution_count": 22,
     "metadata": {},
     "output_type": "execute_result"
    }
   ],
   "source": [
    "# top 10 features (mutations) when ranked by %C - %NC\n",
    "mutation_diff = mutation_each_individual_C_percentage - mutation_each_individual_NC_percentage\n",
    "mutation_diff.sort_values(ascending=False).head(10)"
   ]
  },
  {
   "cell_type": "code",
   "execution_count": 23,
   "id": "8148752f",
   "metadata": {},
   "outputs": [
    {
     "data": {
      "text/plain": [
       "XYLT2_GRCh37_17:48433967-48433967_Frame-Shift-Del_DEL_C-C--        6.528846\n",
       "ZBTB20_GRCh37_3:114058003-114058003_Frame-Shift-Del_DEL_G-G--      6.062500\n",
       "UBQLN2_GRCh37_X:56591874-56591874_Frame-Shift-Del_DEL_C-C--        5.596154\n",
       "MICAL3_GRCh37_22:18300932-18300932_Frame-Shift-Del_DEL_G-G--       5.596154\n",
       "PIK3CA_GRCh37_3:178952085-178952085_Missense-Mutation_SNP_A-A-G    5.596154\n",
       "BRAF_GRCh37_7:140453136-140453136_Missense-Mutation_SNP_A-A-T      5.223077\n",
       "DOCK3_GRCh37_3:51417604-51417604_Frame-Shift-Del_DEL_C-C--         5.129808\n",
       "PIK3CA_GRCh37_3:178936082-178936082_Missense-Mutation_SNP_G-G-A    4.663462\n",
       "ZDHHC8_GRCh37_22:20130522-20130522_Frame-Shift-Del_DEL_C-C--       4.663462\n",
       "APC_GRCh37_5:112116592-112116592_Nonsense-Mutation_SNP_C-C-T       4.663462\n",
       "dtype: float64"
      ]
     },
     "execution_count": 23,
     "metadata": {},
     "output_type": "execute_result"
    }
   ],
   "source": [
    "# top 10 features (mutations) when ranked by %C / %NC\n",
    "import numpy as np\n",
    "safe_nc_percentage = mutation_each_individual_NC_percentage.replace(0, np.nan)\n",
    "mutation_ratio = mutation_each_individual_C_percentage / safe_nc_percentage\n",
    "mutation_ration_filled = mutation_ratio.fillna(0)\n",
    "mutation_ratio.sort_values(ascending=False).head(10)\n"
   ]
  },
  {
   "cell_type": "markdown",
   "id": "9039b56a",
   "metadata": {},
   "source": [
    "# Classification"
   ]
  },
  {
   "cell_type": "code",
   "execution_count": 24,
   "id": "d9746d5e",
   "metadata": {},
   "outputs": [],
   "source": [
    "# Actual Cancer vs NC data\n",
    "identifier_col\n",
    "actual = df[identifier_col].str.match(r'^C\\d+$').astype(int)  # 1 for Cancer, 0 for Non-Cancer"
   ]
  },
  {
   "cell_type": "code",
   "execution_count": 25,
   "id": "0a03c152",
   "metadata": {},
   "outputs": [
    {
     "name": "stdout",
     "output_type": "stream",
     "text": [
      "1st: KRAS_GRCh37_12:25398284-25398284_Missense-Mutation_SNP_C-C-A_C-C-T_C-C-G\n",
      "                   Predicted Cancer  Predicted Non-Cancer\n",
      "Actual Cancer                    25                    79\n",
      "Actual Non-Cancer                17                    80\n"
     ]
    },
    {
     "data": {
      "image/png": "[encoded data removed]",
      "text/plain": [
       "<Figure size 700x500 with 1 Axes>"
      ]
     },
     "metadata": {},
     "output_type": "display_data"
    },
    {
     "data": {
      "image/png": "[encoded data removed]",
      "text/plain": [
       "<Figure size 600x600 with 1 Axes>"
      ]
     },
     "metadata": {},
     "output_type": "display_data"
    }
   ],
   "source": [
    "import matplotlib.pyplot as plt\n",
    "# 1st feature when ranked by T confusion Matrix\n",
    "features_1st_T_ranked = sorted_mutation_counts.index[0]\n",
    "print(\"1st:\", features_1st_T_ranked)\n",
    "\n",
    "prediction_1 = df.loc[:, features_1st_T_ranked]\n",
    "true_positive_1 = ((prediction_1 == 1) & (actual == 1)).sum()\n",
    "true_negative_1 = ((prediction_1 == 0) & (actual == 0)).sum()\n",
    "false_positive_1 = ((prediction_1 == 1) & (actual == 0)).sum()\n",
    "false_negative_1 = ((prediction_1 == 0) & (actual == 1)).sum()\n",
    "\n",
    "conf_matrix = pd.DataFrame({\n",
    "    'Predicted Cancer': [true_positive_1, false_positive_1],\n",
    "    'Predicted Non-Cancer': [false_negative_1, true_negative_1]\n",
    "}, index=['Actual Cancer', 'Actual Non-Cancer'])\n",
    "\n",
    "print(conf_matrix)\n",
    "\n",
    "# Stacked bar chart\n",
    "bar_labels = ['Predicted Cancer', 'Predicted Non-Cancer']\n",
    "bar_bottom = [true_positive_1, true_negative_1]\n",
    "bar_top = [false_positive_1, false_negative_1]\n",
    "\n",
    "plt.figure(figsize=(7,5))\n",
    "plt.bar(bar_labels, bar_bottom, label=['True Positive', 'True Negative'], color=['tab:blue', 'tab:green'])\n",
    "plt.bar(bar_labels, bar_top, bottom=bar_bottom, label=['False Positive', 'False Negative'], color=['tab:orange', 'tab:red'])\n",
    "plt.ylabel('Count')\n",
    "plt.title('Confusion Matrix (1st Feature) - Stacked Bar')\n",
    "plt.legend()\n",
    "plt.show()\n",
    "\n",
    "# Donut chart\n",
    "labels = ['True Positive', 'False Positive', 'True Negative', 'False Negative']\n",
    "values = [true_positive_1, false_positive_1, true_negative_1, false_negative_1]\n",
    "colors = ['green', 'orange', 'blue', 'red'] \n",
    "\n",
    "# Create donut chart\n",
    "fig, ax = plt.subplots(figsize=(6,6))\n",
    "wedges, texts, autotexts = ax.pie(\n",
    "    values, \n",
    "    labels=labels, \n",
    "    autopct='%1.1f%%', # display percentages\n",
    "    startangle=90,\n",
    "    colors=colors,\n",
    "    wedgeprops=dict(width=0.6)  # makes it a donut\n",
    ")\n",
    "\n",
    "ax.set(aspect=\"equal\", title='Confusion Matrix 1st feature (Donut Chart)')\n",
    "plt.show()"
   ]
  },
  {
   "cell_type": "code",
   "execution_count": 26,
   "id": "5e6a2af0",
   "metadata": {},
   "outputs": [
    {
     "name": "stdout",
     "output_type": "stream",
     "text": [
      "2nd: DRD5_GRCh37_4:9785349-9785349_3'UTR_SNP_G-G-C\n",
      "                   Predicted Cancer  Predicted Non-Cancer\n",
      "Actual Cancer                    27                    77\n",
      "Actual Non-Cancer                10                    87\n"
     ]
    },
    {
     "data": {
      "image/png": "[encoded data removed]",
      "text/plain": [
       "<Figure size 700x500 with 1 Axes>"
      ]
     },
     "metadata": {},
     "output_type": "display_data"
    },
    {
     "data": {
      "image/png": "[encoded data removed]",
      "text/plain": [
       "<Figure size 600x600 with 1 Axes>"
      ]
     },
     "metadata": {},
     "output_type": "display_data"
    }
   ],
   "source": [
    "features_2nd_T_ranked = sorted_mutation_counts.index[1]\n",
    "print(\"2nd:\", features_2nd_T_ranked)\n",
    "prediction_2 = df.loc[:, features_2nd_T_ranked]\n",
    "true_positive_2 = ((prediction_2 == 1) & (actual == 1)).sum()\n",
    "true_negative_2 = ((prediction_2 == 0) & (actual == 0)).sum()\n",
    "false_positive_2 = ((prediction_2 == 1) & (actual == 0)).sum()\n",
    "false_negative_2 = ((prediction_2 == 0) & (actual == 1)).sum()\n",
    "\n",
    "conf_matrix_2 = pd.DataFrame({\n",
    "    'Predicted Cancer': [true_positive_2, false_positive_2],\n",
    "    'Predicted Non-Cancer': [false_negative_2, true_negative_2]\n",
    "}, index=['Actual Cancer', 'Actual Non-Cancer'])\n",
    "\n",
    "print(conf_matrix_2)\n",
    "\n",
    "# Stacked bar chart\n",
    "bar_labels = ['Predicted Cancer', 'Predicted Non-Cancer']\n",
    "bar_bottom = [true_positive_2, true_negative_2]\n",
    "bar_top = [false_positive_2, false_negative_2]\n",
    "\n",
    "plt.figure(figsize=(7,5))\n",
    "plt.bar(bar_labels, bar_bottom, label=['True Positive', 'True Negative'], color=['tab:blue', 'tab:green'])\n",
    "plt.bar(bar_labels, bar_top, bottom=bar_bottom, label=['False Positive', 'False Negative'], color=['tab:orange', 'tab:red'])\n",
    "plt.ylabel('Count')\n",
    "plt.title('Confusion Matrix (2nd Feature) - Stacked Bar')\n",
    "plt.legend()\n",
    "plt.show()\n",
    "\n",
    "# Donut chart\n",
    "labels = ['True Positive', 'False Positive', 'True Negative', 'False Negative']\n",
    "values = [true_positive_2, false_positive_2, true_negative_2, false_negative_2]\n",
    "colors = ['green', 'orange', 'blue', 'red'] \n",
    "\n",
    "# Create donut chart\n",
    "fig, ax = plt.subplots(figsize=(6,6))\n",
    "wedges, texts, autotexts = ax.pie(\n",
    "    values, \n",
    "    labels=labels, \n",
    "    autopct='%1.1f%%', # display percentages\n",
    "    startangle=90,\n",
    "    colors=colors,\n",
    "    wedgeprops=dict(width=0.6)  # makes it a donut\n",
    ")\n",
    "\n",
    "ax.set(aspect=\"equal\", title='Confusion Matrix 2nd feature (Donut Chart)')\n",
    "plt.show()"
   ]
  },
  {
   "cell_type": "code",
   "execution_count": 27,
   "id": "a7e3528c",
   "metadata": {},
   "outputs": [
    {
     "name": "stdout",
     "output_type": "stream",
     "text": [
      "Best feature by (TP - FP): BRAF_GRCh37_7:140453136-140453136_Missense-Mutation_SNP_A-A-T with TP - FP = 23\n"
     ]
    }
   ],
   "source": [
    "tp_list = []\n",
    "fp_list = []\n",
    "\n",
    "features = mutation_data.columns.tolist()\n",
    "for feature in features:\n",
    "    prediction = df.loc[:, feature]\n",
    "    true_positive = ((prediction == 1) & (actual == 1)).sum()\n",
    "    false_positive = ((prediction == 1) & (actual == 0)).sum()\n",
    "    \n",
    "    tp_list.append(true_positive)\n",
    "    fp_list.append(false_positive)\n",
    "\n",
    "tp_arr = np.array(tp_list)\n",
    "fp_arr = np.array(fp_list)\n",
    "tp_minus_fp = tp_arr - fp_arr\n",
    "max_idx = np.argmax(tp_minus_fp)\n",
    "best_feature = features[max_idx]\n",
    "print(f\"Best feature by (TP - FP): {best_feature} with TP - FP = {tp_minus_fp[max_idx]}\")"
   ]
  },
  {
   "cell_type": "code",
   "execution_count": 28,
   "id": "30b19e3b",
   "metadata": {},
   "outputs": [
    {
     "name": "stdout",
     "output_type": "stream",
     "text": [
      "Best feature by (%TP - %FP): BRAF_GRCh37_7:140453136-140453136_Missense-Mutation_SNP_A-A-T with %TP - %FP = 11.44%\n"
     ]
    }
   ],
   "source": [
    "tp_percentage_arr = tp_arr/sample_num * 100\n",
    "fp_percentage_arr = fp_arr/sample_num * 100\n",
    "tp_minus_fp_percentage = tp_percentage_arr - fp_percentage_arr\n",
    "max_idx_percentage = np.argmax(tp_minus_fp_percentage)\n",
    "best_feature_percentage = features[max_idx_percentage]\n",
    "print(f\"Best feature by (%TP - %FP): {best_feature_percentage} with %TP - %FP = {tp_minus_fp_percentage[max_idx_percentage]:.2f}%\")"
   ]
  },
  {
   "cell_type": "markdown",
   "id": "50510d69",
   "metadata": {},
   "source": [
    "# Decision Tree and Decision Rule"
   ]
  },
  {
   "cell_type": "code",
   "execution_count": 29,
   "id": "fff88f93",
   "metadata": {},
   "outputs": [
    {
     "data": {
      "text/plain": [
       "BRAF_GRCh37_7:140453136-140453136_Missense-Mutation_SNP_A-A-T               23\n",
       "DRD5_GRCh37_4:9785349-9785349_3'UTR_SNP_G-G-C                               17\n",
       "ZBTB20_GRCh37_3:114058003-114058003_Frame-Shift-Del_DEL_G-G--               11\n",
       "DRD5_GRCh37_4:9785421-9785421_3'UTR_SNP_G-G-T                                9\n",
       "DOCK3_GRCh37_3:51417604-51417604_Frame-Shift-Del_DEL_C-C--                   9\n",
       "KRAS_GRCh37_12:25398284-25398284_Missense-Mutation_SNP_C-C-A_C-C-T_C-C-G     8\n",
       "SVIL_GRCh37_10:29760116-29760116_Frame-Shift-Del_DEL_C-C--                   7\n",
       "KRAS_GRCh37_12:25398281-25398281_Missense-Mutation_SNP_C-C-T                 7\n",
       "PLEKHA6_GRCh37_1:204228411-204228411_Frame-Shift-Del_DEL_C-C--               7\n",
       "RAB28_GRCh37_4:13485808-13485808_5'UTR_DEL_G-G--                             7\n",
       "dtype: int64"
      ]
     },
     "execution_count": 29,
     "metadata": {},
     "output_type": "execute_result"
    }
   ],
   "source": [
    "# Show the table of the top 10 features (ranked by their corresponding values of “TP – FP”)\n",
    "sorted_tp_minus_fp = pd.Series(tp_minus_fp, index=features).sort_values(ascending=False)\n",
    "sorted_tp_minus_fp.head(10)"
   ]
  },
  {
   "cell_type": "code",
   "execution_count": 30,
   "id": "98366df1",
   "metadata": {},
   "outputs": [
    {
     "name": "stdout",
     "output_type": "stream",
     "text": [
      "Most Helpful feature when ranked by “TP - FP”: BRAF_GRCh37_7:140453136-140453136_Missense-Mutation_SNP_A-A-T with TP - FP = 23\n"
     ]
    }
   ],
   "source": [
    "# Most Helpful feature when ranked by “TP - FP”\n",
    "most_helpful_feature = sorted_tp_minus_fp.index[0]\n",
    "print(f\"Most Helpful feature when ranked by “TP - FP”: {most_helpful_feature} with TP - FP = {sorted_tp_minus_fp[most_helpful_feature]}\")"
   ]
  },
  {
   "cell_type": "code",
   "execution_count": 31,
   "id": "2217d2be",
   "metadata": {},
   "outputs": [
    {
     "name": "stdout",
     "output_type": "stream",
     "text": [
      "                   Predicted Cancer  Predicted Non-Cancer\n",
      "Actual Cancer                    28                    76\n",
      "Actual Non-Cancer                 5                    92\n"
     ]
    }
   ],
   "source": [
    "# Confusion Matrix for the Most Helpful feature\n",
    "prediction_most_helpful = df.loc[:, most_helpful_feature]\n",
    "true_positive_most = ((prediction_most_helpful == 1) & (actual ==1)).sum()\n",
    "true_negative_most = ((prediction_most_helpful == 0) & (actual ==0)).sum()\n",
    "false_positive_most = ((prediction_most_helpful == 1) & (actual ==0)).sum()\n",
    "false_negative_most = ((prediction_most_helpful == 0) & (actual ==1)).sum()\n",
    "\n",
    "conf_matrix_most = pd.DataFrame({\n",
    "    'Predicted Cancer': [true_positive_most, false_positive_most],\n",
    "    'Predicted Non-Cancer': [false_negative_most, true_negative_most]\n",
    "}, index=['Actual Cancer', 'Actual Non-Cancer'])\n",
    "print(conf_matrix_most)"
   ]
  },
  {
   "cell_type": "code",
   "execution_count": 32,
   "id": "b692083c",
   "metadata": {},
   "outputs": [
    {
     "name": "stdout",
     "output_type": "stream",
     "text": [
      "Group A: ['C0', 'C1', 'C6', 'C7', 'C8', 'C9', 'C12', 'C15', 'C17', 'C19', 'NC25', 'C23', 'C24', 'C26', 'C33', 'C34', 'C38', 'C43', 'C46', 'NC42', 'C52', 'NC46', 'NC47', 'C63', 'C71', 'C73', 'NC63', 'C75', 'C77', 'C78', 'C79', 'C81', 'C94']\n",
      "Group B: ['NC0', 'NC1', 'NC2', 'NC3', 'NC4', 'C2', 'C3', 'C4', 'C5', 'NC5', 'NC6', 'NC7', 'NC8', 'NC9', 'NC10', 'C10', 'NC11', 'NC12', 'NC13', 'C11', 'NC14', 'C13', 'NC15', 'NC16', 'C14', 'NC17', 'NC18', 'C16', 'NC19', 'NC20', 'NC21', 'C18', 'NC22', 'NC23', 'NC24', 'C20', 'C21', 'C22', 'NC26', 'NC27', 'C25', 'C27', 'NC28', 'C28', 'C29', 'NC29', 'C30', 'C31', 'C32', 'NC30', 'C35', 'C36', 'C37', 'NC31', 'C39', 'C40', 'C41', 'NC32', 'C42', 'C44', 'NC33', 'NC34', 'NC35', 'C45', 'NC36', 'NC37', 'NC38', 'C47', 'NC39', 'C48', 'C49', 'NC40', 'C50', 'NC41', 'NC43', 'C51', 'NC44', 'C53', 'NC45', 'C54', 'C55', 'C56', 'C57', 'C58', 'NC48', 'NC49', 'C59', 'NC50', 'C60', 'C61', 'NC51', 'C62', 'NC52', 'C64', 'C65', 'NC53', 'C66', 'C67', 'C68', 'C69', 'NC54', 'NC55', 'C70', 'NC56', 'NC57', 'NC58', 'C72', 'NC59', 'NC60', 'NC61', 'NC62', 'NC64', 'NC65', 'NC66', 'NC67', 'NC68', 'NC69', 'C74', 'C76', 'NC70', 'C80', 'NC71', 'NC72', 'NC73', 'NC74', 'NC75', 'C82', 'C83', 'NC76', 'C84', 'C85', 'NC77', 'NC78', 'C86', 'C87', 'C88', 'C89', 'NC79', 'NC80', 'C90', 'NC81', 'NC82', 'C91', 'NC83', 'NC84', 'C92', 'NC85', 'NC86', 'NC87', 'C93', 'NC88', 'C95', 'C96', 'NC89', 'C97', 'NC90', 'C98', 'C99', 'C100', 'NC91', 'C101', 'C102', 'NC92', 'NC93', 'NC94', 'NC95', 'C103', 'NC96']\n"
     ]
    }
   ],
   "source": [
    "# Divide the samples into two groups by using the most helpful feature(F) to classify each sample as either have F nor not have F\n",
    "\n",
    "group_A = []\n",
    "group_B = []\n",
    "for i in range(len(df)):\n",
    "    if prediction_most_helpful[i] == 1:\n",
    "        group_A.append(df.iloc[i,0])\n",
    "    else:\n",
    "        group_B.append(df.iloc[i,0])\n",
    "\n",
    "print(f\"Group A: {group_A}\")\n",
    "\n",
    "print(f\"Group B: {group_B}\")"
   ]
  },
  {
   "cell_type": "markdown",
   "id": "6eba6e9d",
   "metadata": {},
   "source": [
    "# 2-layer decision tree"
   ]
  },
  {
   "cell_type": "code",
   "execution_count": 33,
   "id": "f2753c9f",
   "metadata": {},
   "outputs": [
    {
     "name": "stdout",
     "output_type": "stream",
     "text": [
      "    Unnamed: 0  HEPACAM_GRCh37_11:124794736-124794736_Silent_SNP_G-G-A_G-G-T  \\\n",
      "4           C0                                                  0              \n",
      "5           C1                                                  0              \n",
      "11          C6                                                  0              \n",
      "13          C7                                                  0              \n",
      "18          C8                                                  0              \n",
      "20          C9                                                  0              \n",
      "27         C12                                                  0              \n",
      "33         C15                                                  0              \n",
      "39         C17                                                  0              \n",
      "42         C19                                                  0              \n",
      "45        NC25                                                  0              \n",
      "49         C23                                                  0              \n",
      "50         C24                                                  0              \n",
      "54         C26                                                  0              \n",
      "64         C33                                                  0              \n",
      "65         C34                                                  0              \n",
      "69         C38                                                  0              \n",
      "76         C43                                                  0              \n",
      "84         C46                                                  0              \n",
      "93        NC42                                                  0              \n",
      "97         C52                                                  0              \n",
      "101       NC46                                                  0              \n",
      "102       NC47                                                  0              \n",
      "115        C63                                                  0              \n",
      "128        C71                                                  0              \n",
      "136        C73                                                  0              \n",
      "137       NC63                                                  0              \n",
      "145        C75                                                  0              \n",
      "147        C77                                                  0              \n",
      "148        C78                                                  0              \n",
      "150        C79                                                  0              \n",
      "152        C81                                                  0              \n",
      "182        C94                                                  0              \n",
      "\n",
      "     LRR1_GRCh37_14:50074349-50074349_Missense-Mutation_SNP_C-C-T  \\\n",
      "4                                                    0              \n",
      "5                                                    0              \n",
      "11                                                   0              \n",
      "13                                                   0              \n",
      "18                                                   0              \n",
      "20                                                   0              \n",
      "27                                                   0              \n",
      "33                                                   0              \n",
      "39                                                   0              \n",
      "42                                                   0              \n",
      "45                                                   0              \n",
      "49                                                   0              \n",
      "50                                                   0              \n",
      "54                                                   0              \n",
      "64                                                   0              \n",
      "65                                                   0              \n",
      "69                                                   0              \n",
      "76                                                   0              \n",
      "84                                                   0              \n",
      "93                                                   0              \n",
      "97                                                   0              \n",
      "101                                                  0              \n",
      "102                                                  0              \n",
      "115                                                  0              \n",
      "128                                                  0              \n",
      "136                                                  0              \n",
      "137                                                  0              \n",
      "145                                                  0              \n",
      "147                                                  0              \n",
      "148                                                  0              \n",
      "150                                                  0              \n",
      "152                                                  0              \n",
      "182                                                  0              \n",
      "\n",
      "     KRT34_GRCh37_17:39538253-39538253_Silent_SNP_C-C-T  \\\n",
      "4                                                    0    \n",
      "5                                                    0    \n",
      "11                                                   0    \n",
      "13                                                   0    \n",
      "18                                                   0    \n",
      "20                                                   0    \n",
      "27                                                   0    \n",
      "33                                                   0    \n",
      "39                                                   0    \n",
      "42                                                   0    \n",
      "45                                                   0    \n",
      "49                                                   0    \n",
      "50                                                   0    \n",
      "54                                                   0    \n",
      "64                                                   0    \n",
      "65                                                   0    \n",
      "69                                                   0    \n",
      "76                                                   0    \n",
      "84                                                   0    \n",
      "93                                                   0    \n",
      "97                                                   0    \n",
      "101                                                  0    \n",
      "102                                                  0    \n",
      "115                                                  0    \n",
      "128                                                  0    \n",
      "136                                                  0    \n",
      "137                                                  0    \n",
      "145                                                  0    \n",
      "147                                                  0    \n",
      "148                                                  0    \n",
      "150                                                  0    \n",
      "152                                                  0    \n",
      "182                                                  0    \n",
      "\n",
      "     DNAH2_GRCh37_17:7721317-7721317_Silent_SNP_C-C-T  \\\n",
      "4                                                   0   \n",
      "5                                                   1   \n",
      "11                                                  0   \n",
      "13                                                  0   \n",
      "18                                                  0   \n",
      "20                                                  0   \n",
      "27                                                  0   \n",
      "33                                                  0   \n",
      "39                                                  0   \n",
      "42                                                  0   \n",
      "45                                                  0   \n",
      "49                                                  0   \n",
      "50                                                  0   \n",
      "54                                                  0   \n",
      "64                                                  0   \n",
      "65                                                  0   \n",
      "69                                                  0   \n",
      "76                                                  0   \n",
      "84                                                  0   \n",
      "93                                                  0   \n",
      "97                                                  0   \n",
      "101                                                 0   \n",
      "102                                                 0   \n",
      "115                                                 0   \n",
      "128                                                 0   \n",
      "136                                                 0   \n",
      "137                                                 0   \n",
      "145                                                 0   \n",
      "147                                                 0   \n",
      "148                                                 0   \n",
      "150                                                 0   \n",
      "152                                                 0   \n",
      "182                                                 0   \n",
      "\n",
      "     RSPH1_GRCh37_21:43897435-43897435_Silent_SNP_C-C-T  \\\n",
      "4                                                    0    \n",
      "5                                                    0    \n",
      "11                                                   0    \n",
      "13                                                   0    \n",
      "18                                                   0    \n",
      "20                                                   0    \n",
      "27                                                   0    \n",
      "33                                                   0    \n",
      "39                                                   0    \n",
      "42                                                   0    \n",
      "45                                                   0    \n",
      "49                                                   0    \n",
      "50                                                   0    \n",
      "54                                                   0    \n",
      "64                                                   0    \n",
      "65                                                   0    \n",
      "69                                                   0    \n",
      "76                                                   0    \n",
      "84                                                   0    \n",
      "93                                                   0    \n",
      "97                                                   0    \n",
      "101                                                  0    \n",
      "102                                                  0    \n",
      "115                                                  0    \n",
      "128                                                  0    \n",
      "136                                                  0    \n",
      "137                                                  0    \n",
      "145                                                  0    \n",
      "147                                                  1    \n",
      "148                                                  0    \n",
      "150                                                  0    \n",
      "152                                                  0    \n",
      "182                                                  0    \n",
      "\n",
      "     APC_GRCh37_5:112174117-112174117_Frame-Shift-Del_DEL_T-T--  \\\n",
      "4                                                    0            \n",
      "5                                                    0            \n",
      "11                                                   0            \n",
      "13                                                   0            \n",
      "18                                                   0            \n",
      "20                                                   0            \n",
      "27                                                   0            \n",
      "33                                                   0            \n",
      "39                                                   0            \n",
      "42                                                   0            \n",
      "45                                                   0            \n",
      "49                                                   0            \n",
      "50                                                   0            \n",
      "54                                                   0            \n",
      "64                                                   0            \n",
      "65                                                   0            \n",
      "69                                                   0            \n",
      "76                                                   0            \n",
      "84                                                   0            \n",
      "93                                                   0            \n",
      "97                                                   0            \n",
      "101                                                  0            \n",
      "102                                                  0            \n",
      "115                                                  0            \n",
      "128                                                  0            \n",
      "136                                                  0            \n",
      "137                                                  0            \n",
      "145                                                  0            \n",
      "147                                                  0            \n",
      "148                                                  0            \n",
      "150                                                  0            \n",
      "152                                                  0            \n",
      "182                                                  0            \n",
      "\n",
      "     HDAC9_GRCh37_7:18767220-18767220_Silent_SNP_G-G-A  \\\n",
      "4                                                    0   \n",
      "5                                                    0   \n",
      "11                                                   0   \n",
      "13                                                   0   \n",
      "18                                                   0   \n",
      "20                                                   0   \n",
      "27                                                   0   \n",
      "33                                                   0   \n",
      "39                                                   0   \n",
      "42                                                   0   \n",
      "45                                                   0   \n",
      "49                                                   0   \n",
      "50                                                   0   \n",
      "54                                                   0   \n",
      "64                                                   0   \n",
      "65                                                   0   \n",
      "69                                                   0   \n",
      "76                                                   0   \n",
      "84                                                   0   \n",
      "93                                                   0   \n",
      "97                                                   0   \n",
      "101                                                  0   \n",
      "102                                                  0   \n",
      "115                                                  0   \n",
      "128                                                  0   \n",
      "136                                                  0   \n",
      "137                                                  0   \n",
      "145                                                  0   \n",
      "147                                                  0   \n",
      "148                                                  0   \n",
      "150                                                  0   \n",
      "152                                                  0   \n",
      "182                                                  0   \n",
      "\n",
      "     THYN1_GRCh37_11:134121181-134121181_Missense-Mutation_SNP_C-C-T  \\\n",
      "4                                                    0                 \n",
      "5                                                    0                 \n",
      "11                                                   0                 \n",
      "13                                                   0                 \n",
      "18                                                   0                 \n",
      "20                                                   0                 \n",
      "27                                                   1                 \n",
      "33                                                   0                 \n",
      "39                                                   0                 \n",
      "42                                                   0                 \n",
      "45                                                   0                 \n",
      "49                                                   0                 \n",
      "50                                                   0                 \n",
      "54                                                   0                 \n",
      "64                                                   0                 \n",
      "65                                                   0                 \n",
      "69                                                   0                 \n",
      "76                                                   0                 \n",
      "84                                                   0                 \n",
      "93                                                   0                 \n",
      "97                                                   0                 \n",
      "101                                                  0                 \n",
      "102                                                  0                 \n",
      "115                                                  0                 \n",
      "128                                                  0                 \n",
      "136                                                  0                 \n",
      "137                                                  0                 \n",
      "145                                                  0                 \n",
      "147                                                  0                 \n",
      "148                                                  0                 \n",
      "150                                                  0                 \n",
      "152                                                  0                 \n",
      "182                                                  0                 \n",
      "\n",
      "     TENM4_GRCh37_11:78383150-78383150_Silent_SNP_G-G-A  ...  \\\n",
      "4                                                    0   ...   \n",
      "5                                                    0   ...   \n",
      "11                                                   0   ...   \n",
      "13                                                   0   ...   \n",
      "18                                                   0   ...   \n",
      "20                                                   0   ...   \n",
      "27                                                   0   ...   \n",
      "33                                                   0   ...   \n",
      "39                                                   0   ...   \n",
      "42                                                   0   ...   \n",
      "45                                                   0   ...   \n",
      "49                                                   0   ...   \n",
      "50                                                   0   ...   \n",
      "54                                                   0   ...   \n",
      "64                                                   0   ...   \n",
      "65                                                   0   ...   \n",
      "69                                                   0   ...   \n",
      "76                                                   0   ...   \n",
      "84                                                   0   ...   \n",
      "93                                                   0   ...   \n",
      "97                                                   0   ...   \n",
      "101                                                  0   ...   \n",
      "102                                                  0   ...   \n",
      "115                                                  0   ...   \n",
      "128                                                  0   ...   \n",
      "136                                                  0   ...   \n",
      "137                                                  0   ...   \n",
      "145                                                  0   ...   \n",
      "147                                                  0   ...   \n",
      "148                                                  0   ...   \n",
      "150                                                  0   ...   \n",
      "152                                                  0   ...   \n",
      "182                                                  0   ...   \n",
      "\n",
      "     C6orf120_GRCh37_6:170105213-170105213_3'UTR_DEL_T-T--  \\\n",
      "4                                                    0       \n",
      "5                                                    0       \n",
      "11                                                   0       \n",
      "13                                                   0       \n",
      "18                                                   0       \n",
      "20                                                   0       \n",
      "27                                                   0       \n",
      "33                                                   0       \n",
      "39                                                   0       \n",
      "42                                                   0       \n",
      "45                                                   0       \n",
      "49                                                   0       \n",
      "50                                                   0       \n",
      "54                                                   0       \n",
      "64                                                   0       \n",
      "65                                                   0       \n",
      "69                                                   0       \n",
      "76                                                   0       \n",
      "84                                                   0       \n",
      "93                                                   0       \n",
      "97                                                   0       \n",
      "101                                                  0       \n",
      "102                                                  0       \n",
      "115                                                  0       \n",
      "128                                                  0       \n",
      "136                                                  0       \n",
      "137                                                  1       \n",
      "145                                                  0       \n",
      "147                                                  0       \n",
      "148                                                  0       \n",
      "150                                                  0       \n",
      "152                                                  0       \n",
      "182                                                  0       \n",
      "\n",
      "     FAM19A1_GRCh37_3:68593863-68593863_3'UTR_DEL_A-A--  \\\n",
      "4                                                    0    \n",
      "5                                                    0    \n",
      "11                                                   0    \n",
      "13                                                   0    \n",
      "18                                                   0    \n",
      "20                                                   0    \n",
      "27                                                   0    \n",
      "33                                                   0    \n",
      "39                                                   0    \n",
      "42                                                   0    \n",
      "45                                                   0    \n",
      "49                                                   0    \n",
      "50                                                   0    \n",
      "54                                                   0    \n",
      "64                                                   0    \n",
      "65                                                   0    \n",
      "69                                                   0    \n",
      "76                                                   0    \n",
      "84                                                   0    \n",
      "93                                                   0    \n",
      "97                                                   0    \n",
      "101                                                  0    \n",
      "102                                                  0    \n",
      "115                                                  0    \n",
      "128                                                  0    \n",
      "136                                                  0    \n",
      "137                                                  0    \n",
      "145                                                  0    \n",
      "147                                                  0    \n",
      "148                                                  0    \n",
      "150                                                  0    \n",
      "152                                                  0    \n",
      "182                                                  0    \n",
      "\n",
      "     ABHD2_GRCh37_15:89744315-89744315_3'UTR_DEL_A-A--  \\\n",
      "4                                                    0   \n",
      "5                                                    0   \n",
      "11                                                   0   \n",
      "13                                                   0   \n",
      "18                                                   0   \n",
      "20                                                   0   \n",
      "27                                                   0   \n",
      "33                                                   0   \n",
      "39                                                   0   \n",
      "42                                                   0   \n",
      "45                                                   0   \n",
      "49                                                   0   \n",
      "50                                                   0   \n",
      "54                                                   0   \n",
      "64                                                   0   \n",
      "65                                                   0   \n",
      "69                                                   0   \n",
      "76                                                   0   \n",
      "84                                                   0   \n",
      "93                                                   0   \n",
      "97                                                   1   \n",
      "101                                                  0   \n",
      "102                                                  1   \n",
      "115                                                  0   \n",
      "128                                                  0   \n",
      "136                                                  0   \n",
      "137                                                  1   \n",
      "145                                                  0   \n",
      "147                                                  0   \n",
      "148                                                  0   \n",
      "150                                                  0   \n",
      "152                                                  0   \n",
      "182                                                  0   \n",
      "\n",
      "     ATN1_GRCh37_12:7051003-7051003_3'UTR_DEL_C-C--  \\\n",
      "4                                                 0   \n",
      "5                                                 0   \n",
      "11                                                0   \n",
      "13                                                0   \n",
      "18                                                0   \n",
      "20                                                0   \n",
      "27                                                0   \n",
      "33                                                0   \n",
      "39                                                0   \n",
      "42                                                0   \n",
      "45                                                0   \n",
      "49                                                0   \n",
      "50                                                0   \n",
      "54                                                0   \n",
      "64                                                0   \n",
      "65                                                0   \n",
      "69                                                0   \n",
      "76                                                0   \n",
      "84                                                0   \n",
      "93                                                0   \n",
      "97                                                0   \n",
      "101                                               1   \n",
      "102                                               0   \n",
      "115                                               0   \n",
      "128                                               0   \n",
      "136                                               0   \n",
      "137                                               0   \n",
      "145                                               0   \n",
      "147                                               0   \n",
      "148                                               0   \n",
      "150                                               0   \n",
      "152                                               0   \n",
      "182                                               0   \n",
      "\n",
      "     SOX11_GRCh37_2:5840844-5840844_3'UTR_SNP_C-C-T  \\\n",
      "4                                                 0   \n",
      "5                                                 0   \n",
      "11                                                0   \n",
      "13                                                0   \n",
      "18                                                0   \n",
      "20                                                0   \n",
      "27                                                0   \n",
      "33                                                0   \n",
      "39                                                0   \n",
      "42                                                0   \n",
      "45                                                0   \n",
      "49                                                0   \n",
      "50                                                0   \n",
      "54                                                0   \n",
      "64                                                0   \n",
      "65                                                0   \n",
      "69                                                0   \n",
      "76                                                0   \n",
      "84                                                0   \n",
      "93                                                0   \n",
      "97                                                0   \n",
      "101                                               0   \n",
      "102                                               0   \n",
      "115                                               0   \n",
      "128                                               0   \n",
      "136                                               0   \n",
      "137                                               0   \n",
      "145                                               0   \n",
      "147                                               0   \n",
      "148                                               0   \n",
      "150                                               0   \n",
      "152                                               0   \n",
      "182                                               0   \n",
      "\n",
      "     ZNF146_GRCh37_19:36728653-36728653_3'UTR_DEL_A-A--  \\\n",
      "4                                                    0    \n",
      "5                                                    0    \n",
      "11                                                   0    \n",
      "13                                                   0    \n",
      "18                                                   0    \n",
      "20                                                   0    \n",
      "27                                                   0    \n",
      "33                                                   0    \n",
      "39                                                   0    \n",
      "42                                                   0    \n",
      "45                                                   0    \n",
      "49                                                   0    \n",
      "50                                                   0    \n",
      "54                                                   0    \n",
      "64                                                   0    \n",
      "65                                                   0    \n",
      "69                                                   0    \n",
      "76                                                   0    \n",
      "84                                                   0    \n",
      "93                                                   0    \n",
      "97                                                   0    \n",
      "101                                                  0    \n",
      "102                                                  0    \n",
      "115                                                  0    \n",
      "128                                                  0    \n",
      "136                                                  0    \n",
      "137                                                  1    \n",
      "145                                                  0    \n",
      "147                                                  0    \n",
      "148                                                  0    \n",
      "150                                                  0    \n",
      "152                                                  0    \n",
      "182                                                  0    \n",
      "\n",
      "     ZNRF3_GRCh37_22:29449693-29449693_3'UTR_SNP_T-T-A  \\\n",
      "4                                                    0   \n",
      "5                                                    0   \n",
      "11                                                   0   \n",
      "13                                                   0   \n",
      "18                                                   0   \n",
      "20                                                   0   \n",
      "27                                                   0   \n",
      "33                                                   0   \n",
      "39                                                   0   \n",
      "42                                                   0   \n",
      "45                                                   0   \n",
      "49                                                   0   \n",
      "50                                                   0   \n",
      "54                                                   0   \n",
      "64                                                   0   \n",
      "65                                                   0   \n",
      "69                                                   0   \n",
      "76                                                   0   \n",
      "84                                                   0   \n",
      "93                                                   0   \n",
      "97                                                   0   \n",
      "101                                                  0   \n",
      "102                                                  0   \n",
      "115                                                  0   \n",
      "128                                                  0   \n",
      "136                                                  0   \n",
      "137                                                  1   \n",
      "145                                                  0   \n",
      "147                                                  1   \n",
      "148                                                  0   \n",
      "150                                                  0   \n",
      "152                                                  0   \n",
      "182                                                  0   \n",
      "\n",
      "     ZNF829_GRCh37_19:37382346-37382346_3'UTR_DEL_A-A--  \\\n",
      "4                                                    0    \n",
      "5                                                    0    \n",
      "11                                                   0    \n",
      "13                                                   0    \n",
      "18                                                   0    \n",
      "20                                                   0    \n",
      "27                                                   0    \n",
      "33                                                   0    \n",
      "39                                                   0    \n",
      "42                                                   0    \n",
      "45                                                   0    \n",
      "49                                                   0    \n",
      "50                                                   0    \n",
      "54                                                   0    \n",
      "64                                                   0    \n",
      "65                                                   0    \n",
      "69                                                   0    \n",
      "76                                                   0    \n",
      "84                                                   0    \n",
      "93                                                   0    \n",
      "97                                                   0    \n",
      "101                                                  0    \n",
      "102                                                  0    \n",
      "115                                                  0    \n",
      "128                                                  0    \n",
      "136                                                  0    \n",
      "137                                                  0    \n",
      "145                                                  0    \n",
      "147                                                  0    \n",
      "148                                                  0    \n",
      "150                                                  0    \n",
      "152                                                  0    \n",
      "182                                                  0    \n",
      "\n",
      "     DOCK8_GRCh37_9:464237-464237_3'UTR_SNP_C-C-T  \\\n",
      "4                                               0   \n",
      "5                                               0   \n",
      "11                                              0   \n",
      "13                                              0   \n",
      "18                                              0   \n",
      "20                                              0   \n",
      "27                                              0   \n",
      "33                                              0   \n",
      "39                                              0   \n",
      "42                                              0   \n",
      "45                                              0   \n",
      "49                                              0   \n",
      "50                                              0   \n",
      "54                                              0   \n",
      "64                                              0   \n",
      "65                                              0   \n",
      "69                                              0   \n",
      "76                                              0   \n",
      "84                                              0   \n",
      "93                                              0   \n",
      "97                                              0   \n",
      "101                                             0   \n",
      "102                                             0   \n",
      "115                                             0   \n",
      "128                                             0   \n",
      "136                                             0   \n",
      "137                                             0   \n",
      "145                                             0   \n",
      "147                                             0   \n",
      "148                                             0   \n",
      "150                                             0   \n",
      "152                                             0   \n",
      "182                                             0   \n",
      "\n",
      "     TLL1_GRCh37_4:167022090-167022090_3'UTR_SNP_T-T-A  \n",
      "4                                                    0  \n",
      "5                                                    0  \n",
      "11                                                   0  \n",
      "13                                                   0  \n",
      "18                                                   0  \n",
      "20                                                   0  \n",
      "27                                                   0  \n",
      "33                                                   0  \n",
      "39                                                   0  \n",
      "42                                                   0  \n",
      "45                                                   0  \n",
      "49                                                   0  \n",
      "50                                                   0  \n",
      "54                                                   0  \n",
      "64                                                   0  \n",
      "65                                                   0  \n",
      "69                                                   0  \n",
      "76                                                   0  \n",
      "84                                                   0  \n",
      "93                                                   0  \n",
      "97                                                   0  \n",
      "101                                                  0  \n",
      "102                                                  0  \n",
      "115                                                  0  \n",
      "128                                                  0  \n",
      "136                                                  0  \n",
      "137                                                  0  \n",
      "145                                                  0  \n",
      "147                                                  0  \n",
      "148                                                  0  \n",
      "150                                                  1  \n",
      "152                                                  0  \n",
      "182                                                  0  \n",
      "\n",
      "[33 rows x 1145 columns]\n"
     ]
    }
   ],
   "source": [
    "# filter out a df of only the samples in Group A\n",
    "df_group_A = df[df[identifier_col].isin(group_A)]\n",
    "print(df_group_A)"
   ]
  },
  {
   "cell_type": "code",
   "execution_count": 34,
   "id": "bcc13aeb",
   "metadata": {},
   "outputs": [
    {
     "data": {
      "text/plain": [
       "BRAF_GRCh37_7:140453136-140453136_Missense-Mutation_SNP_A-A-T    23\n",
       "DRD5_GRCh37_4:9785349-9785349_3'UTR_SNP_G-G-C                    17\n",
       "DRD5_GRCh37_4:9785421-9785421_3'UTR_SNP_G-G-T                    10\n",
       "ZBTB20_GRCh37_3:114058003-114058003_Frame-Shift-Del_DEL_G-G--     8\n",
       "DOCK3_GRCh37_3:51417604-51417604_Frame-Shift-Del_DEL_C-C--        8\n",
       "XYLT2_GRCh37_17:48433967-48433967_Frame-Shift-Del_DEL_C-C--       7\n",
       "MICAL3_GRCh37_22:18300932-18300932_Frame-Shift-Del_DEL_G-G--      6\n",
       "PGM5_GRCh37_9:70993145-70993145_Missense-Mutation_SNP_A-A-G       6\n",
       "SVIL_GRCh37_10:29760116-29760116_Frame-Shift-Del_DEL_C-C--        6\n",
       "CTNNBL1_GRCh37_20:36361416-36361416_Frame-Shift-Del_DEL_A-A--     5\n",
       "dtype: int64"
      ]
     },
     "execution_count": 34,
     "metadata": {},
     "output_type": "execute_result"
    }
   ],
   "source": [
    "tp_A_list = []\n",
    "fp_A_list = []\n",
    "for feature in features:\n",
    "    prediction_A = df_group_A.loc[:, feature]\n",
    "    actual_A = df_group_A[identifier_col].str.match(r'^C\\d+$').astype(int)\n",
    "    \n",
    "    true_positive_A = ((prediction_A == 1) & (actual_A == 1)).sum()\n",
    "    false_positive_A = ((prediction_A == 1) & (actual_A == 0)).sum()\n",
    "    \n",
    "    tp_A_list.append(true_positive_A)\n",
    "    fp_A_list.append(false_positive_A)\n",
    "\n",
    "tp_A_arr = np.array(tp_A_list)\n",
    "fp_A_arr = np.array(fp_A_list)\n",
    "tp_minus_fp_A = tp_A_arr - fp_A_arr\n",
    "sorted_tp_minus_fp_A = pd.Series(tp_minus_fp_A, index=features).sort_values(ascending=False)\n",
    "sorted_tp_minus_fp_A.head(10)"
   ]
  },
  {
   "cell_type": "code",
   "execution_count": 35,
   "id": "87e09bd6",
   "metadata": {},
   "outputs": [
    {
     "name": "stdout",
     "output_type": "stream",
     "text": [
      "Most Helpful feature in Group A: DRD5_GRCh37_4:9785349-9785349_3'UTR_SNP_G-G-C with TP - FP = 17\n",
      "                   Predicted Cancer  Predicted Non-Cancer\n",
      "Actual Cancer                    19                     9\n",
      "Actual Non-Cancer                 2                     3\n"
     ]
    }
   ],
   "source": [
    "# Confusion Matrix for the Most Helpful feature in Group A\n",
    "most_helpful_feature_A = sorted_tp_minus_fp_A.index[1]\n",
    "print(f\"Most Helpful feature in Group A: {most_helpful_feature_A} with TP - FP = {sorted_tp_minus_fp_A[most_helpful_feature_A]}\")\n",
    "actual_A = df_group_A[identifier_col].str.match(r'^C\\d+$').astype(int)\n",
    "true_negative_A_most = ((df_group_A[most_helpful_feature_A] == 0) & (actual_A ==0)).sum()\n",
    "false_positive_A_most = ((df_group_A[most_helpful_feature_A] == 1) & (actual_A ==0)).sum()\n",
    "false_negative_A_most = ((df_group_A[most_helpful_feature_A] == 0) & (actual_A ==1)).sum()\n",
    "true_positive_A_most = ((df_group_A[most_helpful_feature_A] == 1) & (actual_A ==1)).sum()\n",
    "\n",
    "conf_matrix_A_most = pd.DataFrame({\n",
    "    'Predicted Cancer': [true_positive_A_most, false_positive_A_most],\n",
    "    'Predicted Non-Cancer': [false_negative_A_most, true_negative_A_most]\n",
    "}, index=['Actual Cancer', 'Actual Non-Cancer'])\n",
    "print(conf_matrix_A_most)"
   ]
  },
  {
   "cell_type": "code",
   "execution_count": 36,
   "id": "69b72a1a",
   "metadata": {},
   "outputs": [
    {
     "name": "stdout",
     "output_type": "stream",
     "text": [
      "    Unnamed: 0  HEPACAM_GRCh37_11:124794736-124794736_Silent_SNP_G-G-A_G-G-T  \\\n",
      "0          NC0                                                  1              \n",
      "1          NC1                                                  0              \n",
      "2          NC2                                                  0              \n",
      "3          NC3                                                  0              \n",
      "6          NC4                                                  0              \n",
      "..         ...                                                ...              \n",
      "196       NC93                                                  0              \n",
      "197       NC94                                                  0              \n",
      "198       NC95                                                  0              \n",
      "199       C103                                                  0              \n",
      "200       NC96                                                  0              \n",
      "\n",
      "     LRR1_GRCh37_14:50074349-50074349_Missense-Mutation_SNP_C-C-T  \\\n",
      "0                                                    1              \n",
      "1                                                    0              \n",
      "2                                                    0              \n",
      "3                                                    0              \n",
      "6                                                    0              \n",
      "..                                                 ...              \n",
      "196                                                  0              \n",
      "197                                                  0              \n",
      "198                                                  0              \n",
      "199                                                  0              \n",
      "200                                                  0              \n",
      "\n",
      "     KRT34_GRCh37_17:39538253-39538253_Silent_SNP_C-C-T  \\\n",
      "0                                                    1    \n",
      "1                                                    0    \n",
      "2                                                    0    \n",
      "3                                                    0    \n",
      "6                                                    0    \n",
      "..                                                 ...    \n",
      "196                                                  0    \n",
      "197                                                  0    \n",
      "198                                                  0    \n",
      "199                                                  0    \n",
      "200                                                  0    \n",
      "\n",
      "     DNAH2_GRCh37_17:7721317-7721317_Silent_SNP_C-C-T  \\\n",
      "0                                                   1   \n",
      "1                                                   0   \n",
      "2                                                   0   \n",
      "3                                                   0   \n",
      "6                                                   0   \n",
      "..                                                ...   \n",
      "196                                                 0   \n",
      "197                                                 0   \n",
      "198                                                 0   \n",
      "199                                                 0   \n",
      "200                                                 0   \n",
      "\n",
      "     RSPH1_GRCh37_21:43897435-43897435_Silent_SNP_C-C-T  \\\n",
      "0                                                    1    \n",
      "1                                                    0    \n",
      "2                                                    0    \n",
      "3                                                    0    \n",
      "6                                                    0    \n",
      "..                                                 ...    \n",
      "196                                                  0    \n",
      "197                                                  0    \n",
      "198                                                  0    \n",
      "199                                                  0    \n",
      "200                                                  0    \n",
      "\n",
      "     APC_GRCh37_5:112174117-112174117_Frame-Shift-Del_DEL_T-T--  \\\n",
      "0                                                    1            \n",
      "1                                                    0            \n",
      "2                                                    0            \n",
      "3                                                    0            \n",
      "6                                                    0            \n",
      "..                                                 ...            \n",
      "196                                                  0            \n",
      "197                                                  0            \n",
      "198                                                  0            \n",
      "199                                                  0            \n",
      "200                                                  0            \n",
      "\n",
      "     HDAC9_GRCh37_7:18767220-18767220_Silent_SNP_G-G-A  \\\n",
      "0                                                    1   \n",
      "1                                                    0   \n",
      "2                                                    0   \n",
      "3                                                    0   \n",
      "6                                                    0   \n",
      "..                                                 ...   \n",
      "196                                                  0   \n",
      "197                                                  0   \n",
      "198                                                  0   \n",
      "199                                                  0   \n",
      "200                                                  0   \n",
      "\n",
      "     THYN1_GRCh37_11:134121181-134121181_Missense-Mutation_SNP_C-C-T  \\\n",
      "0                                                    0                 \n",
      "1                                                    1                 \n",
      "2                                                    0                 \n",
      "3                                                    0                 \n",
      "6                                                    0                 \n",
      "..                                                 ...                 \n",
      "196                                                  0                 \n",
      "197                                                  0                 \n",
      "198                                                  0                 \n",
      "199                                                  0                 \n",
      "200                                                  0                 \n",
      "\n",
      "     TENM4_GRCh37_11:78383150-78383150_Silent_SNP_G-G-A  ...  \\\n",
      "0                                                    0   ...   \n",
      "1                                                    1   ...   \n",
      "2                                                    0   ...   \n",
      "3                                                    0   ...   \n",
      "6                                                    0   ...   \n",
      "..                                                 ...   ...   \n",
      "196                                                  0   ...   \n",
      "197                                                  0   ...   \n",
      "198                                                  0   ...   \n",
      "199                                                  0   ...   \n",
      "200                                                  0   ...   \n",
      "\n",
      "     C6orf120_GRCh37_6:170105213-170105213_3'UTR_DEL_T-T--  \\\n",
      "0                                                    0       \n",
      "1                                                    0       \n",
      "2                                                    0       \n",
      "3                                                    0       \n",
      "6                                                    0       \n",
      "..                                                 ...       \n",
      "196                                                  0       \n",
      "197                                                  0       \n",
      "198                                                  0       \n",
      "199                                                  0       \n",
      "200                                                  0       \n",
      "\n",
      "     FAM19A1_GRCh37_3:68593863-68593863_3'UTR_DEL_A-A--  \\\n",
      "0                                                    0    \n",
      "1                                                    0    \n",
      "2                                                    0    \n",
      "3                                                    0    \n",
      "6                                                    0    \n",
      "..                                                 ...    \n",
      "196                                                  0    \n",
      "197                                                  0    \n",
      "198                                                  0    \n",
      "199                                                  0    \n",
      "200                                                  0    \n",
      "\n",
      "     ABHD2_GRCh37_15:89744315-89744315_3'UTR_DEL_A-A--  \\\n",
      "0                                                    0   \n",
      "1                                                    0   \n",
      "2                                                    0   \n",
      "3                                                    0   \n",
      "6                                                    0   \n",
      "..                                                 ...   \n",
      "196                                                  0   \n",
      "197                                                  0   \n",
      "198                                                  0   \n",
      "199                                                  0   \n",
      "200                                                  0   \n",
      "\n",
      "     ATN1_GRCh37_12:7051003-7051003_3'UTR_DEL_C-C--  \\\n",
      "0                                                 0   \n",
      "1                                                 0   \n",
      "2                                                 0   \n",
      "3                                                 0   \n",
      "6                                                 0   \n",
      "..                                              ...   \n",
      "196                                               0   \n",
      "197                                               0   \n",
      "198                                               0   \n",
      "199                                               0   \n",
      "200                                               0   \n",
      "\n",
      "     SOX11_GRCh37_2:5840844-5840844_3'UTR_SNP_C-C-T  \\\n",
      "0                                                 0   \n",
      "1                                                 0   \n",
      "2                                                 0   \n",
      "3                                                 0   \n",
      "6                                                 0   \n",
      "..                                              ...   \n",
      "196                                               0   \n",
      "197                                               0   \n",
      "198                                               0   \n",
      "199                                               1   \n",
      "200                                               0   \n",
      "\n",
      "     ZNF146_GRCh37_19:36728653-36728653_3'UTR_DEL_A-A--  \\\n",
      "0                                                    0    \n",
      "1                                                    0    \n",
      "2                                                    0    \n",
      "3                                                    0    \n",
      "6                                                    0    \n",
      "..                                                 ...    \n",
      "196                                                  0    \n",
      "197                                                  0    \n",
      "198                                                  0    \n",
      "199                                                  0    \n",
      "200                                                  0    \n",
      "\n",
      "     ZNRF3_GRCh37_22:29449693-29449693_3'UTR_SNP_T-T-A  \\\n",
      "0                                                    0   \n",
      "1                                                    0   \n",
      "2                                                    0   \n",
      "3                                                    0   \n",
      "6                                                    0   \n",
      "..                                                 ...   \n",
      "196                                                  0   \n",
      "197                                                  0   \n",
      "198                                                  0   \n",
      "199                                                  0   \n",
      "200                                                  0   \n",
      "\n",
      "     ZNF829_GRCh37_19:37382346-37382346_3'UTR_DEL_A-A--  \\\n",
      "0                                                    0    \n",
      "1                                                    0    \n",
      "2                                                    0    \n",
      "3                                                    0    \n",
      "6                                                    0    \n",
      "..                                                 ...    \n",
      "196                                                  0    \n",
      "197                                                  0    \n",
      "198                                                  0    \n",
      "199                                                  0    \n",
      "200                                                  0    \n",
      "\n",
      "     DOCK8_GRCh37_9:464237-464237_3'UTR_SNP_C-C-T  \\\n",
      "0                                               0   \n",
      "1                                               0   \n",
      "2                                               0   \n",
      "3                                               0   \n",
      "6                                               0   \n",
      "..                                            ...   \n",
      "196                                             0   \n",
      "197                                             0   \n",
      "198                                             0   \n",
      "199                                             1   \n",
      "200                                             0   \n",
      "\n",
      "     TLL1_GRCh37_4:167022090-167022090_3'UTR_SNP_T-T-A  \n",
      "0                                                    0  \n",
      "1                                                    0  \n",
      "2                                                    0  \n",
      "3                                                    0  \n",
      "6                                                    0  \n",
      "..                                                 ...  \n",
      "196                                                  0  \n",
      "197                                                  0  \n",
      "198                                                  0  \n",
      "199                                                  0  \n",
      "200                                                  0  \n",
      "\n",
      "[168 rows x 1145 columns]\n"
     ]
    }
   ],
   "source": [
    "# filter out a df of only the samples in Group B\n",
    "df_group_B = df[df[identifier_col].isin(group_B)]\n",
    "print(df_group_B)"
   ]
  },
  {
   "cell_type": "code",
   "execution_count": 37,
   "id": "e6605450",
   "metadata": {},
   "outputs": [
    {
     "data": {
      "text/plain": [
       "KRAS_GRCh37_12:25398284-25398284_Missense-Mutation_SNP_C-C-A_C-C-T_C-C-G    8\n",
       "KRAS_GRCh37_12:25398281-25398281_Missense-Mutation_SNP_C-C-T                7\n",
       "APC_GRCh37_5:112175951-112175952_Frame-Shift-Ins_INS_----A                  5\n",
       "APC_GRCh37_5:112175639-112175639_Nonsense-Mutation_SNP_C-C-T                4\n",
       "QKI_GRCh37_6:163987695-163987695_Intron_DEL_T-T--                           4\n",
       "APC_GRCh37_5:112116592-112116592_Nonsense-Mutation_SNP_C-C-T                4\n",
       "PIK3CA_GRCh37_3:178936082-178936082_Missense-Mutation_SNP_G-G-A             4\n",
       "RAB28_GRCh37_4:13485808-13485808_5'UTR_DEL_G-G--                            3\n",
       "HCRTR2_GRCh37_6:55145214-55145214_Silent_SNP_G-G-A                          3\n",
       "TP53_GRCh37_17:7577548-7577548_Missense-Mutation_SNP_C-C-T                  3\n",
       "dtype: int64"
      ]
     },
     "execution_count": 37,
     "metadata": {},
     "output_type": "execute_result"
    }
   ],
   "source": [
    "tp_B_list = []\n",
    "fp_B_list = []\n",
    "for feature in features:\n",
    "    prediction_B = df_group_B.loc[:, feature]\n",
    "    actual_B = df_group_B[identifier_col].str.match(r'^C\\d+$').astype(int)\n",
    "    \n",
    "    true_positive_B = ((prediction_B == 1) & (actual_B == 1)).sum()\n",
    "    false_positive_B = ((prediction_B == 1) & (actual_B == 0)).sum()\n",
    "    \n",
    "    tp_B_list.append(true_positive_B)\n",
    "    fp_B_list.append(false_positive_B)\n",
    "tp_B_arr = np.array(tp_B_list)\n",
    "fp_B_arr = np.array(fp_B_list)\n",
    "tp_minus_fp_B = tp_B_arr - fp_B_arr\n",
    "sorted_tp_minus_fp_B = pd.Series(tp_minus_fp_B, index=features).sort_values(ascending=False)\n",
    "sorted_tp_minus_fp_B.head(10)"
   ]
  },
  {
   "cell_type": "code",
   "execution_count": 38,
   "id": "5768819d",
   "metadata": {},
   "outputs": [
    {
     "name": "stdout",
     "output_type": "stream",
     "text": [
      "Most Helpful feature in Group B: KRAS_GRCh37_12:25398284-25398284_Missense-Mutation_SNP_C-C-A_C-C-T_C-C-G with TP - FP = 8\n",
      "                   Predicted Cancer  Predicted Non-Cancer\n",
      "Actual Cancer                    25                    51\n",
      "Actual Non-Cancer                17                    75\n"
     ]
    }
   ],
   "source": [
    "# Confusion Matrix for the Most Helpful feature in Group B\n",
    "most_helpful_feature_B = sorted_tp_minus_fp_B.index[0]\n",
    "print(f\"Most Helpful feature in Group B: {most_helpful_feature_B} with TP - FP = {sorted_tp_minus_fp_B[most_helpful_feature_B]}\")\n",
    "actual_B = df_group_B[identifier_col].str.match(r'^C\\d+$').astype(int)\n",
    "true_negative_B_most = ((df_group_B[most_helpful_feature_B] == 0) & (actual_B ==0)).sum()\n",
    "false_positive_B_most = ((df_group_B[most_helpful_feature_B] == 1) & (actual_B ==0)).sum()\n",
    "false_negative_B_most = ((df_group_B[most_helpful_feature_B] == 0) & (actual_B ==1)).sum()\n",
    "true_positive_B_most = ((df_group_B[most_helpful_feature_B] == 1) & (actual_B ==1)).sum()\n",
    "\n",
    "conf_matrix_B_most = pd.DataFrame({\n",
    "    'Predicted Cancer': [true_positive_B_most, false_positive_B_most],\n",
    "    'Predicted Non-Cancer': [false_negative_B_most, true_negative_B_most]\n",
    "}, index=['Actual Cancer', 'Actual Non-Cancer'])\n",
    "print(conf_matrix_B_most)"
   ]
  },
  {
   "cell_type": "code",
   "execution_count": 48,
   "id": "0e8aef71",
   "metadata": {},
   "outputs": [
    {
     "data": {
      "text/plain": [
       "'tree.png'"
      ]
     },
     "execution_count": 48,
     "metadata": {},
     "output_type": "execute_result"
    }
   ],
   "source": [
    "# Create Decision Tree Classifier\n",
    "from graphviz import  Digraph\n",
    "\n",
    "dot = Digraph()\n",
    "\n",
    "# Root node\n",
    "dot.node(\"A\", most_helpful_feature)\n",
    "\n",
    "# Left child\n",
    "dot.node(\"B\", most_helpful_feature_A)\n",
    "dot.edge(\"A\", \"B\", label=\"Yes\")\n",
    "\n",
    "# Right child\n",
    "dot.node(\"C\", most_helpful_feature_B)\n",
    "dot.edge(\"A\", \"C\", label=\"No\")\n",
    "\n",
    "# Leaves\n",
    "dot.node(\"D\", \"Class A1 (C)\", shape=\"box\")\n",
    "dot.edge(\"B\", \"D\", label=\"Yes\")\n",
    "\n",
    "dot.node(\"E\", \"Class A2 (NC)\", shape=\"box\")\n",
    "dot.edge(\"B\", \"E\", label=\"No\")\n",
    "\n",
    "dot.node(\"F\", \"Class B1 (C)\", shape=\"box\")\n",
    "dot.edge(\"C\", \"F\", label=\"Yes\")\n",
    "\n",
    "dot.node(\"G\", \"Class B2 (NC)\", shape=\"box\")\n",
    "dot.edge(\"C\", \"G\", label=\"No\")\n",
    "\n",
    "dot.render(\"tree\", format=\"png\", cleanup=True)"
   ]
  },
  {
   "cell_type": "markdown",
   "id": "a7bbbdc7",
   "metadata": {},
   "source": [
    "Classification rule:\n",
    "For sample S\n",
    "if S has mutation most_helpful_feature (BRAF_GRCh37_7:140453136-140453136_Missense-Mutation_SNP_A-A-T) then\n",
    "    if S has mutation most_helpful_feature_A (DRD5_GRCh37_4:9785349-9785349_3'UTR_SNP_G-G-C)\n",
    "    then classify S as C\n",
    "    else classify S as NC\n",
    "else\n",
    "    if S has mutation most_helpful_feature_B (KRAS_GRCh37_12:25398284-25398284_Missense-Mutation_SNP_C-C-A_C-C-T_C-C-G)\n",
    "    then classify S as C\n",
    "    else classify S as NC"
   ]
  },
  {
   "cell_type": "code",
   "execution_count": 49,
   "id": "c9519667",
   "metadata": {},
   "outputs": [],
   "source": [
    "# Classify function\n",
    "def classify_sample(sample_row):\n",
    "    if sample_row[most_helpful_feature] == 1:\n",
    "        if sample_row[most_helpful_feature_A] == 1:\n",
    "            return 'C'  # Class A1\n",
    "        else:\n",
    "            return 'NC'  # Class A2\n",
    "    else:\n",
    "        if sample_row[most_helpful_feature_B] == 1:\n",
    "            return 'C'  # Class B1\n",
    "        else:\n",
    "            return 'NC'  # Class B2"
   ]
  },
  {
   "cell_type": "code",
   "execution_count": 50,
   "id": "05dd7e1b",
   "metadata": {},
   "outputs": [
    {
     "name": "stdout",
     "output_type": "stream",
     "text": [
      "Sample C1 is classified as: C\n",
      "Sample C10 is classified as: NC\n",
      "Sample C30 is classified as: NC\n",
      "Sample NC5 is classified as: C\n",
      "Sample NC15 is classified as: NC\n"
     ]
    }
   ],
   "source": [
    "# classify the following samples C1, C10, C30, NC5, NC15\n",
    "samples_to_classify = ['C1', 'C10', 'C30', 'NC5', 'NC15']\n",
    "for sample_id in samples_to_classify:\n",
    "    sample_row = df[df[identifier_col] == sample_id].iloc[0]\n",
    "    classification = classify_sample(sample_row)\n",
    "    print(f\"Sample {sample_id} is classified as: {classification}\")"
   ]
  }
 ],
 "metadata": {
  "kernelspec": {
   "display_name": "4170env",
   "language": "python",
   "name": "python3"
  },
  "language_info": {
   "codemirror_mode": {
    "name": "ipython",
    "version": 3
   },
   "file_extension": ".py",
   "mimetype": "text/x-python",
   "name": "python",
   "nbconvert_exporter": "python",
   "pygments_lexer": "ipython3",
   "version": "3.10.12"
  }
 },
 "nbformat": 4,
 "nbformat_minor": 5
}
