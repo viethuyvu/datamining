{
 "cells": [
  {
   "cell_type": "code",
   "execution_count": null,
   "id": "808fa99f",
   "metadata": {},
   "outputs": [],
   "source": [
    "# Library \n",
    "import pandas as pd"
   ]
  },
  {
   "cell_type": "markdown",
   "id": "65d10c11",
   "metadata": {},
   "source": [
    "# Activity 1-4"
   ]
  },
  {
   "cell_type": "code",
   "execution_count": null,
   "id": "4ff1e1b5",
   "metadata": {},
   "outputs": [],
   "source": [
    "# Load data\n",
    "df = pd.read_csv('./data/mutationc.csv')"
   ]
  },
  {
   "cell_type": "code",
   "execution_count": null,
   "id": "07870844",
   "metadata": {},
   "outputs": [
    {
     "name": "stdout",
     "output_type": "stream",
     "text": [
      "0      0\n",
      "1      0\n",
      "2      0\n",
      "3      0\n",
      "4      1\n",
      "      ..\n",
      "196    0\n",
      "197    0\n",
      "198    0\n",
      "199    1\n",
      "200    0\n",
      "Name: Unnamed: 0, Length: 201, dtype: int64\n"
     ]
    }
   ],
   "source": [
    "# Create actual labels: 1 for Cancer (C...), 0 for Non-Cancer (N...)\n",
    "identifier_col = df.columns[0]\n",
    "actual = df[identifier_col].str.match(r'^C\\d+$').astype(int)  # 1 for Cancer, 0 for Non-Cancer\n",
    "print(actual)"
   ]
  },
  {
   "cell_type": "markdown",
   "id": "fbf03c53",
   "metadata": {},
   "source": [
    "# Activity 5"
   ]
  },
  {
   "cell_type": "code",
   "execution_count": null,
   "id": "87bf3e6a",
   "metadata": {},
   "outputs": [],
   "source": [
    "# Calculate accuracy for each feature\n"
   ]
  }
 ],
 "metadata": {
  "kernelspec": {
   "display_name": "4170env",
   "language": "python",
   "name": "python3"
  },
  "language_info": {
   "codemirror_mode": {
    "name": "ipython",
    "version": 3
   },
   "file_extension": ".py",
   "mimetype": "text/x-python",
   "name": "python",
   "nbconvert_exporter": "python",
   "pygments_lexer": "ipython3",
   "version": "3.10.12"
  }
 },
 "nbformat": 4,
 "nbformat_minor": 5
}
