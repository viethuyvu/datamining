{
 "cells": [
  {
   "cell_type": "code",
   "execution_count": 1,
   "id": "c91ad9c7-8fff-4f47-8ddf-cbff198e2ceb",
   "metadata": {},
   "outputs": [],
   "source": [
    "import pandas as pd\n",
    "\n",
    "df = pd.read_csv('./data/mutationc.csv')\n"
   ]
  },
  {
   "cell_type": "code",
   "execution_count": 2,
   "id": "67e825b6-e6a1-4706-950a-24765703585f",
   "metadata": {},
   "outputs": [
    {
     "name": "stdout",
     "output_type": "stream",
     "text": [
      "Number of unique mutations: 1144\n"
     ]
    }
   ],
   "source": [
    "# Number of unique mutations contained in the data file\n",
    "print(f\"Number of unique mutations: {df.shape[1]-1}\") #Exclude the column for sample identifier"
   ]
  },
  {
   "cell_type": "code",
   "execution_count": 6,
   "id": "35c886c5-e572-413e-a484-00b210d07dff",
   "metadata": {},
   "outputs": [
    {
     "name": "stdout",
     "output_type": "stream",
     "text": [
      "Number of samples: 201\n"
     ]
    }
   ],
   "source": [
    "# Number of individual samples contained in the data file\n",
    "sample_num = df.shape[0]\n",
    "print(f\"Number of samples: {sample_num}\")"
   ]
  },
  {
   "cell_type": "code",
   "execution_count": 4,
   "id": "13174796-0541-46f0-a10a-c43e5e8cabeb",
   "metadata": {},
   "outputs": [
    {
     "name": "stdout",
     "output_type": "stream",
     "text": [
      "Number of mutations for individual C1: 46\n"
     ]
    }
   ],
   "source": [
    "# Number of mutations for individual C1\n",
    "c1_row = df[df.iloc[:, 0] == 'C1'].iloc[0, 1:]  # Select row for C1, exclude identifier column\n",
    "num_mutations_c1 = (c1_row == 1).sum()\n",
    "print(f\"Number of mutations for individual C1: {num_mutations_c1}\")"
   ]
  },
  {
   "cell_type": "code",
   "execution_count": 5,
   "id": "612e4565-e56f-4fb2-abfc-310e57b10d50",
   "metadata": {},
   "outputs": [
    {
     "name": "stdout",
     "output_type": "stream",
     "text": [
      "Number of mutations for individual NC1: 6\n"
     ]
    }
   ],
   "source": [
    "# Number of mutations for individual NC1\n",
    "nc1_row = df[df.iloc[:,0]=='NC1'].iloc[0,1:] # Select row for NC1, exclude identifier column\n",
    "num_mutations_nc1 = (nc1_row == 1).sum()\n",
    "print(f\"Number of mutations for individual NC1: {num_mutations_nc1}\")"
   ]
  },
  {
   "cell_type": "code",
   "execution_count": 10,
   "id": "0b23a2be-1c39-4990-9dde-d2386ac25441",
   "metadata": {},
   "outputs": [
    {
     "name": "stdout",
     "output_type": "stream",
     "text": [
      "Average number of mutations per individual: 15.10\n"
     ]
    }
   ],
   "source": [
    "# The average number of mutations per individual\n",
    "mutation_data = df.iloc[:,1:]\n",
    "total_mutations = (mutation_data==1).sum().sum()\n",
    "avg_mutations_per_individual = total_mutations/sample_num\n",
    "print(f\"Average number of mutations per individual: {avg_mutations_per_individual:.2f}\")"
   ]
  },
  {
   "cell_type": "code",
   "execution_count": null,
   "id": "0558307e-3190-4e86-9b79-d4c0bd21ccaf",
   "metadata": {},
   "outputs": [],
   "source": []
  }
 ],
 "metadata": {
  "kernelspec": {
   "display_name": "Python 3 (ipykernel)",
   "language": "python",
   "name": "python3"
  },
  "language_info": {
   "codemirror_mode": {
    "name": "ipython",
    "version": 3
   },
   "file_extension": ".py",
   "mimetype": "text/x-python",
   "name": "python",
   "nbconvert_exporter": "python",
   "pygments_lexer": "ipython3",
   "version": "3.10.12"
  }
 },
 "nbformat": 4,
 "nbformat_minor": 5
}
