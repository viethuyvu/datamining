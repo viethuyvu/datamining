{
 "cells": [
  {
   "cell_type": "code",
   "execution_count": 2,
   "id": "c91ad9c7-8fff-4f47-8ddf-cbff198e2ceb",
   "metadata": {},
   "outputs": [],
   "source": [
    "import pandas as pd\n",
    "\n",
    "df = pd.read_csv('./data/mutationc.csv')\n"
   ]
  },
  {
   "cell_type": "code",
   "execution_count": 12,
   "id": "67e825b6-e6a1-4706-950a-24765703585f",
   "metadata": {},
   "outputs": [
    {
     "name": "stdout",
     "output_type": "stream",
     "text": [
      "Number of unique mutations: 1144\n"
     ]
    }
   ],
   "source": [
    "# Number of unique mutations contained in the data file\n",
    "number_of_unique_mutations = df.columns[1:].shape[0]  # Exclude the first column which is the sample identifier\n",
    "print(f\"Number of unique mutations: {number_of_unique_mutations}\") #Exclude the column for sample identifier"
   ]
  },
  {
   "cell_type": "code",
   "execution_count": 4,
   "id": "35c886c5-e572-413e-a484-00b210d07dff",
   "metadata": {},
   "outputs": [
    {
     "name": "stdout",
     "output_type": "stream",
     "text": [
      "Number of samples: 201\n"
     ]
    }
   ],
   "source": [
    "# Number of individual samples contained in the data file\n",
    "sample_num = df.shape[0]\n",
    "print(f\"Number of samples: {sample_num}\")"
   ]
  },
  {
   "cell_type": "code",
   "execution_count": 5,
   "id": "13174796-0541-46f0-a10a-c43e5e8cabeb",
   "metadata": {},
   "outputs": [
    {
     "name": "stdout",
     "output_type": "stream",
     "text": [
      "Number of mutations for individual C1: 46\n"
     ]
    }
   ],
   "source": [
    "# Number of mutations for individual C1\n",
    "c1_row = df[df.iloc[:, 0] == 'C1'].iloc[0, 1:]  # Select row for C1, exclude identifier column\n",
    "num_mutations_c1 = (c1_row == 1).sum()\n",
    "print(f\"Number of mutations for individual C1: {num_mutations_c1}\")"
   ]
  },
  {
   "cell_type": "code",
   "execution_count": 6,
   "id": "612e4565-e56f-4fb2-abfc-310e57b10d50",
   "metadata": {},
   "outputs": [
    {
     "name": "stdout",
     "output_type": "stream",
     "text": [
      "Number of mutations for individual NC1: 6\n"
     ]
    }
   ],
   "source": [
    "# Number of mutations for individual NC1\n",
    "nc1_row = df[df.iloc[:,0]=='NC1'].iloc[0,1:] # Select row for NC1, exclude identifier column\n",
    "num_mutations_nc1 = (nc1_row == 1).sum()\n",
    "print(f\"Number of mutations for individual NC1: {num_mutations_nc1}\")"
   ]
  },
  {
   "cell_type": "code",
   "execution_count": 10,
   "id": "0b23a2be-1c39-4990-9dde-d2386ac25441",
   "metadata": {},
   "outputs": [
    {
     "name": "stdout",
     "output_type": "stream",
     "text": [
      "Average number of mutations per individual: 15.10\n"
     ]
    }
   ],
   "source": [
    "# The average number of mutations per individual\n",
    "mutation_data = df.iloc[:,1:] #data excluding classifier\n",
    "total_mutations = (mutation_data==1).sum(axis=1).sum()\n",
    "avg_mutations_per_individual = total_mutations/sample_num\n",
    "print(f\"Average number of mutations per individual: {avg_mutations_per_individual:.2f}\")"
   ]
  },
  {
   "cell_type": "code",
   "execution_count": 8,
   "id": "0558307e-3190-4e86-9b79-d4c0bd21ccaf",
   "metadata": {},
   "outputs": [
    {
     "name": "stdout",
     "output_type": "stream",
     "text": [
      "Maximum number of mutations is 204 for individual C0\n",
      "Minimum number of mutations is 1 for individual NC4\n"
     ]
    }
   ],
   "source": [
    "#The minimum and maximum number of mutations per individual\n",
    "mutation_counts = (mutation_data==1).sum(axis=1)\n",
    "max_idx = mutation_counts.idxmax()\n",
    "min_idx = mutation_counts.idxmin()\n",
    "\n",
    "max_id = df.iloc[max_idx,0]\n",
    "min_id = df.iloc[min_idx,0]\n",
    "\n",
    "print(f\"Maximum number of mutations is {mutation_counts[max_idx]} for individual {max_id}\")\n",
    "print(f\"Minimum number of mutations is {mutation_counts[min_idx]} for individual {min_id}\")"
   ]
  },
  {
   "cell_type": "code",
   "execution_count": 9,
   "id": "49b9b2e2-6538-405d-879c-2c6f824de367",
   "metadata": {},
   "outputs": [
    {
     "name": "stdout",
     "output_type": "stream",
     "text": [
      "Number of individuals with a mutation in the ‘BRAF’ gene: 33\n"
     ]
    }
   ],
   "source": [
    "# Number of individuals who have a mutation in the ‘BRAF’ gene\n",
    "braf_cols = df.columns[df.columns.str.contains('BRAF')]\n",
    "num_braf_mutations = (df[braf_cols] == 1).sum(axis=1)\n",
    "num_individuals_braf = (num_braf_mutations > 0).sum()\n",
    "print(f\"Number of individuals with a mutation in the ‘BRAF’ gene: {num_individuals_braf}\")"
   ]
  },
  {
   "cell_type": "code",
   "execution_count": 11,
   "id": "89a160e9",
   "metadata": {},
   "outputs": [
    {
     "name": "stdout",
     "output_type": "stream",
     "text": [
      "Number of individuals with a mutation in the ‘KRAS’ gene: 72\n"
     ]
    }
   ],
   "source": [
    "# Number of individuals who have a mutation in the ‘KRAS’ gene\n",
    "kras_cols = df.columns[df.columns.str.contains('KRAS')]\n",
    "num_kras_mutations = (df[kras_cols] == 1).sum(axis=1)\n",
    "num_individuals_kras = (num_kras_mutations > 0).sum()\n",
    "print(f\"Number of individuals with a mutation in the ‘KRAS’ gene: {num_individuals_kras}\")\n"
   ]
  },
  {
   "cell_type": "code",
   "execution_count": 13,
   "id": "e0751537",
   "metadata": {},
   "outputs": [
    {
     "name": "stdout",
     "output_type": "stream",
     "text": [
      "Average number of individuals per mutation: 2.65\n"
     ]
    }
   ],
   "source": [
    "# The average number of individuals per mutation\n",
    "avg_individuals_per_mutation = total_mutations/number_of_unique_mutations\n",
    "print(f\"Average number of individuals per mutation: {avg_individuals_per_mutation:.2f}\")\n"
   ]
  },
  {
   "cell_type": "code",
   "execution_count": 18,
   "id": "072d4755",
   "metadata": {},
   "outputs": [
    {
     "name": "stdout",
     "output_type": "stream",
     "text": [
      "Minimum number of individuals for a mutation: 1 (HEPACAM_GRCh37_11:124794736-124794736_Silent_SNP_G-G-A_G-G-T)\n",
      "Maximum number of individuals for a mutation: 42 (KRAS_GRCh37_12:25398284-25398284_Missense-Mutation_SNP_C-C-A_C-C-T_C-C-G)\n"
     ]
    }
   ],
   "source": [
    "# The minimum and maximum number of individuals per mutation\n",
    "mutation_counts_col = (mutation_data == 1).sum(axis=0)\n",
    "min_individuals_per_mutation = mutation_counts_col.min()\n",
    "max_individuals_per_mutation = mutation_counts_col.max()\n",
    "min_mutation_name = mutation_counts_col.idxmin()\n",
    "max_mutation_name = mutation_counts_col.idxmax()\n",
    "\n",
    "print(f\"Minimum number of individuals for a mutation: {min_individuals_per_mutation} ({min_mutation_name})\")\n",
    "print(f\"Maximum number of individuals for a mutation: {max_individuals_per_mutation} ({max_mutation_name})\")"
   ]
  }
 ],
 "metadata": {
  "kernelspec": {
   "display_name": "Python 3",
   "language": "python",
   "name": "python3"
  },
  "language_info": {
   "codemirror_mode": {
    "name": "ipython",
    "version": 3
   },
   "file_extension": ".py",
   "mimetype": "text/x-python",
   "name": "python",
   "nbconvert_exporter": "python",
   "pygments_lexer": "ipython3",
   "version": "3.10.12"
  }
 },
 "nbformat": 4,
 "nbformat_minor": 5
}
